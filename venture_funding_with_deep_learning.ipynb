{
 "cells": [
  {
   "cell_type": "markdown",
   "metadata": {},
   "source": [
    "# Venture Funding with Deep Learning\n",
    "\n",
    "You work as a risk management associate at Alphabet Soup, a venture capital firm. Alphabet Soup’s business team receives many funding applications from startups every day. This team has asked you to help them create a model that predicts whether applicants will be successful if funded by Alphabet Soup.\n",
    "\n",
    "The business team has given you a CSV containing more than 34,000 organizations that have received funding from Alphabet Soup over the years. With your knowledge of machine learning and neural networks, you decide to use the features in the provided dataset to create a binary classifier model that will predict whether an applicant will become a successful business. The CSV file contains a variety of information about these businesses, including whether or not they ultimately became successful.\n",
    "\n",
    "## Instructions:\n",
    "\n",
    "The steps for this challenge are broken out into the following sections:\n",
    "\n",
    "* Prepare the data for use on a neural network model.\n",
    "\n",
    "* Compile and evaluate a binary classification model using a neural network.\n",
    "\n",
    "* Optimize the neural network model.\n",
    "\n",
    "### Prepare the Data for Use on a Neural Network Model \n",
    "\n",
    "Using your knowledge of Pandas and scikit-learn’s `StandardScaler()`, preprocess the dataset so that you can use it to compile and evaluate the neural network model later.\n",
    "\n",
    "Open the starter code file, and complete the following data preparation steps:\n",
    "\n",
    "1. Read the `applicants_data.csv` file into a Pandas DataFrame. Review the DataFrame, looking for categorical variables that will need to be encoded, as well as columns that could eventually define your features and target variables.   \n",
    "\n",
    "2. Drop the “EIN” (Employer Identification Number) and “NAME” columns from the DataFrame, because they are not relevant to the binary classification model.\n",
    " \n",
    "3. Encode the dataset’s categorical variables using `OneHotEncoder`, and then place the encoded variables into a new DataFrame.\n",
    "\n",
    "4. Add the original DataFrame’s numerical variables to the DataFrame containing the encoded variables.\n",
    "\n",
    "> **Note** To complete this step, you will employ the Pandas `concat()` function that was introduced earlier in this course. \n",
    "\n",
    "5. Using the preprocessed data, create the features (`X`) and target (`y`) datasets. The target dataset should be defined by the preprocessed DataFrame column “IS_SUCCESSFUL”. The remaining columns should define the features dataset. \n",
    "\n",
    "6. Split the features and target sets into training and testing datasets.\n",
    "\n",
    "7. Use scikit-learn's `StandardScaler` to scale the features data.\n",
    "\n",
    "### Compile and Evaluate a Binary Classification Model Using a Neural Network\n",
    "\n",
    "Use your knowledge of TensorFlow to design a binary classification deep neural network model. This model should use the dataset’s features to predict whether an Alphabet Soup&ndash;funded startup will be successful based on the features in the dataset. Consider the number of inputs before determining the number of layers that your model will contain or the number of neurons on each layer. Then, compile and fit your model. Finally, evaluate your binary classification model to calculate the model’s loss and accuracy. \n",
    " \n",
    "To do so, complete the following steps:\n",
    "\n",
    "1. Create a deep neural network by assigning the number of input features, the number of layers, and the number of neurons on each layer using Tensorflow’s Keras.\n",
    "\n",
    "> **Hint** You can start with a two-layer deep neural network model that uses the `relu` activation function for both layers.\n",
    "\n",
    "2. Compile and fit the model using the `binary_crossentropy` loss function, the `adam` optimizer, and the `accuracy` evaluation metric.\n",
    "\n",
    "> **Hint** When fitting the model, start with a small number of epochs, such as 20, 50, or 100.\n",
    "\n",
    "3. Evaluate the model using the test data to determine the model’s loss and accuracy.\n",
    "\n",
    "4. Save and export your model to an HDF5 file, and name the file `AlphabetSoup.h5`. \n",
    "\n",
    "### Optimize the Neural Network Model\n",
    "\n",
    "Using your knowledge of TensorFlow and Keras, optimize your model to improve the model's accuracy. Even if you do not successfully achieve a better accuracy, you'll need to demonstrate at least two attempts to optimize the model. You can include these attempts in your existing notebook. Or, you can make copies of the starter notebook in the same folder, rename them, and code each model optimization in a new notebook. \n",
    "\n",
    "> **Note** You will not lose points if your model does not achieve a high accuracy, as long as you make at least two attempts to optimize the model.\n",
    "\n",
    "To do so, complete the following steps:\n",
    "\n",
    "1. Define at least three new deep neural network models (the original plus 2 optimization attempts). With each, try to improve on your first model’s predictive accuracy.\n",
    "\n",
    "> **Rewind** Recall that perfect accuracy has a value of 1, so accuracy improves as its value moves closer to 1. To optimize your model for a predictive accuracy as close to 1 as possible, you can use any or all of the following techniques:\n",
    ">\n",
    "> * Adjust the input data by dropping different features columns to ensure that no variables or outliers confuse the model.\n",
    ">\n",
    "> * Add more neurons (nodes) to a hidden layer.\n",
    ">\n",
    "> * Add more hidden layers.\n",
    ">\n",
    "> * Use different activation functions for the hidden layers.\n",
    ">\n",
    "> * Add to or reduce the number of epochs in the training regimen.\n",
    "\n",
    "2. After finishing your models, display the accuracy scores achieved by each model, and compare the results.\n",
    "\n",
    "3. Save each of your models as an HDF5 file.\n"
   ]
  },
  {
   "cell_type": "code",
   "execution_count": 172,
   "metadata": {},
   "outputs": [],
   "source": [
    "# Imports\n",
    "import pandas as pd\n",
    "from pathlib import Path\n",
    "import tensorflow as tf\n",
    "from tensorflow.keras.layers import Dense\n",
    "from tensorflow.keras.models import Sequential\n",
    "from sklearn.model_selection import train_test_split\n",
    "from sklearn.preprocessing import StandardScaler,OneHotEncoder"
   ]
  },
  {
   "cell_type": "markdown",
   "metadata": {},
   "source": [
    "---\n",
    "\n",
    "## Prepare the data to be used on a neural network model"
   ]
  },
  {
   "cell_type": "markdown",
   "metadata": {},
   "source": [
    "### Step 1: Read the `applicants_data.csv` file into a Pandas DataFrame. Review the DataFrame, looking for categorical variables that will need to be encoded, as well as columns that could eventually define your features and target variables.  \n"
   ]
  },
  {
   "cell_type": "code",
   "execution_count": 173,
   "metadata": {},
   "outputs": [
    {
     "data": {
      "text/html": [
       "<div>\n",
       "<style scoped>\n",
       "    .dataframe tbody tr th:only-of-type {\n",
       "        vertical-align: middle;\n",
       "    }\n",
       "\n",
       "    .dataframe tbody tr th {\n",
       "        vertical-align: top;\n",
       "    }\n",
       "\n",
       "    .dataframe thead th {\n",
       "        text-align: right;\n",
       "    }\n",
       "</style>\n",
       "<table border=\"1\" class=\"dataframe\">\n",
       "  <thead>\n",
       "    <tr style=\"text-align: right;\">\n",
       "      <th></th>\n",
       "      <th>EIN</th>\n",
       "      <th>NAME</th>\n",
       "      <th>APPLICATION_TYPE</th>\n",
       "      <th>AFFILIATION</th>\n",
       "      <th>CLASSIFICATION</th>\n",
       "      <th>USE_CASE</th>\n",
       "      <th>ORGANIZATION</th>\n",
       "      <th>STATUS</th>\n",
       "      <th>INCOME_AMT</th>\n",
       "      <th>SPECIAL_CONSIDERATIONS</th>\n",
       "      <th>ASK_AMT</th>\n",
       "      <th>IS_SUCCESSFUL</th>\n",
       "    </tr>\n",
       "  </thead>\n",
       "  <tbody>\n",
       "    <tr>\n",
       "      <th>0</th>\n",
       "      <td>10520599</td>\n",
       "      <td>BLUE KNIGHTS MOTORCYCLE CLUB</td>\n",
       "      <td>T10</td>\n",
       "      <td>Independent</td>\n",
       "      <td>C1000</td>\n",
       "      <td>ProductDev</td>\n",
       "      <td>Association</td>\n",
       "      <td>1</td>\n",
       "      <td>0</td>\n",
       "      <td>N</td>\n",
       "      <td>5000</td>\n",
       "      <td>1</td>\n",
       "    </tr>\n",
       "    <tr>\n",
       "      <th>1</th>\n",
       "      <td>10531628</td>\n",
       "      <td>AMERICAN CHESAPEAKE CLUB CHARITABLE TR</td>\n",
       "      <td>T3</td>\n",
       "      <td>Independent</td>\n",
       "      <td>C2000</td>\n",
       "      <td>Preservation</td>\n",
       "      <td>Co-operative</td>\n",
       "      <td>1</td>\n",
       "      <td>1-9999</td>\n",
       "      <td>N</td>\n",
       "      <td>108590</td>\n",
       "      <td>1</td>\n",
       "    </tr>\n",
       "    <tr>\n",
       "      <th>2</th>\n",
       "      <td>10547893</td>\n",
       "      <td>ST CLOUD PROFESSIONAL FIREFIGHTERS</td>\n",
       "      <td>T5</td>\n",
       "      <td>CompanySponsored</td>\n",
       "      <td>C3000</td>\n",
       "      <td>ProductDev</td>\n",
       "      <td>Association</td>\n",
       "      <td>1</td>\n",
       "      <td>0</td>\n",
       "      <td>N</td>\n",
       "      <td>5000</td>\n",
       "      <td>0</td>\n",
       "    </tr>\n",
       "    <tr>\n",
       "      <th>3</th>\n",
       "      <td>10553066</td>\n",
       "      <td>SOUTHSIDE ATHLETIC ASSOCIATION</td>\n",
       "      <td>T3</td>\n",
       "      <td>CompanySponsored</td>\n",
       "      <td>C2000</td>\n",
       "      <td>Preservation</td>\n",
       "      <td>Trust</td>\n",
       "      <td>1</td>\n",
       "      <td>10000-24999</td>\n",
       "      <td>N</td>\n",
       "      <td>6692</td>\n",
       "      <td>1</td>\n",
       "    </tr>\n",
       "    <tr>\n",
       "      <th>4</th>\n",
       "      <td>10556103</td>\n",
       "      <td>GENETIC RESEARCH INSTITUTE OF THE DESERT</td>\n",
       "      <td>T3</td>\n",
       "      <td>Independent</td>\n",
       "      <td>C1000</td>\n",
       "      <td>Heathcare</td>\n",
       "      <td>Trust</td>\n",
       "      <td>1</td>\n",
       "      <td>100000-499999</td>\n",
       "      <td>N</td>\n",
       "      <td>142590</td>\n",
       "      <td>1</td>\n",
       "    </tr>\n",
       "  </tbody>\n",
       "</table>\n",
       "</div>"
      ],
      "text/plain": [
       "        EIN                                      NAME APPLICATION_TYPE  \\\n",
       "0  10520599              BLUE KNIGHTS MOTORCYCLE CLUB              T10   \n",
       "1  10531628    AMERICAN CHESAPEAKE CLUB CHARITABLE TR               T3   \n",
       "2  10547893        ST CLOUD PROFESSIONAL FIREFIGHTERS               T5   \n",
       "3  10553066            SOUTHSIDE ATHLETIC ASSOCIATION               T3   \n",
       "4  10556103  GENETIC RESEARCH INSTITUTE OF THE DESERT               T3   \n",
       "\n",
       "        AFFILIATION CLASSIFICATION      USE_CASE  ORGANIZATION  STATUS  \\\n",
       "0       Independent          C1000    ProductDev   Association       1   \n",
       "1       Independent          C2000  Preservation  Co-operative       1   \n",
       "2  CompanySponsored          C3000    ProductDev   Association       1   \n",
       "3  CompanySponsored          C2000  Preservation         Trust       1   \n",
       "4       Independent          C1000     Heathcare         Trust       1   \n",
       "\n",
       "      INCOME_AMT SPECIAL_CONSIDERATIONS  ASK_AMT  IS_SUCCESSFUL  \n",
       "0              0                      N     5000              1  \n",
       "1         1-9999                      N   108590              1  \n",
       "2              0                      N     5000              0  \n",
       "3    10000-24999                      N     6692              1  \n",
       "4  100000-499999                      N   142590              1  "
      ]
     },
     "execution_count": 173,
     "metadata": {},
     "output_type": "execute_result"
    }
   ],
   "source": [
    "# Read the applicants_data.csv file from the Resources folder into a Pandas DataFrame\n",
    "applicant_data_df =  pd.read_csv(\n",
    "    Path('/Users/michaeldionne/Documents/GitHub/Fintech-Workspace/Module 13/Module-13-Challenge/Resources/applicants_data.csv'))\n",
    "\n",
    "# Review the DataFrame\n",
    "applicant_data_df.head()\n",
    "\n"
   ]
  },
  {
   "cell_type": "code",
   "execution_count": 174,
   "metadata": {},
   "outputs": [
    {
     "data": {
      "text/plain": [
       "EIN                        int64\n",
       "NAME                      object\n",
       "APPLICATION_TYPE          object\n",
       "AFFILIATION               object\n",
       "CLASSIFICATION            object\n",
       "USE_CASE                  object\n",
       "ORGANIZATION              object\n",
       "STATUS                     int64\n",
       "INCOME_AMT                object\n",
       "SPECIAL_CONSIDERATIONS    object\n",
       "ASK_AMT                    int64\n",
       "IS_SUCCESSFUL              int64\n",
       "dtype: object"
      ]
     },
     "execution_count": 174,
     "metadata": {},
     "output_type": "execute_result"
    }
   ],
   "source": [
    "# Review the data types associated with the columns\n",
    "applicant_data_df.dtypes\n",
    "\n"
   ]
  },
  {
   "cell_type": "markdown",
   "metadata": {},
   "source": [
    "### Step 2: Drop the “EIN” (Employer Identification Number) and “NAME” columns from the DataFrame, because they are not relevant to the binary classification model."
   ]
  },
  {
   "cell_type": "code",
   "execution_count": 175,
   "metadata": {},
   "outputs": [
    {
     "data": {
      "text/html": [
       "<div>\n",
       "<style scoped>\n",
       "    .dataframe tbody tr th:only-of-type {\n",
       "        vertical-align: middle;\n",
       "    }\n",
       "\n",
       "    .dataframe tbody tr th {\n",
       "        vertical-align: top;\n",
       "    }\n",
       "\n",
       "    .dataframe thead th {\n",
       "        text-align: right;\n",
       "    }\n",
       "</style>\n",
       "<table border=\"1\" class=\"dataframe\">\n",
       "  <thead>\n",
       "    <tr style=\"text-align: right;\">\n",
       "      <th></th>\n",
       "      <th>APPLICATION_TYPE</th>\n",
       "      <th>AFFILIATION</th>\n",
       "      <th>CLASSIFICATION</th>\n",
       "      <th>USE_CASE</th>\n",
       "      <th>ORGANIZATION</th>\n",
       "      <th>STATUS</th>\n",
       "      <th>INCOME_AMT</th>\n",
       "      <th>SPECIAL_CONSIDERATIONS</th>\n",
       "      <th>ASK_AMT</th>\n",
       "      <th>IS_SUCCESSFUL</th>\n",
       "    </tr>\n",
       "  </thead>\n",
       "  <tbody>\n",
       "    <tr>\n",
       "      <th>0</th>\n",
       "      <td>T10</td>\n",
       "      <td>Independent</td>\n",
       "      <td>C1000</td>\n",
       "      <td>ProductDev</td>\n",
       "      <td>Association</td>\n",
       "      <td>1</td>\n",
       "      <td>0</td>\n",
       "      <td>N</td>\n",
       "      <td>5000</td>\n",
       "      <td>1</td>\n",
       "    </tr>\n",
       "    <tr>\n",
       "      <th>1</th>\n",
       "      <td>T3</td>\n",
       "      <td>Independent</td>\n",
       "      <td>C2000</td>\n",
       "      <td>Preservation</td>\n",
       "      <td>Co-operative</td>\n",
       "      <td>1</td>\n",
       "      <td>1-9999</td>\n",
       "      <td>N</td>\n",
       "      <td>108590</td>\n",
       "      <td>1</td>\n",
       "    </tr>\n",
       "    <tr>\n",
       "      <th>2</th>\n",
       "      <td>T5</td>\n",
       "      <td>CompanySponsored</td>\n",
       "      <td>C3000</td>\n",
       "      <td>ProductDev</td>\n",
       "      <td>Association</td>\n",
       "      <td>1</td>\n",
       "      <td>0</td>\n",
       "      <td>N</td>\n",
       "      <td>5000</td>\n",
       "      <td>0</td>\n",
       "    </tr>\n",
       "    <tr>\n",
       "      <th>3</th>\n",
       "      <td>T3</td>\n",
       "      <td>CompanySponsored</td>\n",
       "      <td>C2000</td>\n",
       "      <td>Preservation</td>\n",
       "      <td>Trust</td>\n",
       "      <td>1</td>\n",
       "      <td>10000-24999</td>\n",
       "      <td>N</td>\n",
       "      <td>6692</td>\n",
       "      <td>1</td>\n",
       "    </tr>\n",
       "    <tr>\n",
       "      <th>4</th>\n",
       "      <td>T3</td>\n",
       "      <td>Independent</td>\n",
       "      <td>C1000</td>\n",
       "      <td>Heathcare</td>\n",
       "      <td>Trust</td>\n",
       "      <td>1</td>\n",
       "      <td>100000-499999</td>\n",
       "      <td>N</td>\n",
       "      <td>142590</td>\n",
       "      <td>1</td>\n",
       "    </tr>\n",
       "  </tbody>\n",
       "</table>\n",
       "</div>"
      ],
      "text/plain": [
       "  APPLICATION_TYPE       AFFILIATION CLASSIFICATION      USE_CASE  \\\n",
       "0              T10       Independent          C1000    ProductDev   \n",
       "1               T3       Independent          C2000  Preservation   \n",
       "2               T5  CompanySponsored          C3000    ProductDev   \n",
       "3               T3  CompanySponsored          C2000  Preservation   \n",
       "4               T3       Independent          C1000     Heathcare   \n",
       "\n",
       "   ORGANIZATION  STATUS     INCOME_AMT SPECIAL_CONSIDERATIONS  ASK_AMT  \\\n",
       "0   Association       1              0                      N     5000   \n",
       "1  Co-operative       1         1-9999                      N   108590   \n",
       "2   Association       1              0                      N     5000   \n",
       "3         Trust       1    10000-24999                      N     6692   \n",
       "4         Trust       1  100000-499999                      N   142590   \n",
       "\n",
       "   IS_SUCCESSFUL  \n",
       "0              1  \n",
       "1              1  \n",
       "2              0  \n",
       "3              1  \n",
       "4              1  "
      ]
     },
     "execution_count": 175,
     "metadata": {},
     "output_type": "execute_result"
    }
   ],
   "source": [
    "# Drop the 'EIN' and 'NAME' columns from the DataFrame\n",
    "applicant_data_df =  applicant_data_df.drop(columns=['EIN','NAME'])\n",
    "\n",
    "# Review the DataFrame\n",
    "applicant_data_df.head()\n",
    "\n"
   ]
  },
  {
   "cell_type": "markdown",
   "metadata": {},
   "source": [
    "### Step 3: Encode the dataset’s categorical variables using `OneHotEncoder`, and then place the encoded variables into a new DataFrame."
   ]
  },
  {
   "cell_type": "code",
   "execution_count": 176,
   "metadata": {},
   "outputs": [
    {
     "data": {
      "text/plain": [
       "['APPLICATION_TYPE',\n",
       " 'AFFILIATION',\n",
       " 'CLASSIFICATION',\n",
       " 'USE_CASE',\n",
       " 'ORGANIZATION',\n",
       " 'INCOME_AMT',\n",
       " 'SPECIAL_CONSIDERATIONS']"
      ]
     },
     "execution_count": 176,
     "metadata": {},
     "output_type": "execute_result"
    }
   ],
   "source": [
    "# Create a list of categorical variables \n",
    "categorical_variables = list (applicant_data_df.dtypes[applicant_data_df.dtypes == 'object'].index)\n",
    "\n",
    "# Display the categorical variables list\n",
    "categorical_variables\n",
    "\n"
   ]
  },
  {
   "cell_type": "code",
   "execution_count": 177,
   "metadata": {},
   "outputs": [],
   "source": [
    "# Create a OneHotEncoder instance\n",
    "enc =  OneHotEncoder(sparse=False)\n",
    "\n"
   ]
  },
  {
   "cell_type": "code",
   "execution_count": 178,
   "metadata": {},
   "outputs": [],
   "source": [
    "# Encode the categorical variables using OneHotEncoder\n",
    "encoded_data =  enc.fit_transform(applicant_data_df[categorical_variables])\n",
    "\n"
   ]
  },
  {
   "cell_type": "code",
   "execution_count": 179,
   "metadata": {},
   "outputs": [
    {
     "data": {
      "text/html": [
       "<div>\n",
       "<style scoped>\n",
       "    .dataframe tbody tr th:only-of-type {\n",
       "        vertical-align: middle;\n",
       "    }\n",
       "\n",
       "    .dataframe tbody tr th {\n",
       "        vertical-align: top;\n",
       "    }\n",
       "\n",
       "    .dataframe thead th {\n",
       "        text-align: right;\n",
       "    }\n",
       "</style>\n",
       "<table border=\"1\" class=\"dataframe\">\n",
       "  <thead>\n",
       "    <tr style=\"text-align: right;\">\n",
       "      <th></th>\n",
       "      <th>APPLICATION_TYPE_T10</th>\n",
       "      <th>APPLICATION_TYPE_T12</th>\n",
       "      <th>APPLICATION_TYPE_T13</th>\n",
       "      <th>APPLICATION_TYPE_T14</th>\n",
       "      <th>APPLICATION_TYPE_T15</th>\n",
       "      <th>APPLICATION_TYPE_T17</th>\n",
       "      <th>APPLICATION_TYPE_T19</th>\n",
       "      <th>APPLICATION_TYPE_T2</th>\n",
       "      <th>APPLICATION_TYPE_T25</th>\n",
       "      <th>APPLICATION_TYPE_T29</th>\n",
       "      <th>...</th>\n",
       "      <th>INCOME_AMT_1-9999</th>\n",
       "      <th>INCOME_AMT_10000-24999</th>\n",
       "      <th>INCOME_AMT_100000-499999</th>\n",
       "      <th>INCOME_AMT_10M-50M</th>\n",
       "      <th>INCOME_AMT_1M-5M</th>\n",
       "      <th>INCOME_AMT_25000-99999</th>\n",
       "      <th>INCOME_AMT_50M+</th>\n",
       "      <th>INCOME_AMT_5M-10M</th>\n",
       "      <th>SPECIAL_CONSIDERATIONS_N</th>\n",
       "      <th>SPECIAL_CONSIDERATIONS_Y</th>\n",
       "    </tr>\n",
       "  </thead>\n",
       "  <tbody>\n",
       "    <tr>\n",
       "      <th>0</th>\n",
       "      <td>1.0</td>\n",
       "      <td>0.0</td>\n",
       "      <td>0.0</td>\n",
       "      <td>0.0</td>\n",
       "      <td>0.0</td>\n",
       "      <td>0.0</td>\n",
       "      <td>0.0</td>\n",
       "      <td>0.0</td>\n",
       "      <td>0.0</td>\n",
       "      <td>0.0</td>\n",
       "      <td>...</td>\n",
       "      <td>0.0</td>\n",
       "      <td>0.0</td>\n",
       "      <td>0.0</td>\n",
       "      <td>0.0</td>\n",
       "      <td>0.0</td>\n",
       "      <td>0.0</td>\n",
       "      <td>0.0</td>\n",
       "      <td>0.0</td>\n",
       "      <td>1.0</td>\n",
       "      <td>0.0</td>\n",
       "    </tr>\n",
       "    <tr>\n",
       "      <th>1</th>\n",
       "      <td>0.0</td>\n",
       "      <td>0.0</td>\n",
       "      <td>0.0</td>\n",
       "      <td>0.0</td>\n",
       "      <td>0.0</td>\n",
       "      <td>0.0</td>\n",
       "      <td>0.0</td>\n",
       "      <td>0.0</td>\n",
       "      <td>0.0</td>\n",
       "      <td>0.0</td>\n",
       "      <td>...</td>\n",
       "      <td>1.0</td>\n",
       "      <td>0.0</td>\n",
       "      <td>0.0</td>\n",
       "      <td>0.0</td>\n",
       "      <td>0.0</td>\n",
       "      <td>0.0</td>\n",
       "      <td>0.0</td>\n",
       "      <td>0.0</td>\n",
       "      <td>1.0</td>\n",
       "      <td>0.0</td>\n",
       "    </tr>\n",
       "    <tr>\n",
       "      <th>2</th>\n",
       "      <td>0.0</td>\n",
       "      <td>0.0</td>\n",
       "      <td>0.0</td>\n",
       "      <td>0.0</td>\n",
       "      <td>0.0</td>\n",
       "      <td>0.0</td>\n",
       "      <td>0.0</td>\n",
       "      <td>0.0</td>\n",
       "      <td>0.0</td>\n",
       "      <td>0.0</td>\n",
       "      <td>...</td>\n",
       "      <td>0.0</td>\n",
       "      <td>0.0</td>\n",
       "      <td>0.0</td>\n",
       "      <td>0.0</td>\n",
       "      <td>0.0</td>\n",
       "      <td>0.0</td>\n",
       "      <td>0.0</td>\n",
       "      <td>0.0</td>\n",
       "      <td>1.0</td>\n",
       "      <td>0.0</td>\n",
       "    </tr>\n",
       "    <tr>\n",
       "      <th>3</th>\n",
       "      <td>0.0</td>\n",
       "      <td>0.0</td>\n",
       "      <td>0.0</td>\n",
       "      <td>0.0</td>\n",
       "      <td>0.0</td>\n",
       "      <td>0.0</td>\n",
       "      <td>0.0</td>\n",
       "      <td>0.0</td>\n",
       "      <td>0.0</td>\n",
       "      <td>0.0</td>\n",
       "      <td>...</td>\n",
       "      <td>0.0</td>\n",
       "      <td>1.0</td>\n",
       "      <td>0.0</td>\n",
       "      <td>0.0</td>\n",
       "      <td>0.0</td>\n",
       "      <td>0.0</td>\n",
       "      <td>0.0</td>\n",
       "      <td>0.0</td>\n",
       "      <td>1.0</td>\n",
       "      <td>0.0</td>\n",
       "    </tr>\n",
       "    <tr>\n",
       "      <th>4</th>\n",
       "      <td>0.0</td>\n",
       "      <td>0.0</td>\n",
       "      <td>0.0</td>\n",
       "      <td>0.0</td>\n",
       "      <td>0.0</td>\n",
       "      <td>0.0</td>\n",
       "      <td>0.0</td>\n",
       "      <td>0.0</td>\n",
       "      <td>0.0</td>\n",
       "      <td>0.0</td>\n",
       "      <td>...</td>\n",
       "      <td>0.0</td>\n",
       "      <td>0.0</td>\n",
       "      <td>1.0</td>\n",
       "      <td>0.0</td>\n",
       "      <td>0.0</td>\n",
       "      <td>0.0</td>\n",
       "      <td>0.0</td>\n",
       "      <td>0.0</td>\n",
       "      <td>1.0</td>\n",
       "      <td>0.0</td>\n",
       "    </tr>\n",
       "  </tbody>\n",
       "</table>\n",
       "<p>5 rows × 114 columns</p>\n",
       "</div>"
      ],
      "text/plain": [
       "   APPLICATION_TYPE_T10  APPLICATION_TYPE_T12  APPLICATION_TYPE_T13  \\\n",
       "0                   1.0                   0.0                   0.0   \n",
       "1                   0.0                   0.0                   0.0   \n",
       "2                   0.0                   0.0                   0.0   \n",
       "3                   0.0                   0.0                   0.0   \n",
       "4                   0.0                   0.0                   0.0   \n",
       "\n",
       "   APPLICATION_TYPE_T14  APPLICATION_TYPE_T15  APPLICATION_TYPE_T17  \\\n",
       "0                   0.0                   0.0                   0.0   \n",
       "1                   0.0                   0.0                   0.0   \n",
       "2                   0.0                   0.0                   0.0   \n",
       "3                   0.0                   0.0                   0.0   \n",
       "4                   0.0                   0.0                   0.0   \n",
       "\n",
       "   APPLICATION_TYPE_T19  APPLICATION_TYPE_T2  APPLICATION_TYPE_T25  \\\n",
       "0                   0.0                  0.0                   0.0   \n",
       "1                   0.0                  0.0                   0.0   \n",
       "2                   0.0                  0.0                   0.0   \n",
       "3                   0.0                  0.0                   0.0   \n",
       "4                   0.0                  0.0                   0.0   \n",
       "\n",
       "   APPLICATION_TYPE_T29  ...  INCOME_AMT_1-9999  INCOME_AMT_10000-24999  \\\n",
       "0                   0.0  ...                0.0                     0.0   \n",
       "1                   0.0  ...                1.0                     0.0   \n",
       "2                   0.0  ...                0.0                     0.0   \n",
       "3                   0.0  ...                0.0                     1.0   \n",
       "4                   0.0  ...                0.0                     0.0   \n",
       "\n",
       "   INCOME_AMT_100000-499999  INCOME_AMT_10M-50M  INCOME_AMT_1M-5M  \\\n",
       "0                       0.0                 0.0               0.0   \n",
       "1                       0.0                 0.0               0.0   \n",
       "2                       0.0                 0.0               0.0   \n",
       "3                       0.0                 0.0               0.0   \n",
       "4                       1.0                 0.0               0.0   \n",
       "\n",
       "   INCOME_AMT_25000-99999  INCOME_AMT_50M+  INCOME_AMT_5M-10M  \\\n",
       "0                     0.0              0.0                0.0   \n",
       "1                     0.0              0.0                0.0   \n",
       "2                     0.0              0.0                0.0   \n",
       "3                     0.0              0.0                0.0   \n",
       "4                     0.0              0.0                0.0   \n",
       "\n",
       "   SPECIAL_CONSIDERATIONS_N  SPECIAL_CONSIDERATIONS_Y  \n",
       "0                       1.0                       0.0  \n",
       "1                       1.0                       0.0  \n",
       "2                       1.0                       0.0  \n",
       "3                       1.0                       0.0  \n",
       "4                       1.0                       0.0  \n",
       "\n",
       "[5 rows x 114 columns]"
      ]
     },
     "execution_count": 179,
     "metadata": {},
     "output_type": "execute_result"
    }
   ],
   "source": [
    "# Create a DataFrame with the encoded variables\n",
    "encoded_df =  pd.DataFrame(\n",
    "    encoded_data, \n",
    "    columns=enc.get_feature_names_out(categorical_variables))\n",
    "\n",
    "# Review the DataFrame\n",
    "encoded_df.head()\n",
    "\n"
   ]
  },
  {
   "cell_type": "markdown",
   "metadata": {},
   "source": [
    "### Step 4: Add the original DataFrame’s numerical variables to the DataFrame containing the encoded variables.\n",
    "\n",
    "> **Note** To complete this step, you will employ the Pandas `concat()` function that was introduced earlier in this course. "
   ]
  },
  {
   "cell_type": "code",
   "execution_count": 180,
   "metadata": {},
   "outputs": [
    {
     "data": {
      "text/html": [
       "<div>\n",
       "<style scoped>\n",
       "    .dataframe tbody tr th:only-of-type {\n",
       "        vertical-align: middle;\n",
       "    }\n",
       "\n",
       "    .dataframe tbody tr th {\n",
       "        vertical-align: top;\n",
       "    }\n",
       "\n",
       "    .dataframe thead th {\n",
       "        text-align: right;\n",
       "    }\n",
       "</style>\n",
       "<table border=\"1\" class=\"dataframe\">\n",
       "  <thead>\n",
       "    <tr style=\"text-align: right;\">\n",
       "      <th></th>\n",
       "      <th>STATUS</th>\n",
       "      <th>ASK_AMT</th>\n",
       "      <th>IS_SUCCESSFUL</th>\n",
       "      <th>APPLICATION_TYPE_T10</th>\n",
       "      <th>APPLICATION_TYPE_T12</th>\n",
       "      <th>APPLICATION_TYPE_T13</th>\n",
       "      <th>APPLICATION_TYPE_T14</th>\n",
       "      <th>APPLICATION_TYPE_T15</th>\n",
       "      <th>APPLICATION_TYPE_T17</th>\n",
       "      <th>APPLICATION_TYPE_T19</th>\n",
       "      <th>...</th>\n",
       "      <th>INCOME_AMT_1-9999</th>\n",
       "      <th>INCOME_AMT_10000-24999</th>\n",
       "      <th>INCOME_AMT_100000-499999</th>\n",
       "      <th>INCOME_AMT_10M-50M</th>\n",
       "      <th>INCOME_AMT_1M-5M</th>\n",
       "      <th>INCOME_AMT_25000-99999</th>\n",
       "      <th>INCOME_AMT_50M+</th>\n",
       "      <th>INCOME_AMT_5M-10M</th>\n",
       "      <th>SPECIAL_CONSIDERATIONS_N</th>\n",
       "      <th>SPECIAL_CONSIDERATIONS_Y</th>\n",
       "    </tr>\n",
       "  </thead>\n",
       "  <tbody>\n",
       "    <tr>\n",
       "      <th>0</th>\n",
       "      <td>1</td>\n",
       "      <td>5000</td>\n",
       "      <td>1</td>\n",
       "      <td>1.0</td>\n",
       "      <td>0.0</td>\n",
       "      <td>0.0</td>\n",
       "      <td>0.0</td>\n",
       "      <td>0.0</td>\n",
       "      <td>0.0</td>\n",
       "      <td>0.0</td>\n",
       "      <td>...</td>\n",
       "      <td>0.0</td>\n",
       "      <td>0.0</td>\n",
       "      <td>0.0</td>\n",
       "      <td>0.0</td>\n",
       "      <td>0.0</td>\n",
       "      <td>0.0</td>\n",
       "      <td>0.0</td>\n",
       "      <td>0.0</td>\n",
       "      <td>1.0</td>\n",
       "      <td>0.0</td>\n",
       "    </tr>\n",
       "    <tr>\n",
       "      <th>1</th>\n",
       "      <td>1</td>\n",
       "      <td>108590</td>\n",
       "      <td>1</td>\n",
       "      <td>0.0</td>\n",
       "      <td>0.0</td>\n",
       "      <td>0.0</td>\n",
       "      <td>0.0</td>\n",
       "      <td>0.0</td>\n",
       "      <td>0.0</td>\n",
       "      <td>0.0</td>\n",
       "      <td>...</td>\n",
       "      <td>1.0</td>\n",
       "      <td>0.0</td>\n",
       "      <td>0.0</td>\n",
       "      <td>0.0</td>\n",
       "      <td>0.0</td>\n",
       "      <td>0.0</td>\n",
       "      <td>0.0</td>\n",
       "      <td>0.0</td>\n",
       "      <td>1.0</td>\n",
       "      <td>0.0</td>\n",
       "    </tr>\n",
       "    <tr>\n",
       "      <th>2</th>\n",
       "      <td>1</td>\n",
       "      <td>5000</td>\n",
       "      <td>0</td>\n",
       "      <td>0.0</td>\n",
       "      <td>0.0</td>\n",
       "      <td>0.0</td>\n",
       "      <td>0.0</td>\n",
       "      <td>0.0</td>\n",
       "      <td>0.0</td>\n",
       "      <td>0.0</td>\n",
       "      <td>...</td>\n",
       "      <td>0.0</td>\n",
       "      <td>0.0</td>\n",
       "      <td>0.0</td>\n",
       "      <td>0.0</td>\n",
       "      <td>0.0</td>\n",
       "      <td>0.0</td>\n",
       "      <td>0.0</td>\n",
       "      <td>0.0</td>\n",
       "      <td>1.0</td>\n",
       "      <td>0.0</td>\n",
       "    </tr>\n",
       "    <tr>\n",
       "      <th>3</th>\n",
       "      <td>1</td>\n",
       "      <td>6692</td>\n",
       "      <td>1</td>\n",
       "      <td>0.0</td>\n",
       "      <td>0.0</td>\n",
       "      <td>0.0</td>\n",
       "      <td>0.0</td>\n",
       "      <td>0.0</td>\n",
       "      <td>0.0</td>\n",
       "      <td>0.0</td>\n",
       "      <td>...</td>\n",
       "      <td>0.0</td>\n",
       "      <td>1.0</td>\n",
       "      <td>0.0</td>\n",
       "      <td>0.0</td>\n",
       "      <td>0.0</td>\n",
       "      <td>0.0</td>\n",
       "      <td>0.0</td>\n",
       "      <td>0.0</td>\n",
       "      <td>1.0</td>\n",
       "      <td>0.0</td>\n",
       "    </tr>\n",
       "    <tr>\n",
       "      <th>4</th>\n",
       "      <td>1</td>\n",
       "      <td>142590</td>\n",
       "      <td>1</td>\n",
       "      <td>0.0</td>\n",
       "      <td>0.0</td>\n",
       "      <td>0.0</td>\n",
       "      <td>0.0</td>\n",
       "      <td>0.0</td>\n",
       "      <td>0.0</td>\n",
       "      <td>0.0</td>\n",
       "      <td>...</td>\n",
       "      <td>0.0</td>\n",
       "      <td>0.0</td>\n",
       "      <td>1.0</td>\n",
       "      <td>0.0</td>\n",
       "      <td>0.0</td>\n",
       "      <td>0.0</td>\n",
       "      <td>0.0</td>\n",
       "      <td>0.0</td>\n",
       "      <td>1.0</td>\n",
       "      <td>0.0</td>\n",
       "    </tr>\n",
       "  </tbody>\n",
       "</table>\n",
       "<p>5 rows × 117 columns</p>\n",
       "</div>"
      ],
      "text/plain": [
       "   STATUS  ASK_AMT  IS_SUCCESSFUL  APPLICATION_TYPE_T10  APPLICATION_TYPE_T12  \\\n",
       "0       1     5000              1                   1.0                   0.0   \n",
       "1       1   108590              1                   0.0                   0.0   \n",
       "2       1     5000              0                   0.0                   0.0   \n",
       "3       1     6692              1                   0.0                   0.0   \n",
       "4       1   142590              1                   0.0                   0.0   \n",
       "\n",
       "   APPLICATION_TYPE_T13  APPLICATION_TYPE_T14  APPLICATION_TYPE_T15  \\\n",
       "0                   0.0                   0.0                   0.0   \n",
       "1                   0.0                   0.0                   0.0   \n",
       "2                   0.0                   0.0                   0.0   \n",
       "3                   0.0                   0.0                   0.0   \n",
       "4                   0.0                   0.0                   0.0   \n",
       "\n",
       "   APPLICATION_TYPE_T17  APPLICATION_TYPE_T19  ...  INCOME_AMT_1-9999  \\\n",
       "0                   0.0                   0.0  ...                0.0   \n",
       "1                   0.0                   0.0  ...                1.0   \n",
       "2                   0.0                   0.0  ...                0.0   \n",
       "3                   0.0                   0.0  ...                0.0   \n",
       "4                   0.0                   0.0  ...                0.0   \n",
       "\n",
       "   INCOME_AMT_10000-24999  INCOME_AMT_100000-499999  INCOME_AMT_10M-50M  \\\n",
       "0                     0.0                       0.0                 0.0   \n",
       "1                     0.0                       0.0                 0.0   \n",
       "2                     0.0                       0.0                 0.0   \n",
       "3                     1.0                       0.0                 0.0   \n",
       "4                     0.0                       1.0                 0.0   \n",
       "\n",
       "   INCOME_AMT_1M-5M  INCOME_AMT_25000-99999  INCOME_AMT_50M+  \\\n",
       "0               0.0                     0.0              0.0   \n",
       "1               0.0                     0.0              0.0   \n",
       "2               0.0                     0.0              0.0   \n",
       "3               0.0                     0.0              0.0   \n",
       "4               0.0                     0.0              0.0   \n",
       "\n",
       "   INCOME_AMT_5M-10M  SPECIAL_CONSIDERATIONS_N  SPECIAL_CONSIDERATIONS_Y  \n",
       "0                0.0                       1.0                       0.0  \n",
       "1                0.0                       1.0                       0.0  \n",
       "2                0.0                       1.0                       0.0  \n",
       "3                0.0                       1.0                       0.0  \n",
       "4                0.0                       1.0                       0.0  \n",
       "\n",
       "[5 rows x 117 columns]"
      ]
     },
     "execution_count": 180,
     "metadata": {},
     "output_type": "execute_result"
    }
   ],
   "source": [
    "# Add the numerical variables from the original DataFrame to the one-hot encoding DataFrame\n",
    "encoded_df =  pd.concat([applicant_data_df.drop(columns=categorical_variables), encoded_df], axis=1)\n",
    "\n",
    "# Review the Dataframe\n",
    "encoded_df.head()\n",
    "\n"
   ]
  },
  {
   "cell_type": "markdown",
   "metadata": {},
   "source": [
    "### Step 5: Using the preprocessed data, create the features (`X`) and target (`y`) datasets. The target dataset should be defined by the preprocessed DataFrame column “IS_SUCCESSFUL”. The remaining columns should define the features dataset. \n",
    "\n"
   ]
  },
  {
   "cell_type": "code",
   "execution_count": 181,
   "metadata": {},
   "outputs": [
    {
     "data": {
      "text/plain": [
       "array([1, 1, 0, 1, 1])"
      ]
     },
     "execution_count": 181,
     "metadata": {},
     "output_type": "execute_result"
    }
   ],
   "source": [
    "# Define the target set y using the IS_SUCCESSFUL column\n",
    "y = encoded_df.IS_SUCCESSFUL.values\n",
    "\n",
    "# Display a sample of y\n",
    "y[:5]\n",
    "\n"
   ]
  },
  {
   "cell_type": "code",
   "execution_count": 182,
   "metadata": {},
   "outputs": [
    {
     "data": {
      "text/html": [
       "<div>\n",
       "<style scoped>\n",
       "    .dataframe tbody tr th:only-of-type {\n",
       "        vertical-align: middle;\n",
       "    }\n",
       "\n",
       "    .dataframe tbody tr th {\n",
       "        vertical-align: top;\n",
       "    }\n",
       "\n",
       "    .dataframe thead th {\n",
       "        text-align: right;\n",
       "    }\n",
       "</style>\n",
       "<table border=\"1\" class=\"dataframe\">\n",
       "  <thead>\n",
       "    <tr style=\"text-align: right;\">\n",
       "      <th></th>\n",
       "      <th>STATUS</th>\n",
       "      <th>ASK_AMT</th>\n",
       "      <th>APPLICATION_TYPE_T10</th>\n",
       "      <th>APPLICATION_TYPE_T12</th>\n",
       "      <th>APPLICATION_TYPE_T13</th>\n",
       "      <th>APPLICATION_TYPE_T14</th>\n",
       "      <th>APPLICATION_TYPE_T15</th>\n",
       "      <th>APPLICATION_TYPE_T17</th>\n",
       "      <th>APPLICATION_TYPE_T19</th>\n",
       "      <th>APPLICATION_TYPE_T2</th>\n",
       "      <th>...</th>\n",
       "      <th>INCOME_AMT_1-9999</th>\n",
       "      <th>INCOME_AMT_10000-24999</th>\n",
       "      <th>INCOME_AMT_100000-499999</th>\n",
       "      <th>INCOME_AMT_10M-50M</th>\n",
       "      <th>INCOME_AMT_1M-5M</th>\n",
       "      <th>INCOME_AMT_25000-99999</th>\n",
       "      <th>INCOME_AMT_50M+</th>\n",
       "      <th>INCOME_AMT_5M-10M</th>\n",
       "      <th>SPECIAL_CONSIDERATIONS_N</th>\n",
       "      <th>SPECIAL_CONSIDERATIONS_Y</th>\n",
       "    </tr>\n",
       "  </thead>\n",
       "  <tbody>\n",
       "    <tr>\n",
       "      <th>0</th>\n",
       "      <td>1</td>\n",
       "      <td>5000</td>\n",
       "      <td>1.0</td>\n",
       "      <td>0.0</td>\n",
       "      <td>0.0</td>\n",
       "      <td>0.0</td>\n",
       "      <td>0.0</td>\n",
       "      <td>0.0</td>\n",
       "      <td>0.0</td>\n",
       "      <td>0.0</td>\n",
       "      <td>...</td>\n",
       "      <td>0.0</td>\n",
       "      <td>0.0</td>\n",
       "      <td>0.0</td>\n",
       "      <td>0.0</td>\n",
       "      <td>0.0</td>\n",
       "      <td>0.0</td>\n",
       "      <td>0.0</td>\n",
       "      <td>0.0</td>\n",
       "      <td>1.0</td>\n",
       "      <td>0.0</td>\n",
       "    </tr>\n",
       "    <tr>\n",
       "      <th>1</th>\n",
       "      <td>1</td>\n",
       "      <td>108590</td>\n",
       "      <td>0.0</td>\n",
       "      <td>0.0</td>\n",
       "      <td>0.0</td>\n",
       "      <td>0.0</td>\n",
       "      <td>0.0</td>\n",
       "      <td>0.0</td>\n",
       "      <td>0.0</td>\n",
       "      <td>0.0</td>\n",
       "      <td>...</td>\n",
       "      <td>1.0</td>\n",
       "      <td>0.0</td>\n",
       "      <td>0.0</td>\n",
       "      <td>0.0</td>\n",
       "      <td>0.0</td>\n",
       "      <td>0.0</td>\n",
       "      <td>0.0</td>\n",
       "      <td>0.0</td>\n",
       "      <td>1.0</td>\n",
       "      <td>0.0</td>\n",
       "    </tr>\n",
       "    <tr>\n",
       "      <th>2</th>\n",
       "      <td>1</td>\n",
       "      <td>5000</td>\n",
       "      <td>0.0</td>\n",
       "      <td>0.0</td>\n",
       "      <td>0.0</td>\n",
       "      <td>0.0</td>\n",
       "      <td>0.0</td>\n",
       "      <td>0.0</td>\n",
       "      <td>0.0</td>\n",
       "      <td>0.0</td>\n",
       "      <td>...</td>\n",
       "      <td>0.0</td>\n",
       "      <td>0.0</td>\n",
       "      <td>0.0</td>\n",
       "      <td>0.0</td>\n",
       "      <td>0.0</td>\n",
       "      <td>0.0</td>\n",
       "      <td>0.0</td>\n",
       "      <td>0.0</td>\n",
       "      <td>1.0</td>\n",
       "      <td>0.0</td>\n",
       "    </tr>\n",
       "    <tr>\n",
       "      <th>3</th>\n",
       "      <td>1</td>\n",
       "      <td>6692</td>\n",
       "      <td>0.0</td>\n",
       "      <td>0.0</td>\n",
       "      <td>0.0</td>\n",
       "      <td>0.0</td>\n",
       "      <td>0.0</td>\n",
       "      <td>0.0</td>\n",
       "      <td>0.0</td>\n",
       "      <td>0.0</td>\n",
       "      <td>...</td>\n",
       "      <td>0.0</td>\n",
       "      <td>1.0</td>\n",
       "      <td>0.0</td>\n",
       "      <td>0.0</td>\n",
       "      <td>0.0</td>\n",
       "      <td>0.0</td>\n",
       "      <td>0.0</td>\n",
       "      <td>0.0</td>\n",
       "      <td>1.0</td>\n",
       "      <td>0.0</td>\n",
       "    </tr>\n",
       "    <tr>\n",
       "      <th>4</th>\n",
       "      <td>1</td>\n",
       "      <td>142590</td>\n",
       "      <td>0.0</td>\n",
       "      <td>0.0</td>\n",
       "      <td>0.0</td>\n",
       "      <td>0.0</td>\n",
       "      <td>0.0</td>\n",
       "      <td>0.0</td>\n",
       "      <td>0.0</td>\n",
       "      <td>0.0</td>\n",
       "      <td>...</td>\n",
       "      <td>0.0</td>\n",
       "      <td>0.0</td>\n",
       "      <td>1.0</td>\n",
       "      <td>0.0</td>\n",
       "      <td>0.0</td>\n",
       "      <td>0.0</td>\n",
       "      <td>0.0</td>\n",
       "      <td>0.0</td>\n",
       "      <td>1.0</td>\n",
       "      <td>0.0</td>\n",
       "    </tr>\n",
       "  </tbody>\n",
       "</table>\n",
       "<p>5 rows × 116 columns</p>\n",
       "</div>"
      ],
      "text/plain": [
       "   STATUS  ASK_AMT  APPLICATION_TYPE_T10  APPLICATION_TYPE_T12  \\\n",
       "0       1     5000                   1.0                   0.0   \n",
       "1       1   108590                   0.0                   0.0   \n",
       "2       1     5000                   0.0                   0.0   \n",
       "3       1     6692                   0.0                   0.0   \n",
       "4       1   142590                   0.0                   0.0   \n",
       "\n",
       "   APPLICATION_TYPE_T13  APPLICATION_TYPE_T14  APPLICATION_TYPE_T15  \\\n",
       "0                   0.0                   0.0                   0.0   \n",
       "1                   0.0                   0.0                   0.0   \n",
       "2                   0.0                   0.0                   0.0   \n",
       "3                   0.0                   0.0                   0.0   \n",
       "4                   0.0                   0.0                   0.0   \n",
       "\n",
       "   APPLICATION_TYPE_T17  APPLICATION_TYPE_T19  APPLICATION_TYPE_T2  ...  \\\n",
       "0                   0.0                   0.0                  0.0  ...   \n",
       "1                   0.0                   0.0                  0.0  ...   \n",
       "2                   0.0                   0.0                  0.0  ...   \n",
       "3                   0.0                   0.0                  0.0  ...   \n",
       "4                   0.0                   0.0                  0.0  ...   \n",
       "\n",
       "   INCOME_AMT_1-9999  INCOME_AMT_10000-24999  INCOME_AMT_100000-499999  \\\n",
       "0                0.0                     0.0                       0.0   \n",
       "1                1.0                     0.0                       0.0   \n",
       "2                0.0                     0.0                       0.0   \n",
       "3                0.0                     1.0                       0.0   \n",
       "4                0.0                     0.0                       1.0   \n",
       "\n",
       "   INCOME_AMT_10M-50M  INCOME_AMT_1M-5M  INCOME_AMT_25000-99999  \\\n",
       "0                 0.0               0.0                     0.0   \n",
       "1                 0.0               0.0                     0.0   \n",
       "2                 0.0               0.0                     0.0   \n",
       "3                 0.0               0.0                     0.0   \n",
       "4                 0.0               0.0                     0.0   \n",
       "\n",
       "   INCOME_AMT_50M+  INCOME_AMT_5M-10M  SPECIAL_CONSIDERATIONS_N  \\\n",
       "0              0.0                0.0                       1.0   \n",
       "1              0.0                0.0                       1.0   \n",
       "2              0.0                0.0                       1.0   \n",
       "3              0.0                0.0                       1.0   \n",
       "4              0.0                0.0                       1.0   \n",
       "\n",
       "   SPECIAL_CONSIDERATIONS_Y  \n",
       "0                       0.0  \n",
       "1                       0.0  \n",
       "2                       0.0  \n",
       "3                       0.0  \n",
       "4                       0.0  \n",
       "\n",
       "[5 rows x 116 columns]"
      ]
     },
     "execution_count": 182,
     "metadata": {},
     "output_type": "execute_result"
    }
   ],
   "source": [
    "# Define features set X by selecting all columns but IS_SUCCESSFUL\n",
    "X = encoded_df.drop(columns='IS_SUCCESSFUL')\n",
    "\n",
    "# Review the features DataFrame\n",
    "X.head()\n",
    "\n",
    "\n"
   ]
  },
  {
   "cell_type": "markdown",
   "metadata": {},
   "source": [
    "### Step 6: Split the features and target sets into training and testing datasets.\n"
   ]
  },
  {
   "cell_type": "code",
   "execution_count": 183,
   "metadata": {},
   "outputs": [],
   "source": [
    "# Split the preprocessed data into a training and testing dataset\n",
    "# Assign the function a random_state equal to 1\n",
    "X_train, X_test, y_train, y_test =  train_test_split( X, y, random_state=1)\n",
    "\n"
   ]
  },
  {
   "cell_type": "markdown",
   "metadata": {},
   "source": [
    "### Step 7: Use scikit-learn's `StandardScaler` to scale the features data."
   ]
  },
  {
   "cell_type": "code",
   "execution_count": 184,
   "metadata": {},
   "outputs": [],
   "source": [
    "# Create a StandardScaler instance\n",
    "scaler =  StandardScaler()\n",
    "\n",
    "# Fit the scaler to the features training dataset\n",
    "X_scaler =  scaler.fit(X_train)\n",
    "\n",
    "# Fit the scaler to the features training dataset\n",
    "X_train_scaled =  X_scaler.transform(X_train)\n",
    "X_test_scaled =  X_scaler.transform(X_test)\n",
    "\n"
   ]
  },
  {
   "cell_type": "markdown",
   "metadata": {},
   "source": [
    "---\n",
    "\n",
    "## Compile and Evaluate a Binary Classification Model Using a Neural Network"
   ]
  },
  {
   "cell_type": "markdown",
   "metadata": {},
   "source": [
    "### Step 1: Create a deep neural network by assigning the number of input features, the number of layers, and the number of neurons on each layer using Tensorflow’s Keras.\n",
    "\n",
    "> **Hint** You can start with a two-layer deep neural network model that uses the `relu` activation function for both layers.\n"
   ]
  },
  {
   "cell_type": "code",
   "execution_count": 185,
   "metadata": {},
   "outputs": [
    {
     "data": {
      "text/plain": [
       "116"
      ]
     },
     "execution_count": 185,
     "metadata": {},
     "output_type": "execute_result"
    }
   ],
   "source": [
    "# Define the the number of inputs (features) to the model\n",
    "number_input_features =  len(X_train_scaled[0])\n",
    "\n",
    "# Review the number of features\n",
    "number_input_features\n",
    "\n"
   ]
  },
  {
   "cell_type": "code",
   "execution_count": 186,
   "metadata": {},
   "outputs": [],
   "source": [
    "# Define the number of neurons in the output layer\n",
    "number_output_neurons = 1"
   ]
  },
  {
   "cell_type": "code",
   "execution_count": 187,
   "metadata": {},
   "outputs": [
    {
     "data": {
      "text/plain": [
       "58"
      ]
     },
     "execution_count": 187,
     "metadata": {},
     "output_type": "execute_result"
    }
   ],
   "source": [
    "# Define the number of hidden nodes for the first hidden layer\n",
    "hidden_nodes_layer1 = round((number_input_features + number_output_neurons)/2)\n",
    "\n",
    "# Review the number hidden nodes in the first layer\n",
    "hidden_nodes_layer1\n"
   ]
  },
  {
   "cell_type": "code",
   "execution_count": 188,
   "metadata": {},
   "outputs": [
    {
     "data": {
      "text/plain": [
       "30"
      ]
     },
     "execution_count": 188,
     "metadata": {},
     "output_type": "execute_result"
    }
   ],
   "source": [
    "# Define the number of hidden nodes for the second hidden layer\n",
    "hidden_nodes_layer2 =  round((hidden_nodes_layer1 + number_output_neurons)/2)\n",
    "\n",
    "# Review the number hidden nodes in the second layer\n",
    "hidden_nodes_layer2\n",
    "\n"
   ]
  },
  {
   "cell_type": "code",
   "execution_count": 189,
   "metadata": {},
   "outputs": [],
   "source": [
    "# Create the Sequential model instance\n",
    "nn = Sequential()\n",
    "\n"
   ]
  },
  {
   "cell_type": "code",
   "execution_count": 190,
   "metadata": {},
   "outputs": [],
   "source": [
    "# Add the first hidden layer\n",
    "nn.add(Dense(units=hidden_nodes_layer1, input_dim=number_input_features, activation=\"relu\"))"
   ]
  },
  {
   "cell_type": "code",
   "execution_count": 191,
   "metadata": {},
   "outputs": [],
   "source": [
    "# Add the second hidden layer\n",
    "nn.add(Dense(units=hidden_nodes_layer2, activation=\"relu\"))\n",
    "\n"
   ]
  },
  {
   "cell_type": "code",
   "execution_count": 192,
   "metadata": {},
   "outputs": [],
   "source": [
    "# Add the output layer to the model specifying the number of output neurons and activation function\n",
    "nn.add(Dense(units=number_output_neurons, activation=\"sigmoid\"))\n"
   ]
  },
  {
   "cell_type": "code",
   "execution_count": 193,
   "metadata": {},
   "outputs": [
    {
     "name": "stdout",
     "output_type": "stream",
     "text": [
      "Model: \"sequential_7\"\n",
      "_________________________________________________________________\n",
      " Layer (type)                Output Shape              Param #   \n",
      "=================================================================\n",
      " dense_17 (Dense)            (None, 58)                6786      \n",
      "                                                                 \n",
      " dense_18 (Dense)            (None, 30)                1770      \n",
      "                                                                 \n",
      " dense_19 (Dense)            (None, 1)                 31        \n",
      "                                                                 \n",
      "=================================================================\n",
      "Total params: 8,587\n",
      "Trainable params: 8,587\n",
      "Non-trainable params: 0\n",
      "_________________________________________________________________\n"
     ]
    }
   ],
   "source": [
    "# Display the Sequential model summary\n",
    "nn.summary()\n",
    "\n"
   ]
  },
  {
   "cell_type": "markdown",
   "metadata": {},
   "source": [
    "### Step 2: Compile and fit the model using the `binary_crossentropy` loss function, the `adam` optimizer, and the `accuracy` evaluation metric.\n"
   ]
  },
  {
   "cell_type": "code",
   "execution_count": 194,
   "metadata": {},
   "outputs": [],
   "source": [
    "# Compile the Sequential model\n",
    "nn.compile(loss=\"binary_crossentropy\", optimizer=\"adam\", metrics=[\"accuracy\"])\n"
   ]
  },
  {
   "cell_type": "code",
   "execution_count": 195,
   "metadata": {},
   "outputs": [
    {
     "name": "stdout",
     "output_type": "stream",
     "text": [
      "Epoch 1/50\n",
      "  9/804 [..............................] - ETA: 4s - loss: 0.7119 - accuracy: 0.5486  "
     ]
    },
    {
     "name": "stderr",
     "output_type": "stream",
     "text": [
      "2022-09-10 15:30:27.561264: I tensorflow/core/grappler/optimizers/custom_graph_optimizer_registry.cc:113] Plugin optimizer for device_type GPU is enabled.\n"
     ]
    },
    {
     "name": "stdout",
     "output_type": "stream",
     "text": [
      "804/804 [==============================] - 5s 6ms/step - loss: 0.5763 - accuracy: 0.7177\n",
      "Epoch 2/50\n",
      "804/804 [==============================] - 5s 6ms/step - loss: 0.5536 - accuracy: 0.7306\n",
      "Epoch 3/50\n",
      "804/804 [==============================] - 5s 6ms/step - loss: 0.5495 - accuracy: 0.7304\n",
      "Epoch 4/50\n",
      "804/804 [==============================] - 5s 6ms/step - loss: 0.5470 - accuracy: 0.7334\n",
      "Epoch 5/50\n",
      "804/804 [==============================] - 5s 6ms/step - loss: 0.5462 - accuracy: 0.7326\n",
      "Epoch 6/50\n",
      "804/804 [==============================] - 5s 6ms/step - loss: 0.5448 - accuracy: 0.7340\n",
      "Epoch 7/50\n",
      "804/804 [==============================] - 5s 6ms/step - loss: 0.5436 - accuracy: 0.7339\n",
      "Epoch 8/50\n",
      "804/804 [==============================] - 5s 6ms/step - loss: 0.5425 - accuracy: 0.7341\n",
      "Epoch 9/50\n",
      "804/804 [==============================] - 5s 6ms/step - loss: 0.5417 - accuracy: 0.7351\n",
      "Epoch 10/50\n",
      "804/804 [==============================] - 5s 6ms/step - loss: 0.5412 - accuracy: 0.7345\n",
      "Epoch 11/50\n",
      "804/804 [==============================] - 5s 6ms/step - loss: 0.5404 - accuracy: 0.7352\n",
      "Epoch 12/50\n",
      "804/804 [==============================] - 5s 6ms/step - loss: 0.5406 - accuracy: 0.7358\n",
      "Epoch 13/50\n",
      "804/804 [==============================] - 5s 6ms/step - loss: 0.5399 - accuracy: 0.7355\n",
      "Epoch 14/50\n",
      "804/804 [==============================] - 5s 6ms/step - loss: 0.5395 - accuracy: 0.7366\n",
      "Epoch 15/50\n",
      "804/804 [==============================] - 5s 6ms/step - loss: 0.5391 - accuracy: 0.7367\n",
      "Epoch 16/50\n",
      "804/804 [==============================] - 5s 6ms/step - loss: 0.5384 - accuracy: 0.7379\n",
      "Epoch 17/50\n",
      "804/804 [==============================] - 5s 6ms/step - loss: 0.5378 - accuracy: 0.7372\n",
      "Epoch 18/50\n",
      "804/804 [==============================] - 5s 6ms/step - loss: 0.5378 - accuracy: 0.7379\n",
      "Epoch 19/50\n",
      "804/804 [==============================] - 5s 6ms/step - loss: 0.5381 - accuracy: 0.7386\n",
      "Epoch 20/50\n",
      "804/804 [==============================] - 5s 6ms/step - loss: 0.5369 - accuracy: 0.7385\n",
      "Epoch 21/50\n",
      "804/804 [==============================] - 5s 6ms/step - loss: 0.5365 - accuracy: 0.7385\n",
      "Epoch 22/50\n",
      "804/804 [==============================] - 5s 6ms/step - loss: 0.5367 - accuracy: 0.7387\n",
      "Epoch 23/50\n",
      "804/804 [==============================] - 5s 6ms/step - loss: 0.5363 - accuracy: 0.7392\n",
      "Epoch 24/50\n",
      "804/804 [==============================] - 5s 6ms/step - loss: 0.5364 - accuracy: 0.7390\n",
      "Epoch 25/50\n",
      "804/804 [==============================] - 5s 6ms/step - loss: 0.5357 - accuracy: 0.7399\n",
      "Epoch 26/50\n",
      "804/804 [==============================] - 5s 6ms/step - loss: 0.5362 - accuracy: 0.7388\n",
      "Epoch 27/50\n",
      "804/804 [==============================] - 5s 6ms/step - loss: 0.5355 - accuracy: 0.7397\n",
      "Epoch 28/50\n",
      "804/804 [==============================] - 5s 6ms/step - loss: 0.5353 - accuracy: 0.7387\n",
      "Epoch 29/50\n",
      "804/804 [==============================] - 5s 6ms/step - loss: 0.5352 - accuracy: 0.7389\n",
      "Epoch 30/50\n",
      "804/804 [==============================] - 5s 6ms/step - loss: 0.5350 - accuracy: 0.7388\n",
      "Epoch 31/50\n",
      "804/804 [==============================] - 5s 6ms/step - loss: 0.5344 - accuracy: 0.7407\n",
      "Epoch 32/50\n",
      "804/804 [==============================] - 5s 6ms/step - loss: 0.5347 - accuracy: 0.7398\n",
      "Epoch 33/50\n",
      "804/804 [==============================] - 5s 6ms/step - loss: 0.5343 - accuracy: 0.7401\n",
      "Epoch 34/50\n",
      "804/804 [==============================] - 5s 6ms/step - loss: 0.5344 - accuracy: 0.7399\n",
      "Epoch 35/50\n",
      "804/804 [==============================] - 5s 6ms/step - loss: 0.5337 - accuracy: 0.7396\n",
      "Epoch 36/50\n",
      "804/804 [==============================] - 5s 6ms/step - loss: 0.5337 - accuracy: 0.7402\n",
      "Epoch 37/50\n",
      "804/804 [==============================] - 5s 6ms/step - loss: 0.5335 - accuracy: 0.7406\n",
      "Epoch 38/50\n",
      "804/804 [==============================] - 5s 6ms/step - loss: 0.5336 - accuracy: 0.7402\n",
      "Epoch 39/50\n",
      "804/804 [==============================] - 5s 6ms/step - loss: 0.5336 - accuracy: 0.7405\n",
      "Epoch 40/50\n",
      "804/804 [==============================] - 5s 6ms/step - loss: 0.5332 - accuracy: 0.7409\n",
      "Epoch 41/50\n",
      "804/804 [==============================] - 5s 6ms/step - loss: 0.5330 - accuracy: 0.7403\n",
      "Epoch 42/50\n",
      "804/804 [==============================] - 5s 6ms/step - loss: 0.5330 - accuracy: 0.7416\n",
      "Epoch 43/50\n",
      "804/804 [==============================] - 5s 6ms/step - loss: 0.5325 - accuracy: 0.7412\n",
      "Epoch 44/50\n",
      "804/804 [==============================] - 5s 6ms/step - loss: 0.5327 - accuracy: 0.7413\n",
      "Epoch 45/50\n",
      "804/804 [==============================] - 5s 6ms/step - loss: 0.5325 - accuracy: 0.7406\n",
      "Epoch 46/50\n",
      "804/804 [==============================] - 5s 6ms/step - loss: 0.5324 - accuracy: 0.7409\n",
      "Epoch 47/50\n",
      "804/804 [==============================] - 5s 6ms/step - loss: 0.5320 - accuracy: 0.7413\n",
      "Epoch 48/50\n",
      "804/804 [==============================] - 5s 6ms/step - loss: 0.5324 - accuracy: 0.7401\n",
      "Epoch 49/50\n",
      "804/804 [==============================] - 5s 6ms/step - loss: 0.5318 - accuracy: 0.7415\n",
      "Epoch 50/50\n",
      "804/804 [==============================] - 5s 6ms/step - loss: 0.5320 - accuracy: 0.7413\n"
     ]
    }
   ],
   "source": [
    "# Fit the model using 50 epochs and the training data\n",
    "fit_model = nn.fit(X_train_scaled, y_train, epochs=50)\n"
   ]
  },
  {
   "cell_type": "markdown",
   "metadata": {},
   "source": [
    "### Step 3: Evaluate the model using the test data to determine the model’s loss and accuracy.\n"
   ]
  },
  {
   "cell_type": "code",
   "execution_count": 196,
   "metadata": {},
   "outputs": [
    {
     "name": "stderr",
     "output_type": "stream",
     "text": [
      "2022-09-10 15:34:34.360933: I tensorflow/core/grappler/optimizers/custom_graph_optimizer_registry.cc:113] Plugin optimizer for device_type GPU is enabled.\n"
     ]
    },
    {
     "name": "stdout",
     "output_type": "stream",
     "text": [
      "268/268 - 1s - loss: 0.5555 - accuracy: 0.7301 - 977ms/epoch - 4ms/step\n",
      "Loss: 0.5554770827293396, Accuracy: 0.7301457524299622\n"
     ]
    }
   ],
   "source": [
    "# Evaluate the model loss and accuracy metrics using the evaluate method and the test data\n",
    "model_loss, model_accuracy =  nn.evaluate(X_test_scaled,y_test,verbose=2)\n",
    "\n",
    "# Display the model loss and accuracy results\n",
    "print(f\"Loss: {model_loss}, Accuracy: {model_accuracy}\")"
   ]
  },
  {
   "cell_type": "markdown",
   "metadata": {},
   "source": [
    "### Step 4: Save and export your model to an HDF5 file, and name the file `AlphabetSoup.h5`. \n"
   ]
  },
  {
   "cell_type": "code",
   "execution_count": 205,
   "metadata": {},
   "outputs": [],
   "source": [
    "# Set the model's file path\n",
    "file_path =  Path('/Users/michaeldionne/Documents/GitHub/Fintech-Workspace/Module 13/Module-13-Challenge/AlphabetSoupCharity.h5')\n",
    "\n",
    "# Export your model to a HDF5 file\n",
    "nn.save(file_path)\n"
   ]
  },
  {
   "cell_type": "markdown",
   "metadata": {},
   "source": [
    "---\n",
    "\n",
    "## Optimize the neural network model\n"
   ]
  },
  {
   "cell_type": "markdown",
   "metadata": {},
   "source": [
    "### Step 1: Define at least three new deep neural network models (resulting in the original plus 3 optimization attempts). With each, try to improve on your first model’s predictive accuracy.\n",
    "\n",
    "> **Rewind** Recall that perfect accuracy has a value of 1, so accuracy improves as its value moves closer to 1. To optimize your model for a predictive accuracy as close to 1 as possible, you can use any or all of the following techniques:\n",
    ">\n",
    "> * Adjust the input data by dropping different features columns to ensure that no variables or outliers confuse the model.\n",
    ">\n",
    "> * Add more neurons (nodes) to a hidden layer.\n",
    ">\n",
    "> * Add more hidden layers.\n",
    ">\n",
    "> * Use different activation functions for the hidden layers.\n",
    ">\n",
    "> * Add to or reduce the number of epochs in the training regimen.\n"
   ]
  },
  {
   "cell_type": "markdown",
   "metadata": {},
   "source": [
    "### Alternative Model 1"
   ]
  },
  {
   "cell_type": "code",
   "execution_count": 206,
   "metadata": {},
   "outputs": [
    {
     "data": {
      "text/plain": [
       "116"
      ]
     },
     "execution_count": 206,
     "metadata": {},
     "output_type": "execute_result"
    }
   ],
   "source": [
    "# A1: Will increase the number of nodes in the hidden layers to 80 and 30\n",
    " \n",
    "# Define the the number of inputs (features) to the model\n",
    "number_input_features = len(X_train_scaled[0])\n",
    "\n",
    "# Review the number of features\n",
    "number_input_features\n"
   ]
  },
  {
   "cell_type": "code",
   "execution_count": 207,
   "metadata": {},
   "outputs": [],
   "source": [
    "# Define the number of neurons in the output layer\n",
    "number_output_neurons_A1 =  1"
   ]
  },
  {
   "cell_type": "code",
   "execution_count": 208,
   "metadata": {},
   "outputs": [
    {
     "data": {
      "text/plain": [
       "80"
      ]
     },
     "execution_count": 208,
     "metadata": {},
     "output_type": "execute_result"
    }
   ],
   "source": [
    "# Define the number of hidden nodes for the first hidden layer\n",
    "hidden_nodes_layer1_A1 = 80\n",
    "\n",
    "# Review the number of hidden nodes in the first layer\n",
    "hidden_nodes_layer1_A1\n"
   ]
  },
  {
   "cell_type": "code",
   "execution_count": 209,
   "metadata": {},
   "outputs": [
    {
     "data": {
      "text/plain": [
       "30"
      ]
     },
     "execution_count": 209,
     "metadata": {},
     "output_type": "execute_result"
    }
   ],
   "source": [
    "# Define the number of hidden nodes for the second hidden layer\n",
    "hidden_nodes_layer2_A1 = 30\n",
    "\n",
    "# Review the number of hidden nodes in the second layer\n",
    "hidden_nodes_layer2_A1 "
   ]
  },
  {
   "cell_type": "code",
   "execution_count": 210,
   "metadata": {},
   "outputs": [],
   "source": [
    "# Create the Sequential model instance\n",
    "nn_A1 =  Sequential()\n"
   ]
  },
  {
   "cell_type": "code",
   "execution_count": 211,
   "metadata": {},
   "outputs": [
    {
     "name": "stdout",
     "output_type": "stream",
     "text": [
      "Model: \"sequential_9\"\n",
      "_________________________________________________________________\n",
      " Layer (type)                Output Shape              Param #   \n",
      "=================================================================\n",
      " dense_23 (Dense)            (None, 80)                9360      \n",
      "                                                                 \n",
      " dense_24 (Dense)            (None, 30)                2430      \n",
      "                                                                 \n",
      " dense_25 (Dense)            (None, 1)                 31        \n",
      "                                                                 \n",
      "=================================================================\n",
      "Total params: 11,821\n",
      "Trainable params: 11,821\n",
      "Non-trainable params: 0\n",
      "_________________________________________________________________\n"
     ]
    }
   ],
   "source": [
    "# First hidden layer\n",
    "nn_A1.add(Dense(units=hidden_nodes_layer1_A1, input_dim=number_input_features, activation=\"relu\"))\n",
    "\n",
    "# Second hidden layer\n",
    "nn_A1.add(Dense(units=hidden_nodes_layer2_A1, activation=\"relu\"))\n",
    "\n",
    "# Output layer\n",
    "nn_A1.add(Dense(units=number_output_neurons_A1, activation=\"sigmoid\"))\n",
    "\n",
    "\n",
    "# Check the structure of the model\n",
    "nn_A1.summary()\n"
   ]
  },
  {
   "cell_type": "code",
   "execution_count": 212,
   "metadata": {},
   "outputs": [],
   "source": [
    "# Compile the Sequential model\n",
    "nn_A1.compile(loss=\"binary_crossentropy\", optimizer=\"adam\", metrics=[\"accuracy\"])\n"
   ]
  },
  {
   "cell_type": "code",
   "execution_count": 213,
   "metadata": {},
   "outputs": [
    {
     "name": "stdout",
     "output_type": "stream",
     "text": [
      "Epoch 1/50\n",
      "  1/804 [..............................] - ETA: 4:12 - loss: 0.7283 - accuracy: 0.5312"
     ]
    },
    {
     "name": "stderr",
     "output_type": "stream",
     "text": [
      "2022-09-10 15:35:23.329401: I tensorflow/core/grappler/optimizers/custom_graph_optimizer_registry.cc:113] Plugin optimizer for device_type GPU is enabled.\n"
     ]
    },
    {
     "name": "stdout",
     "output_type": "stream",
     "text": [
      "804/804 [==============================] - 5s 6ms/step - loss: 0.5746 - accuracy: 0.7168\n",
      "Epoch 2/50\n",
      "804/804 [==============================] - 5s 6ms/step - loss: 0.5537 - accuracy: 0.7290\n",
      "Epoch 3/50\n",
      "804/804 [==============================] - 5s 6ms/step - loss: 0.5492 - accuracy: 0.7301\n",
      "Epoch 4/50\n",
      "804/804 [==============================] - 5s 6ms/step - loss: 0.5469 - accuracy: 0.7324\n",
      "Epoch 5/50\n",
      "804/804 [==============================] - 5s 6ms/step - loss: 0.5453 - accuracy: 0.7336\n",
      "Epoch 6/50\n",
      "804/804 [==============================] - 5s 6ms/step - loss: 0.5444 - accuracy: 0.7334\n",
      "Epoch 7/50\n",
      "804/804 [==============================] - 5s 7ms/step - loss: 0.5433 - accuracy: 0.7348\n",
      "Epoch 8/50\n",
      "804/804 [==============================] - 6s 7ms/step - loss: 0.5424 - accuracy: 0.7350\n",
      "Epoch 9/50\n",
      "804/804 [==============================] - 5s 7ms/step - loss: 0.5423 - accuracy: 0.7352\n",
      "Epoch 10/50\n",
      "804/804 [==============================] - 6s 7ms/step - loss: 0.5414 - accuracy: 0.7345\n",
      "Epoch 11/50\n",
      "804/804 [==============================] - 5s 6ms/step - loss: 0.5409 - accuracy: 0.7362\n",
      "Epoch 12/50\n",
      "804/804 [==============================] - 6s 7ms/step - loss: 0.5403 - accuracy: 0.7356\n",
      "Epoch 13/50\n",
      "804/804 [==============================] - 5s 7ms/step - loss: 0.5397 - accuracy: 0.7372\n",
      "Epoch 14/50\n",
      "804/804 [==============================] - 6s 7ms/step - loss: 0.5399 - accuracy: 0.7367\n",
      "Epoch 15/50\n",
      "804/804 [==============================] - 6s 7ms/step - loss: 0.5387 - accuracy: 0.7379\n",
      "Epoch 16/50\n",
      "804/804 [==============================] - 6s 7ms/step - loss: 0.5385 - accuracy: 0.7383\n",
      "Epoch 17/50\n",
      "804/804 [==============================] - 6s 7ms/step - loss: 0.5386 - accuracy: 0.7384\n",
      "Epoch 18/50\n",
      "804/804 [==============================] - 6s 7ms/step - loss: 0.5380 - accuracy: 0.7378\n",
      "Epoch 19/50\n",
      "804/804 [==============================] - 5s 7ms/step - loss: 0.5373 - accuracy: 0.7378\n",
      "Epoch 20/50\n",
      "804/804 [==============================] - 5s 7ms/step - loss: 0.5375 - accuracy: 0.7389\n",
      "Epoch 21/50\n",
      "804/804 [==============================] - 5s 7ms/step - loss: 0.5367 - accuracy: 0.7391\n",
      "Epoch 22/50\n",
      "804/804 [==============================] - 5s 7ms/step - loss: 0.5368 - accuracy: 0.7389\n",
      "Epoch 23/50\n",
      "804/804 [==============================] - 5s 6ms/step - loss: 0.5365 - accuracy: 0.7393\n",
      "Epoch 24/50\n",
      "804/804 [==============================] - 6s 7ms/step - loss: 0.5360 - accuracy: 0.7397\n",
      "Epoch 25/50\n",
      "804/804 [==============================] - 5s 7ms/step - loss: 0.5361 - accuracy: 0.7396\n",
      "Epoch 26/50\n",
      "804/804 [==============================] - 5s 7ms/step - loss: 0.5358 - accuracy: 0.7390\n",
      "Epoch 27/50\n",
      "804/804 [==============================] - 5s 7ms/step - loss: 0.5359 - accuracy: 0.7392\n",
      "Epoch 28/50\n",
      "804/804 [==============================] - 6s 7ms/step - loss: 0.5353 - accuracy: 0.7391\n",
      "Epoch 29/50\n",
      "804/804 [==============================] - 6s 7ms/step - loss: 0.5348 - accuracy: 0.7398\n",
      "Epoch 30/50\n",
      "804/804 [==============================] - 5s 7ms/step - loss: 0.5351 - accuracy: 0.7400\n",
      "Epoch 31/50\n",
      "804/804 [==============================] - 6s 7ms/step - loss: 0.5347 - accuracy: 0.7390\n",
      "Epoch 32/50\n",
      "804/804 [==============================] - 6s 7ms/step - loss: 0.5346 - accuracy: 0.7405\n",
      "Epoch 33/50\n",
      "804/804 [==============================] - 6s 7ms/step - loss: 0.5343 - accuracy: 0.7397\n",
      "Epoch 34/50\n",
      "804/804 [==============================] - 5s 6ms/step - loss: 0.5342 - accuracy: 0.7397\n",
      "Epoch 35/50\n",
      "804/804 [==============================] - 5s 7ms/step - loss: 0.5340 - accuracy: 0.7403\n",
      "Epoch 36/50\n",
      "804/804 [==============================] - 5s 7ms/step - loss: 0.5338 - accuracy: 0.7397\n",
      "Epoch 37/50\n",
      "804/804 [==============================] - 5s 6ms/step - loss: 0.5333 - accuracy: 0.7409\n",
      "Epoch 38/50\n",
      "804/804 [==============================] - 5s 7ms/step - loss: 0.5332 - accuracy: 0.7409\n",
      "Epoch 39/50\n",
      "804/804 [==============================] - 5s 7ms/step - loss: 0.5333 - accuracy: 0.7401\n",
      "Epoch 40/50\n",
      "804/804 [==============================] - 5s 7ms/step - loss: 0.5333 - accuracy: 0.7406\n",
      "Epoch 41/50\n",
      "804/804 [==============================] - 5s 6ms/step - loss: 0.5330 - accuracy: 0.7392\n",
      "Epoch 42/50\n",
      "804/804 [==============================] - 5s 7ms/step - loss: 0.5325 - accuracy: 0.7404\n",
      "Epoch 43/50\n",
      "804/804 [==============================] - 5s 7ms/step - loss: 0.5329 - accuracy: 0.7407\n",
      "Epoch 44/50\n",
      "804/804 [==============================] - 5s 7ms/step - loss: 0.5327 - accuracy: 0.7411\n",
      "Epoch 45/50\n",
      "804/804 [==============================] - 5s 7ms/step - loss: 0.5324 - accuracy: 0.7414\n",
      "Epoch 46/50\n",
      "804/804 [==============================] - 5s 7ms/step - loss: 0.5323 - accuracy: 0.7408\n",
      "Epoch 47/50\n",
      "804/804 [==============================] - 5s 7ms/step - loss: 0.5323 - accuracy: 0.7413\n",
      "Epoch 48/50\n",
      "804/804 [==============================] - 5s 7ms/step - loss: 0.5322 - accuracy: 0.7409\n",
      "Epoch 49/50\n",
      "804/804 [==============================] - 5s 6ms/step - loss: 0.5321 - accuracy: 0.7412\n",
      "Epoch 50/50\n",
      "804/804 [==============================] - 5s 7ms/step - loss: 0.5318 - accuracy: 0.7411\n"
     ]
    }
   ],
   "source": [
    "# Fit the model using 50 epochs and the training data\n",
    "fit_model_A1 =  nn_A1.fit(X_train_scaled, y_train, epochs=50)\n"
   ]
  },
  {
   "cell_type": "markdown",
   "metadata": {},
   "source": [
    "#### Alternative Model 2"
   ]
  },
  {
   "cell_type": "code",
   "execution_count": 214,
   "metadata": {},
   "outputs": [
    {
     "data": {
      "text/plain": [
       "116"
      ]
     },
     "execution_count": 214,
     "metadata": {},
     "output_type": "execute_result"
    }
   ],
   "source": [
    "# A2: Increase the number of hidden layers to 3\n",
    "\n",
    "# Define the the number of inputs (features) to the model\n",
    "number_input_features = len(X_train_scaled[0])\n",
    "\n",
    "# Review the number of features\n",
    "number_input_features"
   ]
  },
  {
   "cell_type": "code",
   "execution_count": 215,
   "metadata": {},
   "outputs": [],
   "source": [
    "# Define the number of neurons in the output layer\n",
    "number_output_neurons_A2 =  1"
   ]
  },
  {
   "cell_type": "code",
   "execution_count": 216,
   "metadata": {},
   "outputs": [
    {
     "data": {
      "text/plain": [
       "80"
      ]
     },
     "execution_count": 216,
     "metadata": {},
     "output_type": "execute_result"
    }
   ],
   "source": [
    "# Define the number of hidden nodes for the first hidden layer\n",
    "hidden_nodes_layer1_A2 = 80\n",
    "\n",
    "# Review the number of hidden nodes in the first layer\n",
    "hidden_nodes_layer1_A2"
   ]
  },
  {
   "cell_type": "code",
   "execution_count": 217,
   "metadata": {},
   "outputs": [
    {
     "data": {
      "text/plain": [
       "30"
      ]
     },
     "execution_count": 217,
     "metadata": {},
     "output_type": "execute_result"
    }
   ],
   "source": [
    "# Define the number of hidden nodes for the second hidden layer\n",
    "hidden_nodes_layer2_A2 = 30\n",
    "\n",
    "# Review the number of hidden nodes in the second layer\n",
    "hidden_nodes_layer2_A2\n"
   ]
  },
  {
   "cell_type": "code",
   "execution_count": 218,
   "metadata": {},
   "outputs": [
    {
     "data": {
      "text/plain": [
       "20"
      ]
     },
     "execution_count": 218,
     "metadata": {},
     "output_type": "execute_result"
    }
   ],
   "source": [
    "# Define the number of hidden nodes for the third hidden layer\n",
    "hidden_nodes_layer3_A2 =  20\n",
    "\n",
    "# Review the number of hidden nodes in the third layer\n",
    "hidden_nodes_layer3_A2\n"
   ]
  },
  {
   "cell_type": "code",
   "execution_count": 219,
   "metadata": {},
   "outputs": [],
   "source": [
    "# Create the Sequential model instance\n",
    "nn_A2 =  Sequential()"
   ]
  },
  {
   "cell_type": "code",
   "execution_count": 220,
   "metadata": {},
   "outputs": [
    {
     "name": "stdout",
     "output_type": "stream",
     "text": [
      "Model: \"sequential_10\"\n",
      "_________________________________________________________________\n",
      " Layer (type)                Output Shape              Param #   \n",
      "=================================================================\n",
      " dense_26 (Dense)            (None, 80)                9360      \n",
      "                                                                 \n",
      " dense_27 (Dense)            (None, 30)                2430      \n",
      "                                                                 \n",
      " dense_28 (Dense)            (None, 20)                620       \n",
      "                                                                 \n",
      " dense_29 (Dense)            (None, 1)                 21        \n",
      "                                                                 \n",
      "=================================================================\n",
      "Total params: 12,431\n",
      "Trainable params: 12,431\n",
      "Non-trainable params: 0\n",
      "_________________________________________________________________\n"
     ]
    }
   ],
   "source": [
    "# First hidden layer\n",
    "nn_A2.add(Dense(units=hidden_nodes_layer1_A2, input_dim=number_input_features, activation=\"relu\"))\n",
    "\n",
    "# Second hidden layer\n",
    "nn_A2.add(Dense(units=hidden_nodes_layer2_A1, activation=\"relu\"))\n",
    "\n",
    "# Third hidden layer\n",
    "nn_A2.add(Dense(units=hidden_nodes_layer3_A2, activation=\"relu\"))\n",
    "\n",
    "# Output layer\n",
    "nn_A2.add(Dense(units=number_output_neurons_A2, activation=\"sigmoid\"))\n",
    "\n",
    "# Check the structure of the model\n",
    "nn_A2.summary()\n",
    "\n"
   ]
  },
  {
   "cell_type": "code",
   "execution_count": 221,
   "metadata": {},
   "outputs": [],
   "source": [
    "# Compile the model\n",
    "nn_A2.compile(loss=\"binary_crossentropy\", optimizer=\"adam\", metrics=[\"accuracy\"])\n"
   ]
  },
  {
   "cell_type": "code",
   "execution_count": 222,
   "metadata": {},
   "outputs": [
    {
     "name": "stdout",
     "output_type": "stream",
     "text": [
      "Epoch 1/50\n",
      "  8/804 [..............................] - ETA: 5s - loss: 0.6730 - accuracy: 0.5742  "
     ]
    },
    {
     "name": "stderr",
     "output_type": "stream",
     "text": [
      "2022-09-10 15:42:58.529898: I tensorflow/core/grappler/optimizers/custom_graph_optimizer_registry.cc:113] Plugin optimizer for device_type GPU is enabled.\n"
     ]
    },
    {
     "name": "stdout",
     "output_type": "stream",
     "text": [
      "804/804 [==============================] - 6s 7ms/step - loss: 0.5717 - accuracy: 0.7219\n",
      "Epoch 2/50\n",
      "804/804 [==============================] - 5s 7ms/step - loss: 0.5509 - accuracy: 0.7297\n",
      "Epoch 3/50\n",
      "804/804 [==============================] - 5s 7ms/step - loss: 0.5471 - accuracy: 0.7322\n",
      "Epoch 4/50\n",
      "804/804 [==============================] - 5s 7ms/step - loss: 0.5460 - accuracy: 0.7336\n",
      "Epoch 5/50\n",
      "804/804 [==============================] - 5s 7ms/step - loss: 0.5449 - accuracy: 0.7334\n",
      "Epoch 6/50\n",
      "804/804 [==============================] - 5s 7ms/step - loss: 0.5444 - accuracy: 0.7344\n",
      "Epoch 7/50\n",
      "804/804 [==============================] - 5s 6ms/step - loss: 0.5430 - accuracy: 0.7355\n",
      "Epoch 8/50\n",
      "804/804 [==============================] - 5s 7ms/step - loss: 0.5421 - accuracy: 0.7355\n",
      "Epoch 9/50\n",
      "804/804 [==============================] - 5s 7ms/step - loss: 0.5417 - accuracy: 0.7364\n",
      "Epoch 10/50\n",
      "804/804 [==============================] - 5s 7ms/step - loss: 0.5412 - accuracy: 0.7357\n",
      "Epoch 11/50\n",
      "804/804 [==============================] - 5s 7ms/step - loss: 0.5408 - accuracy: 0.7362\n",
      "Epoch 12/50\n",
      "804/804 [==============================] - 5s 7ms/step - loss: 0.5399 - accuracy: 0.7372\n",
      "Epoch 13/50\n",
      "804/804 [==============================] - 5s 7ms/step - loss: 0.5399 - accuracy: 0.7357\n",
      "Epoch 14/50\n",
      "804/804 [==============================] - 5s 7ms/step - loss: 0.5391 - accuracy: 0.7370\n",
      "Epoch 15/50\n",
      "804/804 [==============================] - 5s 7ms/step - loss: 0.5391 - accuracy: 0.7372\n",
      "Epoch 16/50\n",
      "804/804 [==============================] - 5s 7ms/step - loss: 0.5382 - accuracy: 0.7378\n",
      "Epoch 17/50\n",
      "804/804 [==============================] - 5s 7ms/step - loss: 0.5382 - accuracy: 0.7381\n",
      "Epoch 18/50\n",
      "804/804 [==============================] - 5s 7ms/step - loss: 0.5379 - accuracy: 0.7372\n",
      "Epoch 19/50\n",
      "804/804 [==============================] - 5s 7ms/step - loss: 0.5369 - accuracy: 0.7390\n",
      "Epoch 20/50\n",
      "804/804 [==============================] - 5s 7ms/step - loss: 0.5370 - accuracy: 0.7390\n",
      "Epoch 21/50\n",
      "804/804 [==============================] - 5s 7ms/step - loss: 0.5365 - accuracy: 0.7392\n",
      "Epoch 22/50\n",
      "804/804 [==============================] - 5s 7ms/step - loss: 0.5362 - accuracy: 0.7400\n",
      "Epoch 23/50\n",
      "804/804 [==============================] - 5s 6ms/step - loss: 0.5360 - accuracy: 0.7390\n",
      "Epoch 24/50\n",
      "804/804 [==============================] - 5s 7ms/step - loss: 0.5355 - accuracy: 0.7395\n",
      "Epoch 25/50\n",
      "804/804 [==============================] - 5s 6ms/step - loss: 0.5354 - accuracy: 0.7396\n",
      "Epoch 26/50\n",
      "804/804 [==============================] - 5s 6ms/step - loss: 0.5350 - accuracy: 0.7404\n",
      "Epoch 27/50\n",
      "804/804 [==============================] - 5s 7ms/step - loss: 0.5347 - accuracy: 0.7409\n",
      "Epoch 28/50\n",
      "804/804 [==============================] - 5s 7ms/step - loss: 0.5340 - accuracy: 0.7401\n",
      "Epoch 29/50\n",
      "804/804 [==============================] - 5s 7ms/step - loss: 0.5342 - accuracy: 0.7400\n",
      "Epoch 30/50\n",
      "804/804 [==============================] - 5s 7ms/step - loss: 0.5340 - accuracy: 0.7397\n",
      "Epoch 31/50\n",
      "804/804 [==============================] - 5s 6ms/step - loss: 0.5340 - accuracy: 0.7407\n",
      "Epoch 32/50\n",
      "804/804 [==============================] - 5s 7ms/step - loss: 0.5333 - accuracy: 0.7411\n",
      "Epoch 33/50\n",
      "804/804 [==============================] - 5s 7ms/step - loss: 0.5332 - accuracy: 0.7411\n",
      "Epoch 34/50\n",
      "804/804 [==============================] - 5s 6ms/step - loss: 0.5331 - accuracy: 0.7411\n",
      "Epoch 35/50\n",
      "804/804 [==============================] - 5s 7ms/step - loss: 0.5329 - accuracy: 0.7409\n",
      "Epoch 36/50\n",
      "804/804 [==============================] - 5s 7ms/step - loss: 0.5328 - accuracy: 0.7411\n",
      "Epoch 37/50\n",
      "804/804 [==============================] - 5s 7ms/step - loss: 0.5325 - accuracy: 0.7415\n",
      "Epoch 38/50\n",
      "804/804 [==============================] - 5s 6ms/step - loss: 0.5325 - accuracy: 0.7415\n",
      "Epoch 39/50\n",
      "804/804 [==============================] - 5s 6ms/step - loss: 0.5325 - accuracy: 0.7412\n",
      "Epoch 40/50\n",
      "804/804 [==============================] - 5s 7ms/step - loss: 0.5323 - accuracy: 0.7407\n",
      "Epoch 41/50\n",
      "804/804 [==============================] - 5s 7ms/step - loss: 0.5317 - accuracy: 0.7412\n",
      "Epoch 42/50\n",
      "804/804 [==============================] - 5s 7ms/step - loss: 0.5318 - accuracy: 0.7413\n",
      "Epoch 43/50\n",
      "804/804 [==============================] - 5s 7ms/step - loss: 0.5314 - accuracy: 0.7415\n",
      "Epoch 44/50\n",
      "804/804 [==============================] - 5s 6ms/step - loss: 0.5314 - accuracy: 0.7412\n",
      "Epoch 45/50\n",
      "804/804 [==============================] - 5s 7ms/step - loss: 0.5315 - accuracy: 0.7412\n",
      "Epoch 46/50\n",
      "804/804 [==============================] - 5s 7ms/step - loss: 0.5312 - accuracy: 0.7422\n",
      "Epoch 47/50\n",
      "804/804 [==============================] - 5s 7ms/step - loss: 0.5310 - accuracy: 0.7412\n",
      "Epoch 48/50\n",
      "804/804 [==============================] - 5s 7ms/step - loss: 0.5309 - accuracy: 0.7411\n",
      "Epoch 49/50\n",
      "804/804 [==============================] - 5s 7ms/step - loss: 0.5312 - accuracy: 0.7417\n",
      "Epoch 50/50\n",
      "804/804 [==============================] - 5s 7ms/step - loss: 0.5308 - accuracy: 0.7413\n"
     ]
    }
   ],
   "source": [
    "# Fit the model\n",
    "fit_model_A2 =  nn_A2.fit(X_train_scaled, y_train, epochs=50)\n"
   ]
  },
  {
   "cell_type": "markdown",
   "metadata": {},
   "source": [
    "### Step 2: After finishing your models, display the accuracy scores achieved by each model, and compare the results."
   ]
  },
  {
   "cell_type": "code",
   "execution_count": 223,
   "metadata": {},
   "outputs": [
    {
     "name": "stdout",
     "output_type": "stream",
     "text": [
      "Original Model Results\n",
      "268/268 - 1s - loss: 0.5555 - accuracy: 0.7301 - 979ms/epoch - 4ms/step\n",
      "Loss: 0.5554770827293396, Accuracy: 0.7301457524299622\n"
     ]
    }
   ],
   "source": [
    "print(\"Original Model Results\")\n",
    "\n",
    "# Evaluate the model loss and accuracy metrics using the evaluate method and the test data\n",
    "model_loss, model_accuracy =  nn.evaluate(X_test_scaled,y_test,verbose=2)\n",
    "\n",
    "# Display the model loss and accuracy results\n",
    "print(f\"Loss: {model_loss}, Accuracy: {model_accuracy}\")"
   ]
  },
  {
   "cell_type": "code",
   "execution_count": 224,
   "metadata": {},
   "outputs": [
    {
     "name": "stdout",
     "output_type": "stream",
     "text": [
      "Alternative Model 1 Results\n"
     ]
    },
    {
     "name": "stderr",
     "output_type": "stream",
     "text": [
      "2022-09-10 15:48:21.313448: I tensorflow/core/grappler/optimizers/custom_graph_optimizer_registry.cc:113] Plugin optimizer for device_type GPU is enabled.\n"
     ]
    },
    {
     "name": "stdout",
     "output_type": "stream",
     "text": [
      "268/268 - 1s - loss: 0.5508 - accuracy: 0.7286 - 986ms/epoch - 4ms/step\n",
      "Loss: 0.5508069396018982, Accuracy: 0.7286297082901001\n"
     ]
    }
   ],
   "source": [
    "print(\"Alternative Model 1 Results\")\n",
    "\n",
    "# Evaluate the model loss and accuracy metrics using the evaluate method and the test data\n",
    "model_loss, model_accuracy = nn_A1.evaluate(X_test_scaled,y_test,verbose=2)\n",
    "\n",
    "# Display the model loss and accuracy results\n",
    "print(f\"Loss: {model_loss}, Accuracy: {model_accuracy}\")"
   ]
  },
  {
   "cell_type": "code",
   "execution_count": 225,
   "metadata": {},
   "outputs": [
    {
     "name": "stdout",
     "output_type": "stream",
     "text": [
      "Alternative Model 2 Results\n"
     ]
    },
    {
     "name": "stderr",
     "output_type": "stream",
     "text": [
      "2022-09-10 15:48:29.021308: I tensorflow/core/grappler/optimizers/custom_graph_optimizer_registry.cc:113] Plugin optimizer for device_type GPU is enabled.\n"
     ]
    },
    {
     "name": "stdout",
     "output_type": "stream",
     "text": [
      "268/268 - 1s - loss: 0.5570 - accuracy: 0.7311 - 1s/epoch - 4ms/step\n",
      "Loss: 0.5570350885391235, Accuracy: 0.7310786843299866\n"
     ]
    }
   ],
   "source": [
    "print(\"Alternative Model 2 Results\")\n",
    "\n",
    "# Evaluate the model loss and accuracy metrics using the evaluate method and the test data\n",
    "model_loss, model_accuracy =  nn_A2.evaluate(X_test_scaled,y_test,verbose=2)\n",
    "\n",
    "# Display the model loss and accuracy results\n",
    "print(f\"Loss: {model_loss}, Accuracy: {model_accuracy}\")"
   ]
  },
  {
   "cell_type": "code",
   "execution_count": 274,
   "metadata": {},
   "outputs": [
    {
     "data": {
      "text/plain": [
       "116"
      ]
     },
     "execution_count": 274,
     "metadata": {},
     "output_type": "execute_result"
    }
   ],
   "source": [
    "# A3: Adjust the activation function to Leaky ReLU\n",
    "\n",
    "from tensorflow.keras.layers import LeakyReLU, Dense\n",
    "leaky_relu  = LeakyReLU(alpha=0.1)\n",
    "\n",
    "# Define the the number of inputs (features) to the model\n",
    "number_input_features = len(X_train_scaled[0])\n",
    "\n",
    "# Review the number of features\n",
    "number_input_features\n",
    "\n",
    "\n"
   ]
  },
  {
   "cell_type": "code",
   "execution_count": 275,
   "metadata": {},
   "outputs": [],
   "source": [
    "# Define the number of neurons in the output layer\n",
    "number_output_neurons_A3 =  1\n"
   ]
  },
  {
   "cell_type": "code",
   "execution_count": 276,
   "metadata": {},
   "outputs": [
    {
     "data": {
      "text/plain": [
       "80"
      ]
     },
     "execution_count": 276,
     "metadata": {},
     "output_type": "execute_result"
    }
   ],
   "source": [
    "# Define the number of hidden nodes for the first hidden layer\n",
    "hidden_nodes_layer1_A3 = 80\n",
    "\n",
    "# Review the number of hidden nodes in the first layer\n",
    "hidden_nodes_layer1_A3\n"
   ]
  },
  {
   "cell_type": "code",
   "execution_count": 277,
   "metadata": {},
   "outputs": [
    {
     "data": {
      "text/plain": [
       "30"
      ]
     },
     "execution_count": 277,
     "metadata": {},
     "output_type": "execute_result"
    }
   ],
   "source": [
    "# Define the number of hidden nodes for the second hidden layer\n",
    "hidden_nodes_layer2_A3 = 30\n",
    "\n",
    "# Review the number of hidden nodes in the second layer\n",
    "hidden_nodes_layer2_A3\n"
   ]
  },
  {
   "cell_type": "code",
   "execution_count": 278,
   "metadata": {},
   "outputs": [],
   "source": [
    "# Create the Sequential model instance\n",
    "nn_A3 =  Sequential()\n"
   ]
  },
  {
   "cell_type": "code",
   "execution_count": 280,
   "metadata": {},
   "outputs": [],
   "source": [
    "# First hidden layer\n",
    "nn_A3.add(Dense(units=hidden_nodes_layer1_A3, input_dim=number_input_features, activation= leaky_relu))\n"
   ]
  },
  {
   "cell_type": "code",
   "execution_count": 282,
   "metadata": {},
   "outputs": [],
   "source": [
    "# Second hidden layer\n",
    "nn_A3.add(Dense(units=hidden_nodes_layer2_A3, activation=\"leaky_relu\"))\n",
    "\n"
   ]
  },
  {
   "cell_type": "code",
   "execution_count": 283,
   "metadata": {},
   "outputs": [],
   "source": [
    "# Output layer\n",
    "nn_A3.add(Dense(units=number_output_neurons_A3, activation=\"sigmoid\"))\n"
   ]
  },
  {
   "cell_type": "code",
   "execution_count": 284,
   "metadata": {},
   "outputs": [
    {
     "name": "stdout",
     "output_type": "stream",
     "text": [
      "Model: \"sequential_13\"\n",
      "_________________________________________________________________\n",
      " Layer (type)                Output Shape              Param #   \n",
      "=================================================================\n",
      " dense_36 (Dense)            (None, 80)                9360      \n",
      "                                                                 \n",
      " dense_38 (Dense)            (None, 30)                2430      \n",
      "                                                                 \n",
      " dense_39 (Dense)            (None, 1)                 31        \n",
      "                                                                 \n",
      "=================================================================\n",
      "Total params: 11,821\n",
      "Trainable params: 11,821\n",
      "Non-trainable params: 0\n",
      "_________________________________________________________________\n"
     ]
    }
   ],
   "source": [
    "# Display the Sequential model summary\n",
    "nn_A3.summary()\n"
   ]
  },
  {
   "cell_type": "code",
   "execution_count": 285,
   "metadata": {},
   "outputs": [],
   "source": [
    "# Compile the model\n",
    "nn_A3.compile(loss=\"binary_crossentropy\", optimizer=\"adam\", metrics=[\"accuracy\"])\n"
   ]
  },
  {
   "cell_type": "code",
   "execution_count": 286,
   "metadata": {},
   "outputs": [
    {
     "name": "stdout",
     "output_type": "stream",
     "text": [
      "Epoch 1/50\n"
     ]
    },
    {
     "name": "stderr",
     "output_type": "stream",
     "text": [
      "2022-09-10 18:41:39.746778: I tensorflow/core/grappler/optimizers/custom_graph_optimizer_registry.cc:113] Plugin optimizer for device_type GPU is enabled.\n"
     ]
    },
    {
     "name": "stdout",
     "output_type": "stream",
     "text": [
      "804/804 [==============================] - 6s 6ms/step - loss: 0.5758 - accuracy: 0.7175\n",
      "Epoch 2/50\n",
      "804/804 [==============================] - 5s 6ms/step - loss: 0.5542 - accuracy: 0.7299\n",
      "Epoch 3/50\n",
      "804/804 [==============================] - 5s 6ms/step - loss: 0.5506 - accuracy: 0.7300\n",
      "Epoch 4/50\n",
      "804/804 [==============================] - 5s 6ms/step - loss: 0.5485 - accuracy: 0.7312\n",
      "Epoch 5/50\n",
      "804/804 [==============================] - 5s 6ms/step - loss: 0.5478 - accuracy: 0.7322\n",
      "Epoch 6/50\n",
      "804/804 [==============================] - 5s 6ms/step - loss: 0.5458 - accuracy: 0.7329\n",
      "Epoch 7/50\n",
      "804/804 [==============================] - 5s 6ms/step - loss: 0.5447 - accuracy: 0.7335\n",
      "Epoch 8/50\n",
      "804/804 [==============================] - 5s 6ms/step - loss: 0.5447 - accuracy: 0.7345\n",
      "Epoch 9/50\n",
      "804/804 [==============================] - 5s 7ms/step - loss: 0.5438 - accuracy: 0.7345\n",
      "Epoch 10/50\n",
      "804/804 [==============================] - 5s 6ms/step - loss: 0.5434 - accuracy: 0.7343\n",
      "Epoch 11/50\n",
      "804/804 [==============================] - 5s 6ms/step - loss: 0.5420 - accuracy: 0.7351\n",
      "Epoch 12/50\n",
      "804/804 [==============================] - 5s 6ms/step - loss: 0.5419 - accuracy: 0.7341\n",
      "Epoch 13/50\n",
      "804/804 [==============================] - 5s 6ms/step - loss: 0.5413 - accuracy: 0.7351\n",
      "Epoch 14/50\n",
      "804/804 [==============================] - 5s 6ms/step - loss: 0.5417 - accuracy: 0.7346\n",
      "Epoch 15/50\n",
      "804/804 [==============================] - 5s 6ms/step - loss: 0.5407 - accuracy: 0.7358\n",
      "Epoch 16/50\n",
      "804/804 [==============================] - 5s 6ms/step - loss: 0.5403 - accuracy: 0.7355\n",
      "Epoch 17/50\n",
      "804/804 [==============================] - 5s 6ms/step - loss: 0.5401 - accuracy: 0.7367\n",
      "Epoch 18/50\n",
      "804/804 [==============================] - 5s 6ms/step - loss: 0.5399 - accuracy: 0.7358\n",
      "Epoch 19/50\n",
      "804/804 [==============================] - 5s 6ms/step - loss: 0.5397 - accuracy: 0.7374\n",
      "Epoch 20/50\n",
      "804/804 [==============================] - 5s 6ms/step - loss: 0.5395 - accuracy: 0.7364\n",
      "Epoch 21/50\n",
      "804/804 [==============================] - 5s 6ms/step - loss: 0.5388 - accuracy: 0.7376\n",
      "Epoch 22/50\n",
      "804/804 [==============================] - 5s 6ms/step - loss: 0.5384 - accuracy: 0.7367\n",
      "Epoch 23/50\n",
      "804/804 [==============================] - 5s 7ms/step - loss: 0.5384 - accuracy: 0.7366\n",
      "Epoch 24/50\n",
      "804/804 [==============================] - 5s 6ms/step - loss: 0.5383 - accuracy: 0.7377\n",
      "Epoch 25/50\n",
      "804/804 [==============================] - 5s 6ms/step - loss: 0.5382 - accuracy: 0.7371\n",
      "Epoch 26/50\n",
      "804/804 [==============================] - 5s 6ms/step - loss: 0.5376 - accuracy: 0.7376\n",
      "Epoch 27/50\n",
      "804/804 [==============================] - 5s 6ms/step - loss: 0.5378 - accuracy: 0.7386\n",
      "Epoch 28/50\n",
      "804/804 [==============================] - 5s 6ms/step - loss: 0.5375 - accuracy: 0.7373\n",
      "Epoch 29/50\n",
      "804/804 [==============================] - 5s 6ms/step - loss: 0.5374 - accuracy: 0.7385\n",
      "Epoch 30/50\n",
      "804/804 [==============================] - 5s 6ms/step - loss: 0.5373 - accuracy: 0.7384\n",
      "Epoch 31/50\n",
      "804/804 [==============================] - 5s 7ms/step - loss: 0.5366 - accuracy: 0.7385\n",
      "Epoch 32/50\n",
      "804/804 [==============================] - 5s 6ms/step - loss: 0.5368 - accuracy: 0.7382\n",
      "Epoch 33/50\n",
      "804/804 [==============================] - 5s 6ms/step - loss: 0.5364 - accuracy: 0.7389\n",
      "Epoch 34/50\n",
      "804/804 [==============================] - 5s 6ms/step - loss: 0.5360 - accuracy: 0.7388\n",
      "Epoch 35/50\n",
      "804/804 [==============================] - 5s 6ms/step - loss: 0.5362 - accuracy: 0.7385\n",
      "Epoch 36/50\n",
      "804/804 [==============================] - 5s 6ms/step - loss: 0.5360 - accuracy: 0.7390\n",
      "Epoch 37/50\n",
      "804/804 [==============================] - 5s 6ms/step - loss: 0.5355 - accuracy: 0.7376\n",
      "Epoch 38/50\n",
      "804/804 [==============================] - 5s 6ms/step - loss: 0.5357 - accuracy: 0.7382\n",
      "Epoch 39/50\n",
      "804/804 [==============================] - 5s 6ms/step - loss: 0.5355 - accuracy: 0.7394\n",
      "Epoch 40/50\n",
      "804/804 [==============================] - 5s 6ms/step - loss: 0.5354 - accuracy: 0.7398\n",
      "Epoch 41/50\n",
      "804/804 [==============================] - 5s 6ms/step - loss: 0.5353 - accuracy: 0.7389\n",
      "Epoch 42/50\n",
      "804/804 [==============================] - 5s 6ms/step - loss: 0.5354 - accuracy: 0.7372\n",
      "Epoch 43/50\n",
      "804/804 [==============================] - 5s 6ms/step - loss: 0.5351 - accuracy: 0.7386\n",
      "Epoch 44/50\n",
      "804/804 [==============================] - 5s 6ms/step - loss: 0.5346 - accuracy: 0.7379\n",
      "Epoch 45/50\n",
      "804/804 [==============================] - 5s 6ms/step - loss: 0.5349 - accuracy: 0.7390\n",
      "Epoch 46/50\n",
      "804/804 [==============================] - 5s 6ms/step - loss: 0.5344 - accuracy: 0.7404\n",
      "Epoch 47/50\n",
      "804/804 [==============================] - 5s 6ms/step - loss: 0.5346 - accuracy: 0.7400\n",
      "Epoch 48/50\n",
      "804/804 [==============================] - 5s 6ms/step - loss: 0.5347 - accuracy: 0.7392\n",
      "Epoch 49/50\n",
      "804/804 [==============================] - 5s 6ms/step - loss: 0.5345 - accuracy: 0.7392\n",
      "Epoch 50/50\n",
      "804/804 [==============================] - 5s 6ms/step - loss: 0.5343 - accuracy: 0.7393\n"
     ]
    }
   ],
   "source": [
    "# Fit the model\n",
    "fit_model_A3 =  nn_A3.fit(X_train_scaled, y_train, epochs=50)\n"
   ]
  },
  {
   "cell_type": "code",
   "execution_count": 288,
   "metadata": {},
   "outputs": [
    {
     "name": "stdout",
     "output_type": "stream",
     "text": [
      "268/268 - 1s - loss: 0.5566 - accuracy: 0.7312 - 858ms/epoch - 3ms/step\n",
      "Loss: 0.5566335320472717, Accuracy: 0.731195330619812\n"
     ]
    }
   ],
   "source": [
    "# Evaluate the model loss and accuracy metrics using the evaluate method and the test data\n",
    "model_loss, model_accuracy =  nn_A3.evaluate(X_test_scaled,y_test,verbose=2)\n",
    "\n",
    "# Display the model loss and accuracy results\n",
    "print(f\"Loss: {model_loss}, Accuracy: {model_accuracy}\")\n"
   ]
  },
  {
   "cell_type": "markdown",
   "metadata": {},
   "source": [
    "### Step 3: Save each of your alternative models as an HDF5 file.\n"
   ]
  },
  {
   "cell_type": "code",
   "execution_count": 289,
   "metadata": {},
   "outputs": [],
   "source": [
    "# Set the file path for the first alternative model\n",
    "file_path =  Path('/Users/michaeldionne/Documents/GitHub/Fintech-Workspace/Module 13/Module-13-Challenge/AlphabetSoupCharity_A1.h5')\n",
    "\n",
    "# Export your model to a HDF5 file\n",
    "nn_A1.save(file_path)\n"
   ]
  },
  {
   "cell_type": "code",
   "execution_count": 290,
   "metadata": {},
   "outputs": [],
   "source": [
    "# Set the file path for the second alternative model\n",
    "file_path =  Path('/Users/michaeldionne/Documents/GitHub/Fintech-Workspace/Module 13/Module-13-Challenge/AlphabetSoupCharity_A2.h5')\n",
    "\n",
    "# Export your model to a HDF5 file\n",
    "nn_A2.save(file_path)\n"
   ]
  },
  {
   "cell_type": "code",
   "execution_count": 291,
   "metadata": {},
   "outputs": [],
   "source": [
    "# Set the file path for the third alternative model\n",
    "file_path =  Path('/Users/michaeldionne/Documents/GitHub/Fintech-Workspace/Module 13/Module-13-Challenge/AlphabetSoupCharity_A3.h5')\n",
    "\n",
    "# Export your model to a HDF5 file\n",
    "nn_A3.save(file_path)"
   ]
  },
  {
   "cell_type": "code",
   "execution_count": 292,
   "metadata": {},
   "outputs": [],
   "source": [
    "import matplotlib.pyplot as plt\n"
   ]
  },
  {
   "cell_type": "code",
   "execution_count": 296,
   "metadata": {},
   "outputs": [
    {
     "data": {
      "text/plain": [
       "<matplotlib.legend.Legend at 0x338f0e340>"
      ]
     },
     "execution_count": 296,
     "metadata": {},
     "output_type": "execute_result"
    },
    {
     "data": {
      "image/png": "[encoded data removed]",
      "image/svg+xml": "<?xml version=\"1.0\" encoding=\"utf-8\" standalone=\"no\"?>\n<!DOCTYPE svg PUBLIC \"-//W3C//DTD SVG 1.1//EN\"\n  \"http://www.w3.org/Graphics/SVG/1.1/DTD/svg11.dtd\">\n<svg xmlns:xlink=\"http://www.w3.org/1999/xlink\" width=\"392.14375pt\" height=\"277.314375pt\" viewBox=\"0 0 392.14375 277.314375\" xmlns=\"http://www.w3.org/2000/svg\" version=\"1.1\">\n <metadata>\n  <rdf:RDF xmlns:dc=\"http://purl.org/dc/elements/1.1/\" xmlns:cc=\"http://creativecommons.org/ns#\" xmlns:rdf=\"http://www.w3.org/1999/02/22-rdf-syntax-ns#\">\n   <cc:Work>\n    <dc:type rdf:resource=\"http://purl.org/dc/dcmitype/StillImage\"/>\n    <dc:date>2022-09-10T18:48:20.038000</dc:date>\n    <dc:format>image/svg+xml</dc:format>\n    <dc:creator>\n     <cc:Agent>\n      <dc:title>Matplotlib v3.5.1, https://matplotlib.org/</dc:title>\n     </cc:Agent>\n    </dc:creator>\n   </cc:Work>\n  </rdf:RDF>\n </metadata>\n <defs>\n  <style type=\"text/css\">*{stroke-linejoin: round; stroke-linecap: butt}</style>\n </defs>\n <g id=\"figure_1\">\n  <g id=\"patch_1\">\n   <path d=\"M 0 277.314375 \nL 392.14375 277.314375 \nL 392.14375 0 \nL 0 0 \nL 0 277.314375 \nz\n\" style=\"fill: none\"/>\n  </g>\n  <g id=\"axes_1\">\n   <g id=\"patch_2\">\n    <path d=\"M 50.14375 239.758125 \nL 384.94375 239.758125 \nL 384.94375 22.318125 \nL 50.14375 22.318125 \nz\n\" style=\"fill: #ffffff\"/>\n   </g>\n   <g id=\"matplotlib.axis_1\">\n    <g id=\"xtick_1\">\n     <g id=\"line2d_1\">\n      <defs>\n       <path id=\"m570be32fe5\" d=\"M 0 0 \nL 0 3.5 \n\" style=\"stroke: #000000; stroke-width: 0.8\"/>\n      </defs>\n      <g>\n       <use xlink:href=\"#m570be32fe5\" x=\"65.361932\" y=\"239.758125\" style=\"stroke: #000000; stroke-width: 0.8\"/>\n      </g>\n     </g>\n     <g id=\"text_1\">\n      <!-- 0 -->\n      <g transform=\"translate(62.180682 254.356562)scale(0.1 -0.1)\">\n       <defs>\n        <path id=\"DejaVuSans-30\" d=\"M 2034 4250 \nQ 1547 4250 1301 3770 \nQ 1056 3291 1056 2328 \nQ 1056 1369 1301 889 \nQ 1547 409 2034 409 \nQ 2525 409 2770 889 \nQ 3016 1369 3016 2328 \nQ 3016 3291 2770 3770 \nQ 2525 4250 2034 4250 \nz\nM 2034 4750 \nQ 2819 4750 3233 4129 \nQ 3647 3509 3647 2328 \nQ 3647 1150 3233 529 \nQ 2819 -91 2034 -91 \nQ 1250 -91 836 529 \nQ 422 1150 422 2328 \nQ 422 3509 836 4129 \nQ 1250 4750 2034 4750 \nz\n\" transform=\"scale(0.015625)\"/>\n       </defs>\n       <use xlink:href=\"#DejaVuSans-30\"/>\n      </g>\n     </g>\n    </g>\n    <g id=\"xtick_2\">\n     <g id=\"line2d_2\">\n      <g>\n       <use xlink:href=\"#m570be32fe5\" x=\"127.47696\" y=\"239.758125\" style=\"stroke: #000000; stroke-width: 0.8\"/>\n      </g>\n     </g>\n     <g id=\"text_2\">\n      <!-- 10 -->\n      <g transform=\"translate(121.11446 254.356562)scale(0.1 -0.1)\">\n       <defs>\n        <path id=\"DejaVuSans-31\" d=\"M 794 531 \nL 1825 531 \nL 1825 4091 \nL 703 3866 \nL 703 4441 \nL 1819 4666 \nL 2450 4666 \nL 2450 531 \nL 3481 531 \nL 3481 0 \nL 794 0 \nL 794 531 \nz\n\" transform=\"scale(0.015625)\"/>\n       </defs>\n       <use xlink:href=\"#DejaVuSans-31\"/>\n       <use xlink:href=\"#DejaVuSans-30\" x=\"63.623047\"/>\n      </g>\n     </g>\n    </g>\n    <g id=\"xtick_3\">\n     <g id=\"line2d_3\">\n      <g>\n       <use xlink:href=\"#m570be32fe5\" x=\"189.591987\" y=\"239.758125\" style=\"stroke: #000000; stroke-width: 0.8\"/>\n      </g>\n     </g>\n     <g id=\"text_3\">\n      <!-- 20 -->\n      <g transform=\"translate(183.229487 254.356562)scale(0.1 -0.1)\">\n       <defs>\n        <path id=\"DejaVuSans-32\" d=\"M 1228 531 \nL 3431 531 \nL 3431 0 \nL 469 0 \nL 469 531 \nQ 828 903 1448 1529 \nQ 2069 2156 2228 2338 \nQ 2531 2678 2651 2914 \nQ 2772 3150 2772 3378 \nQ 2772 3750 2511 3984 \nQ 2250 4219 1831 4219 \nQ 1534 4219 1204 4116 \nQ 875 4013 500 3803 \nL 500 4441 \nQ 881 4594 1212 4672 \nQ 1544 4750 1819 4750 \nQ 2544 4750 2975 4387 \nQ 3406 4025 3406 3419 \nQ 3406 3131 3298 2873 \nQ 3191 2616 2906 2266 \nQ 2828 2175 2409 1742 \nQ 1991 1309 1228 531 \nz\n\" transform=\"scale(0.015625)\"/>\n       </defs>\n       <use xlink:href=\"#DejaVuSans-32\"/>\n       <use xlink:href=\"#DejaVuSans-30\" x=\"63.623047\"/>\n      </g>\n     </g>\n    </g>\n    <g id=\"xtick_4\">\n     <g id=\"line2d_4\">\n      <g>\n       <use xlink:href=\"#m570be32fe5\" x=\"251.707015\" y=\"239.758125\" style=\"stroke: #000000; stroke-width: 0.8\"/>\n      </g>\n     </g>\n     <g id=\"text_4\">\n      <!-- 30 -->\n      <g transform=\"translate(245.344515 254.356562)scale(0.1 -0.1)\">\n       <defs>\n        <path id=\"DejaVuSans-33\" d=\"M 2597 2516 \nQ 3050 2419 3304 2112 \nQ 3559 1806 3559 1356 \nQ 3559 666 3084 287 \nQ 2609 -91 1734 -91 \nQ 1441 -91 1130 -33 \nQ 819 25 488 141 \nL 488 750 \nQ 750 597 1062 519 \nQ 1375 441 1716 441 \nQ 2309 441 2620 675 \nQ 2931 909 2931 1356 \nQ 2931 1769 2642 2001 \nQ 2353 2234 1838 2234 \nL 1294 2234 \nL 1294 2753 \nL 1863 2753 \nQ 2328 2753 2575 2939 \nQ 2822 3125 2822 3475 \nQ 2822 3834 2567 4026 \nQ 2313 4219 1838 4219 \nQ 1578 4219 1281 4162 \nQ 984 4106 628 3988 \nL 628 4550 \nQ 988 4650 1302 4700 \nQ 1616 4750 1894 4750 \nQ 2613 4750 3031 4423 \nQ 3450 4097 3450 3541 \nQ 3450 3153 3228 2886 \nQ 3006 2619 2597 2516 \nz\n\" transform=\"scale(0.015625)\"/>\n       </defs>\n       <use xlink:href=\"#DejaVuSans-33\"/>\n       <use xlink:href=\"#DejaVuSans-30\" x=\"63.623047\"/>\n      </g>\n     </g>\n    </g>\n    <g id=\"xtick_5\">\n     <g id=\"line2d_5\">\n      <g>\n       <use xlink:href=\"#m570be32fe5\" x=\"313.822043\" y=\"239.758125\" style=\"stroke: #000000; stroke-width: 0.8\"/>\n      </g>\n     </g>\n     <g id=\"text_5\">\n      <!-- 40 -->\n      <g transform=\"translate(307.459543 254.356562)scale(0.1 -0.1)\">\n       <defs>\n        <path id=\"DejaVuSans-34\" d=\"M 2419 4116 \nL 825 1625 \nL 2419 1625 \nL 2419 4116 \nz\nM 2253 4666 \nL 3047 4666 \nL 3047 1625 \nL 3713 1625 \nL 3713 1100 \nL 3047 1100 \nL 3047 0 \nL 2419 0 \nL 2419 1100 \nL 313 1100 \nL 313 1709 \nL 2253 4666 \nz\n\" transform=\"scale(0.015625)\"/>\n       </defs>\n       <use xlink:href=\"#DejaVuSans-34\"/>\n       <use xlink:href=\"#DejaVuSans-30\" x=\"63.623047\"/>\n      </g>\n     </g>\n    </g>\n    <g id=\"xtick_6\">\n     <g id=\"line2d_6\">\n      <g>\n       <use xlink:href=\"#m570be32fe5\" x=\"375.937071\" y=\"239.758125\" style=\"stroke: #000000; stroke-width: 0.8\"/>\n      </g>\n     </g>\n     <g id=\"text_6\">\n      <!-- 50 -->\n      <g transform=\"translate(369.574571 254.356562)scale(0.1 -0.1)\">\n       <defs>\n        <path id=\"DejaVuSans-35\" d=\"M 691 4666 \nL 3169 4666 \nL 3169 4134 \nL 1269 4134 \nL 1269 2991 \nQ 1406 3038 1543 3061 \nQ 1681 3084 1819 3084 \nQ 2600 3084 3056 2656 \nQ 3513 2228 3513 1497 \nQ 3513 744 3044 326 \nQ 2575 -91 1722 -91 \nQ 1428 -91 1123 -41 \nQ 819 9 494 109 \nL 494 744 \nQ 775 591 1075 516 \nQ 1375 441 1709 441 \nQ 2250 441 2565 725 \nQ 2881 1009 2881 1497 \nQ 2881 1984 2565 2268 \nQ 2250 2553 1709 2553 \nQ 1456 2553 1204 2497 \nQ 953 2441 691 2322 \nL 691 4666 \nz\n\" transform=\"scale(0.015625)\"/>\n       </defs>\n       <use xlink:href=\"#DejaVuSans-35\"/>\n       <use xlink:href=\"#DejaVuSans-30\" x=\"63.623047\"/>\n      </g>\n     </g>\n    </g>\n    <g id=\"text_7\">\n     <!-- Epochs -->\n     <g transform=\"translate(199.628125 268.034687)scale(0.1 -0.1)\">\n      <defs>\n       <path id=\"DejaVuSans-45\" d=\"M 628 4666 \nL 3578 4666 \nL 3578 4134 \nL 1259 4134 \nL 1259 2753 \nL 3481 2753 \nL 3481 2222 \nL 1259 2222 \nL 1259 531 \nL 3634 531 \nL 3634 0 \nL 628 0 \nL 628 4666 \nz\n\" transform=\"scale(0.015625)\"/>\n       <path id=\"DejaVuSans-70\" d=\"M 1159 525 \nL 1159 -1331 \nL 581 -1331 \nL 581 3500 \nL 1159 3500 \nL 1159 2969 \nQ 1341 3281 1617 3432 \nQ 1894 3584 2278 3584 \nQ 2916 3584 3314 3078 \nQ 3713 2572 3713 1747 \nQ 3713 922 3314 415 \nQ 2916 -91 2278 -91 \nQ 1894 -91 1617 61 \nQ 1341 213 1159 525 \nz\nM 3116 1747 \nQ 3116 2381 2855 2742 \nQ 2594 3103 2138 3103 \nQ 1681 3103 1420 2742 \nQ 1159 2381 1159 1747 \nQ 1159 1113 1420 752 \nQ 1681 391 2138 391 \nQ 2594 391 2855 752 \nQ 3116 1113 3116 1747 \nz\n\" transform=\"scale(0.015625)\"/>\n       <path id=\"DejaVuSans-6f\" d=\"M 1959 3097 \nQ 1497 3097 1228 2736 \nQ 959 2375 959 1747 \nQ 959 1119 1226 758 \nQ 1494 397 1959 397 \nQ 2419 397 2687 759 \nQ 2956 1122 2956 1747 \nQ 2956 2369 2687 2733 \nQ 2419 3097 1959 3097 \nz\nM 1959 3584 \nQ 2709 3584 3137 3096 \nQ 3566 2609 3566 1747 \nQ 3566 888 3137 398 \nQ 2709 -91 1959 -91 \nQ 1206 -91 779 398 \nQ 353 888 353 1747 \nQ 353 2609 779 3096 \nQ 1206 3584 1959 3584 \nz\n\" transform=\"scale(0.015625)\"/>\n       <path id=\"DejaVuSans-63\" d=\"M 3122 3366 \nL 3122 2828 \nQ 2878 2963 2633 3030 \nQ 2388 3097 2138 3097 \nQ 1578 3097 1268 2742 \nQ 959 2388 959 1747 \nQ 959 1106 1268 751 \nQ 1578 397 2138 397 \nQ 2388 397 2633 464 \nQ 2878 531 3122 666 \nL 3122 134 \nQ 2881 22 2623 -34 \nQ 2366 -91 2075 -91 \nQ 1284 -91 818 406 \nQ 353 903 353 1747 \nQ 353 2603 823 3093 \nQ 1294 3584 2113 3584 \nQ 2378 3584 2631 3529 \nQ 2884 3475 3122 3366 \nz\n\" transform=\"scale(0.015625)\"/>\n       <path id=\"DejaVuSans-68\" d=\"M 3513 2113 \nL 3513 0 \nL 2938 0 \nL 2938 2094 \nQ 2938 2591 2744 2837 \nQ 2550 3084 2163 3084 \nQ 1697 3084 1428 2787 \nQ 1159 2491 1159 1978 \nL 1159 0 \nL 581 0 \nL 581 4863 \nL 1159 4863 \nL 1159 2956 \nQ 1366 3272 1645 3428 \nQ 1925 3584 2291 3584 \nQ 2894 3584 3203 3211 \nQ 3513 2838 3513 2113 \nz\n\" transform=\"scale(0.015625)\"/>\n       <path id=\"DejaVuSans-73\" d=\"M 2834 3397 \nL 2834 2853 \nQ 2591 2978 2328 3040 \nQ 2066 3103 1784 3103 \nQ 1356 3103 1142 2972 \nQ 928 2841 928 2578 \nQ 928 2378 1081 2264 \nQ 1234 2150 1697 2047 \nL 1894 2003 \nQ 2506 1872 2764 1633 \nQ 3022 1394 3022 966 \nQ 3022 478 2636 193 \nQ 2250 -91 1575 -91 \nQ 1294 -91 989 -36 \nQ 684 19 347 128 \nL 347 722 \nQ 666 556 975 473 \nQ 1284 391 1588 391 \nQ 1994 391 2212 530 \nQ 2431 669 2431 922 \nQ 2431 1156 2273 1281 \nQ 2116 1406 1581 1522 \nL 1381 1569 \nQ 847 1681 609 1914 \nQ 372 2147 372 2553 \nQ 372 3047 722 3315 \nQ 1072 3584 1716 3584 \nQ 2034 3584 2315 3537 \nQ 2597 3491 2834 3397 \nz\n\" transform=\"scale(0.015625)\"/>\n      </defs>\n      <use xlink:href=\"#DejaVuSans-45\"/>\n      <use xlink:href=\"#DejaVuSans-70\" x=\"63.183594\"/>\n      <use xlink:href=\"#DejaVuSans-6f\" x=\"126.660156\"/>\n      <use xlink:href=\"#DejaVuSans-63\" x=\"187.841797\"/>\n      <use xlink:href=\"#DejaVuSans-68\" x=\"242.822266\"/>\n      <use xlink:href=\"#DejaVuSans-73\" x=\"306.201172\"/>\n     </g>\n    </g>\n   </g>\n   <g id=\"matplotlib.axis_2\">\n    <g id=\"ytick_1\">\n     <g id=\"line2d_7\">\n      <defs>\n       <path id=\"m9079ad7bb0\" d=\"M 0 0 \nL -3.5 0 \n\" style=\"stroke: #000000; stroke-width: 0.8\"/>\n      </defs>\n      <g>\n       <use xlink:href=\"#m9079ad7bb0\" x=\"50.14375\" y=\"233.461141\" style=\"stroke: #000000; stroke-width: 0.8\"/>\n      </g>\n     </g>\n     <g id=\"text_8\">\n      <!-- 0.53 -->\n      <g transform=\"translate(20.878125 237.26036)scale(0.1 -0.1)\">\n       <defs>\n        <path id=\"DejaVuSans-2e\" d=\"M 684 794 \nL 1344 794 \nL 1344 0 \nL 684 0 \nL 684 794 \nz\n\" transform=\"scale(0.015625)\"/>\n       </defs>\n       <use xlink:href=\"#DejaVuSans-30\"/>\n       <use xlink:href=\"#DejaVuSans-2e\" x=\"63.623047\"/>\n       <use xlink:href=\"#DejaVuSans-35\" x=\"95.410156\"/>\n       <use xlink:href=\"#DejaVuSans-33\" x=\"159.033203\"/>\n      </g>\n     </g>\n    </g>\n    <g id=\"ytick_2\">\n     <g id=\"line2d_8\">\n      <g>\n       <use xlink:href=\"#m9079ad7bb0\" x=\"50.14375\" y=\"189.99698\" style=\"stroke: #000000; stroke-width: 0.8\"/>\n      </g>\n     </g>\n     <g id=\"text_9\">\n      <!-- 0.54 -->\n      <g transform=\"translate(20.878125 193.796199)scale(0.1 -0.1)\">\n       <use xlink:href=\"#DejaVuSans-30\"/>\n       <use xlink:href=\"#DejaVuSans-2e\" x=\"63.623047\"/>\n       <use xlink:href=\"#DejaVuSans-35\" x=\"95.410156\"/>\n       <use xlink:href=\"#DejaVuSans-34\" x=\"159.033203\"/>\n      </g>\n     </g>\n    </g>\n    <g id=\"ytick_3\">\n     <g id=\"line2d_9\">\n      <g>\n       <use xlink:href=\"#m9079ad7bb0\" x=\"50.14375\" y=\"146.53282\" style=\"stroke: #000000; stroke-width: 0.8\"/>\n      </g>\n     </g>\n     <g id=\"text_10\">\n      <!-- 0.55 -->\n      <g transform=\"translate(20.878125 150.332039)scale(0.1 -0.1)\">\n       <use xlink:href=\"#DejaVuSans-30\"/>\n       <use xlink:href=\"#DejaVuSans-2e\" x=\"63.623047\"/>\n       <use xlink:href=\"#DejaVuSans-35\" x=\"95.410156\"/>\n       <use xlink:href=\"#DejaVuSans-35\" x=\"159.033203\"/>\n      </g>\n     </g>\n    </g>\n    <g id=\"ytick_4\">\n     <g id=\"line2d_10\">\n      <g>\n       <use xlink:href=\"#m9079ad7bb0\" x=\"50.14375\" y=\"103.068659\" style=\"stroke: #000000; stroke-width: 0.8\"/>\n      </g>\n     </g>\n     <g id=\"text_11\">\n      <!-- 0.56 -->\n      <g transform=\"translate(20.878125 106.867878)scale(0.1 -0.1)\">\n       <defs>\n        <path id=\"DejaVuSans-36\" d=\"M 2113 2584 \nQ 1688 2584 1439 2293 \nQ 1191 2003 1191 1497 \nQ 1191 994 1439 701 \nQ 1688 409 2113 409 \nQ 2538 409 2786 701 \nQ 3034 994 3034 1497 \nQ 3034 2003 2786 2293 \nQ 2538 2584 2113 2584 \nz\nM 3366 4563 \nL 3366 3988 \nQ 3128 4100 2886 4159 \nQ 2644 4219 2406 4219 \nQ 1781 4219 1451 3797 \nQ 1122 3375 1075 2522 \nQ 1259 2794 1537 2939 \nQ 1816 3084 2150 3084 \nQ 2853 3084 3261 2657 \nQ 3669 2231 3669 1497 \nQ 3669 778 3244 343 \nQ 2819 -91 2113 -91 \nQ 1303 -91 875 529 \nQ 447 1150 447 2328 \nQ 447 3434 972 4092 \nQ 1497 4750 2381 4750 \nQ 2619 4750 2861 4703 \nQ 3103 4656 3366 4563 \nz\n\" transform=\"scale(0.015625)\"/>\n       </defs>\n       <use xlink:href=\"#DejaVuSans-30\"/>\n       <use xlink:href=\"#DejaVuSans-2e\" x=\"63.623047\"/>\n       <use xlink:href=\"#DejaVuSans-35\" x=\"95.410156\"/>\n       <use xlink:href=\"#DejaVuSans-36\" x=\"159.033203\"/>\n      </g>\n     </g>\n    </g>\n    <g id=\"ytick_5\">\n     <g id=\"line2d_11\">\n      <g>\n       <use xlink:href=\"#m9079ad7bb0\" x=\"50.14375\" y=\"59.604498\" style=\"stroke: #000000; stroke-width: 0.8\"/>\n      </g>\n     </g>\n     <g id=\"text_12\">\n      <!-- 0.57 -->\n      <g transform=\"translate(20.878125 63.403717)scale(0.1 -0.1)\">\n       <defs>\n        <path id=\"DejaVuSans-37\" d=\"M 525 4666 \nL 3525 4666 \nL 3525 4397 \nL 1831 0 \nL 1172 0 \nL 2766 4134 \nL 525 4134 \nL 525 4666 \nz\n\" transform=\"scale(0.015625)\"/>\n       </defs>\n       <use xlink:href=\"#DejaVuSans-30\"/>\n       <use xlink:href=\"#DejaVuSans-2e\" x=\"63.623047\"/>\n       <use xlink:href=\"#DejaVuSans-35\" x=\"95.410156\"/>\n       <use xlink:href=\"#DejaVuSans-37\" x=\"159.033203\"/>\n      </g>\n     </g>\n    </g>\n    <g id=\"text_13\">\n     <!-- Loss -->\n     <g transform=\"translate(14.798438 142.005312)rotate(-90)scale(0.1 -0.1)\">\n      <defs>\n       <path id=\"DejaVuSans-4c\" d=\"M 628 4666 \nL 1259 4666 \nL 1259 531 \nL 3531 531 \nL 3531 0 \nL 628 0 \nL 628 4666 \nz\n\" transform=\"scale(0.015625)\"/>\n      </defs>\n      <use xlink:href=\"#DejaVuSans-4c\"/>\n      <use xlink:href=\"#DejaVuSans-6f\" x=\"53.962891\"/>\n      <use xlink:href=\"#DejaVuSans-73\" x=\"115.144531\"/>\n      <use xlink:href=\"#DejaVuSans-73\" x=\"167.244141\"/>\n     </g>\n    </g>\n   </g>\n   <g id=\"line2d_12\">\n    <path d=\"M 65.361932 32.201761 \nL 71.573435 130.99784 \nL 77.784937 148.491829 \nL 83.99644 159.522367 \nL 90.207943 162.987641 \nL 96.419446 169.212752 \nL 102.630949 174.213255 \nL 108.842451 179.320494 \nL 115.053954 182.57722 \nL 121.265457 184.810892 \nL 127.47696 188.165805 \nL 133.688462 187.37332 \nL 139.899965 190.239374 \nL 146.111468 192.052322 \nL 152.322971 194.03159 \nL 158.534474 196.867074 \nL 164.745976 199.464994 \nL 170.957479 199.467584 \nL 177.168982 198.228469 \nL 183.380485 203.683375 \nL 189.591987 205.154873 \nL 195.80349 204.135446 \nL 202.014993 206.159015 \nL 208.226496 205.612644 \nL 214.437999 208.602013 \nL 220.649501 206.689065 \nL 226.861004 209.37455 \nL 233.072507 210.615738 \nL 239.28401 210.704079 \nL 245.495513 211.923506 \nL 251.707015 214.317022 \nL 257.918518 212.904073 \nL 264.130021 214.728679 \nL 270.341524 214.458991 \nL 276.553026 217.222713 \nL 282.764529 217.443697 \nL 288.976032 218.462865 \nL 295.187535 217.682556 \nL 301.399038 217.631261 \nL 307.61054 219.669856 \nL 313.822043 220.449646 \nL 320.033546 220.460268 \nL 326.245049 222.446272 \nL 332.456551 221.571405 \nL 338.668054 222.651194 \nL 344.879557 223.059224 \nL 351.09106 224.729685 \nL 357.302563 223.216477 \nL 363.514065 225.633569 \nL 369.725568 224.816991 \n\" clip-path=\"url(#p9406fc4a48)\" style=\"fill: none; stroke: #1f77b4; stroke-width: 1.5; stroke-linecap: square\"/>\n   </g>\n   <g id=\"line2d_13\">\n    <path d=\"M 65.361932 39.60148 \nL 71.573435 130.522194 \nL 77.784937 149.905556 \nL 83.99644 160.167442 \nL 90.207943 167.109132 \nL 96.419446 170.896685 \nL 102.630949 175.541231 \nL 108.842451 179.548473 \nL 115.053954 179.924637 \nL 121.265457 183.926698 \nL 127.47696 186.24923 \nL 133.688462 188.670725 \nL 139.899965 191.142221 \nL 146.111468 190.629787 \nL 152.322971 195.677958 \nL 158.534474 196.508526 \nL 164.745976 196.155159 \nL 170.957479 198.725359 \nL 177.168982 201.742707 \nL 183.380485 201.029238 \nL 189.591987 204.33415 \nL 195.80349 204.119125 \nL 202.014993 205.396582 \nL 208.226496 207.244245 \nL 214.437999 206.919117 \nL 220.649501 208.282066 \nL 226.861004 207.742948 \nL 233.072507 210.467293 \nL 239.28401 212.50252 \nL 245.495513 211.408481 \nL 251.707015 212.825058 \nL 257.918518 213.488268 \nL 264.130021 214.870906 \nL 270.341524 215.000699 \nL 276.553026 215.889297 \nL 282.764529 216.731523 \nL 288.976032 219.238251 \nL 295.187535 219.583587 \nL 301.399038 219.269598 \nL 307.61054 218.986956 \nL 313.822043 220.505605 \nL 320.033546 222.539795 \nL 326.245049 220.706122 \nL 332.456551 221.664409 \nL 338.668054 222.839535 \nL 344.879557 223.51544 \nL 351.09106 223.368031 \nL 357.302563 224.10378 \nL 363.514065 224.163107 \nL 369.725568 225.483051 \n\" clip-path=\"url(#p9406fc4a48)\" style=\"fill: none; stroke: #ff7f0e; stroke-width: 1.5; stroke-linecap: square\"/>\n   </g>\n   <g id=\"line2d_14\">\n    <path d=\"M 65.361932 52.040044 \nL 71.573435 142.459205 \nL 77.784937 158.922887 \nL 83.99644 164.085565 \nL 90.207943 168.638661 \nL 96.419446 170.750831 \nL 102.630949 177.075164 \nL 108.842451 180.722822 \nL 115.053954 182.614008 \nL 121.265457 184.610893 \nL 127.47696 186.509592 \nL 133.688462 190.425124 \nL 139.899965 190.319425 \nL 146.111468 193.810606 \nL 152.322971 193.862938 \nL 158.534474 197.868107 \nL 164.745976 197.810595 \nL 170.957479 198.928985 \nL 177.168982 203.264723 \nL 183.380485 202.993999 \nL 189.591987 205.113941 \nL 195.80349 206.433626 \nL 202.014993 207.386991 \nL 208.226496 209.45771 \nL 214.437999 210.003304 \nL 220.649501 211.532056 \nL 226.861004 213.045264 \nL 233.072507 216.201731 \nL 239.28401 215.18904 \nL 245.495513 215.894219 \nL 251.707015 216.276861 \nL 257.918518 219.150945 \nL 264.130021 219.47996 \nL 270.341524 219.849389 \nL 276.553026 220.866484 \nL 282.764529 221.146276 \nL 288.976032 222.503008 \nL 295.187535 222.684614 \nL 301.399038 222.513889 \nL 307.61054 223.292902 \nL 313.822043 225.873464 \nL 320.033546 225.619061 \nL 326.245049 227.208175 \nL 332.456551 227.383045 \nL 338.668054 226.873202 \nL 344.879557 228.056359 \nL 351.09106 229.300656 \nL 357.302563 229.375008 \nL 363.514065 228.176825 \nL 369.725568 229.874489 \n\" clip-path=\"url(#p9406fc4a48)\" style=\"fill: none; stroke: #2ca02c; stroke-width: 1.5; stroke-linecap: square\"/>\n   </g>\n   <g id=\"line2d_15\">\n    <path d=\"M 65.361932 34.325848 \nL 71.573435 128.254584 \nL 77.784937 143.908683 \nL 83.99644 152.992593 \nL 90.207943 156.247247 \nL 96.419446 164.776496 \nL 102.630949 169.711714 \nL 108.842451 169.733217 \nL 115.053954 173.498232 \nL 121.265457 175.032683 \nL 127.47696 181.132665 \nL 133.688462 181.939398 \nL 139.899965 184.253381 \nL 146.111468 182.779551 \nL 152.322971 186.829539 \nL 158.534474 188.884455 \nL 164.745976 189.770981 \nL 170.957479 190.481083 \nL 177.168982 191.264241 \nL 183.380485 191.956208 \nL 189.591987 195.122779 \nL 195.80349 196.878214 \nL 202.014993 196.82666 \nL 208.226496 197.42873 \nL 214.437999 197.694533 \nL 220.649501 200.569654 \nL 226.861004 199.495823 \nL 233.072507 201.068357 \nL 239.28401 201.288304 \nL 245.495513 201.760583 \nL 251.707015 204.902024 \nL 257.918518 204.037778 \nL 264.130021 205.603317 \nL 270.341524 207.567301 \nL 276.553026 206.392175 \nL 282.764529 207.248131 \nL 288.976032 209.467555 \nL 295.187535 208.62222 \nL 301.399038 209.60201 \nL 307.61054 210.099677 \nL 313.822043 210.551748 \nL 320.033546 209.904341 \nL 326.245049 211.504595 \nL 332.456551 213.671169 \nL 338.668054 212.138531 \nL 344.879557 214.536451 \nL 351.09106 213.458216 \nL 357.302563 213.14345 \nL 363.514065 213.821687 \nL 369.725568 214.716503 \n\" clip-path=\"url(#p9406fc4a48)\" style=\"fill: none; stroke: #d62728; stroke-width: 1.5; stroke-linecap: square\"/>\n   </g>\n   <g id=\"patch_3\">\n    <path d=\"M 50.14375 239.758125 \nL 50.14375 22.318125 \n\" style=\"fill: none; stroke: #000000; stroke-width: 0.8; stroke-linejoin: miter; stroke-linecap: square\"/>\n   </g>\n   <g id=\"patch_4\">\n    <path d=\"M 384.94375 239.758125 \nL 384.94375 22.318125 \n\" style=\"fill: none; stroke: #000000; stroke-width: 0.8; stroke-linejoin: miter; stroke-linecap: square\"/>\n   </g>\n   <g id=\"patch_5\">\n    <path d=\"M 50.14375 239.758125 \nL 384.94375 239.758125 \n\" style=\"fill: none; stroke: #000000; stroke-width: 0.8; stroke-linejoin: miter; stroke-linecap: square\"/>\n   </g>\n   <g id=\"patch_6\">\n    <path d=\"M 50.14375 22.318125 \nL 384.94375 22.318125 \n\" style=\"fill: none; stroke: #000000; stroke-width: 0.8; stroke-linejoin: miter; stroke-linecap: square\"/>\n   </g>\n   <g id=\"text_14\">\n    <!-- Loss Function: Training vs Testing -->\n    <g transform=\"translate(117.775938 16.318125)scale(0.12 -0.12)\">\n     <defs>\n      <path id=\"DejaVuSans-20\" transform=\"scale(0.015625)\"/>\n      <path id=\"DejaVuSans-46\" d=\"M 628 4666 \nL 3309 4666 \nL 3309 4134 \nL 1259 4134 \nL 1259 2759 \nL 3109 2759 \nL 3109 2228 \nL 1259 2228 \nL 1259 0 \nL 628 0 \nL 628 4666 \nz\n\" transform=\"scale(0.015625)\"/>\n      <path id=\"DejaVuSans-75\" d=\"M 544 1381 \nL 544 3500 \nL 1119 3500 \nL 1119 1403 \nQ 1119 906 1312 657 \nQ 1506 409 1894 409 \nQ 2359 409 2629 706 \nQ 2900 1003 2900 1516 \nL 2900 3500 \nL 3475 3500 \nL 3475 0 \nL 2900 0 \nL 2900 538 \nQ 2691 219 2414 64 \nQ 2138 -91 1772 -91 \nQ 1169 -91 856 284 \nQ 544 659 544 1381 \nz\nM 1991 3584 \nL 1991 3584 \nz\n\" transform=\"scale(0.015625)\"/>\n      <path id=\"DejaVuSans-6e\" d=\"M 3513 2113 \nL 3513 0 \nL 2938 0 \nL 2938 2094 \nQ 2938 2591 2744 2837 \nQ 2550 3084 2163 3084 \nQ 1697 3084 1428 2787 \nQ 1159 2491 1159 1978 \nL 1159 0 \nL 581 0 \nL 581 3500 \nL 1159 3500 \nL 1159 2956 \nQ 1366 3272 1645 3428 \nQ 1925 3584 2291 3584 \nQ 2894 3584 3203 3211 \nQ 3513 2838 3513 2113 \nz\n\" transform=\"scale(0.015625)\"/>\n      <path id=\"DejaVuSans-74\" d=\"M 1172 4494 \nL 1172 3500 \nL 2356 3500 \nL 2356 3053 \nL 1172 3053 \nL 1172 1153 \nQ 1172 725 1289 603 \nQ 1406 481 1766 481 \nL 2356 481 \nL 2356 0 \nL 1766 0 \nQ 1100 0 847 248 \nQ 594 497 594 1153 \nL 594 3053 \nL 172 3053 \nL 172 3500 \nL 594 3500 \nL 594 4494 \nL 1172 4494 \nz\n\" transform=\"scale(0.015625)\"/>\n      <path id=\"DejaVuSans-69\" d=\"M 603 3500 \nL 1178 3500 \nL 1178 0 \nL 603 0 \nL 603 3500 \nz\nM 603 4863 \nL 1178 4863 \nL 1178 4134 \nL 603 4134 \nL 603 4863 \nz\n\" transform=\"scale(0.015625)\"/>\n      <path id=\"DejaVuSans-3a\" d=\"M 750 794 \nL 1409 794 \nL 1409 0 \nL 750 0 \nL 750 794 \nz\nM 750 3309 \nL 1409 3309 \nL 1409 2516 \nL 750 2516 \nL 750 3309 \nz\n\" transform=\"scale(0.015625)\"/>\n      <path id=\"DejaVuSans-54\" d=\"M -19 4666 \nL 3928 4666 \nL 3928 4134 \nL 2272 4134 \nL 2272 0 \nL 1638 0 \nL 1638 4134 \nL -19 4134 \nL -19 4666 \nz\n\" transform=\"scale(0.015625)\"/>\n      <path id=\"DejaVuSans-72\" d=\"M 2631 2963 \nQ 2534 3019 2420 3045 \nQ 2306 3072 2169 3072 \nQ 1681 3072 1420 2755 \nQ 1159 2438 1159 1844 \nL 1159 0 \nL 581 0 \nL 581 3500 \nL 1159 3500 \nL 1159 2956 \nQ 1341 3275 1631 3429 \nQ 1922 3584 2338 3584 \nQ 2397 3584 2469 3576 \nQ 2541 3569 2628 3553 \nL 2631 2963 \nz\n\" transform=\"scale(0.015625)\"/>\n      <path id=\"DejaVuSans-61\" d=\"M 2194 1759 \nQ 1497 1759 1228 1600 \nQ 959 1441 959 1056 \nQ 959 750 1161 570 \nQ 1363 391 1709 391 \nQ 2188 391 2477 730 \nQ 2766 1069 2766 1631 \nL 2766 1759 \nL 2194 1759 \nz\nM 3341 1997 \nL 3341 0 \nL 2766 0 \nL 2766 531 \nQ 2569 213 2275 61 \nQ 1981 -91 1556 -91 \nQ 1019 -91 701 211 \nQ 384 513 384 1019 \nQ 384 1609 779 1909 \nQ 1175 2209 1959 2209 \nL 2766 2209 \nL 2766 2266 \nQ 2766 2663 2505 2880 \nQ 2244 3097 1772 3097 \nQ 1472 3097 1187 3025 \nQ 903 2953 641 2809 \nL 641 3341 \nQ 956 3463 1253 3523 \nQ 1550 3584 1831 3584 \nQ 2591 3584 2966 3190 \nQ 3341 2797 3341 1997 \nz\n\" transform=\"scale(0.015625)\"/>\n      <path id=\"DejaVuSans-67\" d=\"M 2906 1791 \nQ 2906 2416 2648 2759 \nQ 2391 3103 1925 3103 \nQ 1463 3103 1205 2759 \nQ 947 2416 947 1791 \nQ 947 1169 1205 825 \nQ 1463 481 1925 481 \nQ 2391 481 2648 825 \nQ 2906 1169 2906 1791 \nz\nM 3481 434 \nQ 3481 -459 3084 -895 \nQ 2688 -1331 1869 -1331 \nQ 1566 -1331 1297 -1286 \nQ 1028 -1241 775 -1147 \nL 775 -588 \nQ 1028 -725 1275 -790 \nQ 1522 -856 1778 -856 \nQ 2344 -856 2625 -561 \nQ 2906 -266 2906 331 \nL 2906 616 \nQ 2728 306 2450 153 \nQ 2172 0 1784 0 \nQ 1141 0 747 490 \nQ 353 981 353 1791 \nQ 353 2603 747 3093 \nQ 1141 3584 1784 3584 \nQ 2172 3584 2450 3431 \nQ 2728 3278 2906 2969 \nL 2906 3500 \nL 3481 3500 \nL 3481 434 \nz\n\" transform=\"scale(0.015625)\"/>\n      <path id=\"DejaVuSans-76\" d=\"M 191 3500 \nL 800 3500 \nL 1894 563 \nL 2988 3500 \nL 3597 3500 \nL 2284 0 \nL 1503 0 \nL 191 3500 \nz\n\" transform=\"scale(0.015625)\"/>\n      <path id=\"DejaVuSans-65\" d=\"M 3597 1894 \nL 3597 1613 \nL 953 1613 \nQ 991 1019 1311 708 \nQ 1631 397 2203 397 \nQ 2534 397 2845 478 \nQ 3156 559 3463 722 \nL 3463 178 \nQ 3153 47 2828 -22 \nQ 2503 -91 2169 -91 \nQ 1331 -91 842 396 \nQ 353 884 353 1716 \nQ 353 2575 817 3079 \nQ 1281 3584 2069 3584 \nQ 2775 3584 3186 3129 \nQ 3597 2675 3597 1894 \nz\nM 3022 2063 \nQ 3016 2534 2758 2815 \nQ 2500 3097 2075 3097 \nQ 1594 3097 1305 2825 \nQ 1016 2553 972 2059 \nL 3022 2063 \nz\n\" transform=\"scale(0.015625)\"/>\n     </defs>\n     <use xlink:href=\"#DejaVuSans-4c\"/>\n     <use xlink:href=\"#DejaVuSans-6f\" x=\"53.962891\"/>\n     <use xlink:href=\"#DejaVuSans-73\" x=\"115.144531\"/>\n     <use xlink:href=\"#DejaVuSans-73\" x=\"167.244141\"/>\n     <use xlink:href=\"#DejaVuSans-20\" x=\"219.34375\"/>\n     <use xlink:href=\"#DejaVuSans-46\" x=\"251.130859\"/>\n     <use xlink:href=\"#DejaVuSans-75\" x=\"303.150391\"/>\n     <use xlink:href=\"#DejaVuSans-6e\" x=\"366.529297\"/>\n     <use xlink:href=\"#DejaVuSans-63\" x=\"429.908203\"/>\n     <use xlink:href=\"#DejaVuSans-74\" x=\"484.888672\"/>\n     <use xlink:href=\"#DejaVuSans-69\" x=\"524.097656\"/>\n     <use xlink:href=\"#DejaVuSans-6f\" x=\"551.880859\"/>\n     <use xlink:href=\"#DejaVuSans-6e\" x=\"613.0625\"/>\n     <use xlink:href=\"#DejaVuSans-3a\" x=\"676.441406\"/>\n     <use xlink:href=\"#DejaVuSans-20\" x=\"710.132812\"/>\n     <use xlink:href=\"#DejaVuSans-54\" x=\"741.919922\"/>\n     <use xlink:href=\"#DejaVuSans-72\" x=\"788.253906\"/>\n     <use xlink:href=\"#DejaVuSans-61\" x=\"829.367188\"/>\n     <use xlink:href=\"#DejaVuSans-69\" x=\"890.646484\"/>\n     <use xlink:href=\"#DejaVuSans-6e\" x=\"918.429688\"/>\n     <use xlink:href=\"#DejaVuSans-69\" x=\"981.808594\"/>\n     <use xlink:href=\"#DejaVuSans-6e\" x=\"1009.591797\"/>\n     <use xlink:href=\"#DejaVuSans-67\" x=\"1072.970703\"/>\n     <use xlink:href=\"#DejaVuSans-20\" x=\"1136.447266\"/>\n     <use xlink:href=\"#DejaVuSans-76\" x=\"1168.234375\"/>\n     <use xlink:href=\"#DejaVuSans-73\" x=\"1227.414062\"/>\n     <use xlink:href=\"#DejaVuSans-20\" x=\"1279.513672\"/>\n     <use xlink:href=\"#DejaVuSans-54\" x=\"1311.300781\"/>\n     <use xlink:href=\"#DejaVuSans-65\" x=\"1355.384766\"/>\n     <use xlink:href=\"#DejaVuSans-73\" x=\"1416.908203\"/>\n     <use xlink:href=\"#DejaVuSans-74\" x=\"1469.007812\"/>\n     <use xlink:href=\"#DejaVuSans-69\" x=\"1508.216797\"/>\n     <use xlink:href=\"#DejaVuSans-6e\" x=\"1536\"/>\n     <use xlink:href=\"#DejaVuSans-67\" x=\"1599.378906\"/>\n    </g>\n   </g>\n   <g id=\"legend_1\">\n    <g id=\"patch_7\">\n     <path d=\"M 222.995313 89.030625 \nL 377.94375 89.030625 \nQ 379.94375 89.030625 379.94375 87.030625 \nL 379.94375 29.318125 \nQ 379.94375 27.318125 377.94375 27.318125 \nL 222.995313 27.318125 \nQ 220.995313 27.318125 220.995313 29.318125 \nL 220.995313 87.030625 \nQ 220.995313 89.030625 222.995313 89.030625 \nz\n\" style=\"fill: #ffffff; opacity: 0.8; stroke: #cccccc; stroke-linejoin: miter\"/>\n    </g>\n    <g id=\"line2d_16\">\n     <path d=\"M 224.995313 35.416562 \nL 234.995313 35.416562 \nL 244.995313 35.416562 \n\" style=\"fill: none; stroke: #1f77b4; stroke-width: 1.5; stroke-linecap: square\"/>\n    </g>\n    <g id=\"text_15\">\n     <!-- Original Model -->\n     <g transform=\"translate(252.995313 38.916562)scale(0.1 -0.1)\">\n      <defs>\n       <path id=\"DejaVuSans-4f\" d=\"M 2522 4238 \nQ 1834 4238 1429 3725 \nQ 1025 3213 1025 2328 \nQ 1025 1447 1429 934 \nQ 1834 422 2522 422 \nQ 3209 422 3611 934 \nQ 4013 1447 4013 2328 \nQ 4013 3213 3611 3725 \nQ 3209 4238 2522 4238 \nz\nM 2522 4750 \nQ 3503 4750 4090 4092 \nQ 4678 3434 4678 2328 \nQ 4678 1225 4090 567 \nQ 3503 -91 2522 -91 \nQ 1538 -91 948 565 \nQ 359 1222 359 2328 \nQ 359 3434 948 4092 \nQ 1538 4750 2522 4750 \nz\n\" transform=\"scale(0.015625)\"/>\n       <path id=\"DejaVuSans-6c\" d=\"M 603 4863 \nL 1178 4863 \nL 1178 0 \nL 603 0 \nL 603 4863 \nz\n\" transform=\"scale(0.015625)\"/>\n       <path id=\"DejaVuSans-4d\" d=\"M 628 4666 \nL 1569 4666 \nL 2759 1491 \nL 3956 4666 \nL 4897 4666 \nL 4897 0 \nL 4281 0 \nL 4281 4097 \nL 3078 897 \nL 2444 897 \nL 1241 4097 \nL 1241 0 \nL 628 0 \nL 628 4666 \nz\n\" transform=\"scale(0.015625)\"/>\n       <path id=\"DejaVuSans-64\" d=\"M 2906 2969 \nL 2906 4863 \nL 3481 4863 \nL 3481 0 \nL 2906 0 \nL 2906 525 \nQ 2725 213 2448 61 \nQ 2172 -91 1784 -91 \nQ 1150 -91 751 415 \nQ 353 922 353 1747 \nQ 353 2572 751 3078 \nQ 1150 3584 1784 3584 \nQ 2172 3584 2448 3432 \nQ 2725 3281 2906 2969 \nz\nM 947 1747 \nQ 947 1113 1208 752 \nQ 1469 391 1925 391 \nQ 2381 391 2643 752 \nQ 2906 1113 2906 1747 \nQ 2906 2381 2643 2742 \nQ 2381 3103 1925 3103 \nQ 1469 3103 1208 2742 \nQ 947 2381 947 1747 \nz\n\" transform=\"scale(0.015625)\"/>\n      </defs>\n      <use xlink:href=\"#DejaVuSans-4f\"/>\n      <use xlink:href=\"#DejaVuSans-72\" x=\"78.710938\"/>\n      <use xlink:href=\"#DejaVuSans-69\" x=\"119.824219\"/>\n      <use xlink:href=\"#DejaVuSans-67\" x=\"147.607422\"/>\n      <use xlink:href=\"#DejaVuSans-69\" x=\"211.083984\"/>\n      <use xlink:href=\"#DejaVuSans-6e\" x=\"238.867188\"/>\n      <use xlink:href=\"#DejaVuSans-61\" x=\"302.246094\"/>\n      <use xlink:href=\"#DejaVuSans-6c\" x=\"363.525391\"/>\n      <use xlink:href=\"#DejaVuSans-20\" x=\"391.308594\"/>\n      <use xlink:href=\"#DejaVuSans-4d\" x=\"423.095703\"/>\n      <use xlink:href=\"#DejaVuSans-6f\" x=\"509.375\"/>\n      <use xlink:href=\"#DejaVuSans-64\" x=\"570.556641\"/>\n      <use xlink:href=\"#DejaVuSans-65\" x=\"634.033203\"/>\n      <use xlink:href=\"#DejaVuSans-6c\" x=\"695.556641\"/>\n     </g>\n    </g>\n    <g id=\"line2d_17\">\n     <path d=\"M 224.995313 50.094687 \nL 234.995313 50.094687 \nL 244.995313 50.094687 \n\" style=\"fill: none; stroke: #ff7f0e; stroke-width: 1.5; stroke-linecap: square\"/>\n    </g>\n    <g id=\"text_16\">\n     <!-- AM1=(Increased Nodes) -->\n     <g transform=\"translate(252.995313 53.594687)scale(0.1 -0.1)\">\n      <defs>\n       <path id=\"DejaVuSans-41\" d=\"M 2188 4044 \nL 1331 1722 \nL 3047 1722 \nL 2188 4044 \nz\nM 1831 4666 \nL 2547 4666 \nL 4325 0 \nL 3669 0 \nL 3244 1197 \nL 1141 1197 \nL 716 0 \nL 50 0 \nL 1831 4666 \nz\n\" transform=\"scale(0.015625)\"/>\n       <path id=\"DejaVuSans-3d\" d=\"M 678 2906 \nL 4684 2906 \nL 4684 2381 \nL 678 2381 \nL 678 2906 \nz\nM 678 1631 \nL 4684 1631 \nL 4684 1100 \nL 678 1100 \nL 678 1631 \nz\n\" transform=\"scale(0.015625)\"/>\n       <path id=\"DejaVuSans-28\" d=\"M 1984 4856 \nQ 1566 4138 1362 3434 \nQ 1159 2731 1159 2009 \nQ 1159 1288 1364 580 \nQ 1569 -128 1984 -844 \nL 1484 -844 \nQ 1016 -109 783 600 \nQ 550 1309 550 2009 \nQ 550 2706 781 3412 \nQ 1013 4119 1484 4856 \nL 1984 4856 \nz\n\" transform=\"scale(0.015625)\"/>\n       <path id=\"DejaVuSans-49\" d=\"M 628 4666 \nL 1259 4666 \nL 1259 0 \nL 628 0 \nL 628 4666 \nz\n\" transform=\"scale(0.015625)\"/>\n       <path id=\"DejaVuSans-4e\" d=\"M 628 4666 \nL 1478 4666 \nL 3547 763 \nL 3547 4666 \nL 4159 4666 \nL 4159 0 \nL 3309 0 \nL 1241 3903 \nL 1241 0 \nL 628 0 \nL 628 4666 \nz\n\" transform=\"scale(0.015625)\"/>\n       <path id=\"DejaVuSans-29\" d=\"M 513 4856 \nL 1013 4856 \nQ 1481 4119 1714 3412 \nQ 1947 2706 1947 2009 \nQ 1947 1309 1714 600 \nQ 1481 -109 1013 -844 \nL 513 -844 \nQ 928 -128 1133 580 \nQ 1338 1288 1338 2009 \nQ 1338 2731 1133 3434 \nQ 928 4138 513 4856 \nz\n\" transform=\"scale(0.015625)\"/>\n      </defs>\n      <use xlink:href=\"#DejaVuSans-41\"/>\n      <use xlink:href=\"#DejaVuSans-4d\" x=\"68.408203\"/>\n      <use xlink:href=\"#DejaVuSans-31\" x=\"154.6875\"/>\n      <use xlink:href=\"#DejaVuSans-3d\" x=\"218.310547\"/>\n      <use xlink:href=\"#DejaVuSans-28\" x=\"302.099609\"/>\n      <use xlink:href=\"#DejaVuSans-49\" x=\"341.113281\"/>\n      <use xlink:href=\"#DejaVuSans-6e\" x=\"370.605469\"/>\n      <use xlink:href=\"#DejaVuSans-63\" x=\"433.984375\"/>\n      <use xlink:href=\"#DejaVuSans-72\" x=\"488.964844\"/>\n      <use xlink:href=\"#DejaVuSans-65\" x=\"527.828125\"/>\n      <use xlink:href=\"#DejaVuSans-61\" x=\"589.351562\"/>\n      <use xlink:href=\"#DejaVuSans-73\" x=\"650.630859\"/>\n      <use xlink:href=\"#DejaVuSans-65\" x=\"702.730469\"/>\n      <use xlink:href=\"#DejaVuSans-64\" x=\"764.253906\"/>\n      <use xlink:href=\"#DejaVuSans-20\" x=\"827.730469\"/>\n      <use xlink:href=\"#DejaVuSans-4e\" x=\"859.517578\"/>\n      <use xlink:href=\"#DejaVuSans-6f\" x=\"934.322266\"/>\n      <use xlink:href=\"#DejaVuSans-64\" x=\"995.503906\"/>\n      <use xlink:href=\"#DejaVuSans-65\" x=\"1058.980469\"/>\n      <use xlink:href=\"#DejaVuSans-73\" x=\"1120.503906\"/>\n      <use xlink:href=\"#DejaVuSans-29\" x=\"1172.603516\"/>\n     </g>\n    </g>\n    <g id=\"line2d_18\">\n     <path d=\"M 224.995313 64.772812 \nL 234.995313 64.772812 \nL 244.995313 64.772812 \n\" style=\"fill: none; stroke: #2ca02c; stroke-width: 1.5; stroke-linecap: square\"/>\n    </g>\n    <g id=\"text_17\">\n     <!-- AM2=(Increased Layers) -->\n     <g transform=\"translate(252.995313 68.272812)scale(0.1 -0.1)\">\n      <defs>\n       <path id=\"DejaVuSans-79\" d=\"M 2059 -325 \nQ 1816 -950 1584 -1140 \nQ 1353 -1331 966 -1331 \nL 506 -1331 \nL 506 -850 \nL 844 -850 \nQ 1081 -850 1212 -737 \nQ 1344 -625 1503 -206 \nL 1606 56 \nL 191 3500 \nL 800 3500 \nL 1894 763 \nL 2988 3500 \nL 3597 3500 \nL 2059 -325 \nz\n\" transform=\"scale(0.015625)\"/>\n      </defs>\n      <use xlink:href=\"#DejaVuSans-41\"/>\n      <use xlink:href=\"#DejaVuSans-4d\" x=\"68.408203\"/>\n      <use xlink:href=\"#DejaVuSans-32\" x=\"154.6875\"/>\n      <use xlink:href=\"#DejaVuSans-3d\" x=\"218.310547\"/>\n      <use xlink:href=\"#DejaVuSans-28\" x=\"302.099609\"/>\n      <use xlink:href=\"#DejaVuSans-49\" x=\"341.113281\"/>\n      <use xlink:href=\"#DejaVuSans-6e\" x=\"370.605469\"/>\n      <use xlink:href=\"#DejaVuSans-63\" x=\"433.984375\"/>\n      <use xlink:href=\"#DejaVuSans-72\" x=\"488.964844\"/>\n      <use xlink:href=\"#DejaVuSans-65\" x=\"527.828125\"/>\n      <use xlink:href=\"#DejaVuSans-61\" x=\"589.351562\"/>\n      <use xlink:href=\"#DejaVuSans-73\" x=\"650.630859\"/>\n      <use xlink:href=\"#DejaVuSans-65\" x=\"702.730469\"/>\n      <use xlink:href=\"#DejaVuSans-64\" x=\"764.253906\"/>\n      <use xlink:href=\"#DejaVuSans-20\" x=\"827.730469\"/>\n      <use xlink:href=\"#DejaVuSans-4c\" x=\"859.517578\"/>\n      <use xlink:href=\"#DejaVuSans-61\" x=\"915.230469\"/>\n      <use xlink:href=\"#DejaVuSans-79\" x=\"976.509766\"/>\n      <use xlink:href=\"#DejaVuSans-65\" x=\"1035.689453\"/>\n      <use xlink:href=\"#DejaVuSans-72\" x=\"1097.212891\"/>\n      <use xlink:href=\"#DejaVuSans-73\" x=\"1138.326172\"/>\n      <use xlink:href=\"#DejaVuSans-29\" x=\"1190.425781\"/>\n     </g>\n    </g>\n    <g id=\"line2d_19\">\n     <path d=\"M 224.995313 79.450938 \nL 234.995313 79.450938 \nL 244.995313 79.450938 \n\" style=\"fill: none; stroke: #d62728; stroke-width: 1.5; stroke-linecap: square\"/>\n    </g>\n    <g id=\"text_18\">\n     <!-- AM3=(Leaky ReLU) -->\n     <g transform=\"translate(252.995313 82.950938)scale(0.1 -0.1)\">\n      <defs>\n       <path id=\"DejaVuSans-6b\" d=\"M 581 4863 \nL 1159 4863 \nL 1159 1991 \nL 2875 3500 \nL 3609 3500 \nL 1753 1863 \nL 3688 0 \nL 2938 0 \nL 1159 1709 \nL 1159 0 \nL 581 0 \nL 581 4863 \nz\n\" transform=\"scale(0.015625)\"/>\n       <path id=\"DejaVuSans-52\" d=\"M 2841 2188 \nQ 3044 2119 3236 1894 \nQ 3428 1669 3622 1275 \nL 4263 0 \nL 3584 0 \nL 2988 1197 \nQ 2756 1666 2539 1819 \nQ 2322 1972 1947 1972 \nL 1259 1972 \nL 1259 0 \nL 628 0 \nL 628 4666 \nL 2053 4666 \nQ 2853 4666 3247 4331 \nQ 3641 3997 3641 3322 \nQ 3641 2881 3436 2590 \nQ 3231 2300 2841 2188 \nz\nM 1259 4147 \nL 1259 2491 \nL 2053 2491 \nQ 2509 2491 2742 2702 \nQ 2975 2913 2975 3322 \nQ 2975 3731 2742 3939 \nQ 2509 4147 2053 4147 \nL 1259 4147 \nz\n\" transform=\"scale(0.015625)\"/>\n       <path id=\"DejaVuSans-55\" d=\"M 556 4666 \nL 1191 4666 \nL 1191 1831 \nQ 1191 1081 1462 751 \nQ 1734 422 2344 422 \nQ 2950 422 3222 751 \nQ 3494 1081 3494 1831 \nL 3494 4666 \nL 4128 4666 \nL 4128 1753 \nQ 4128 841 3676 375 \nQ 3225 -91 2344 -91 \nQ 1459 -91 1007 375 \nQ 556 841 556 1753 \nL 556 4666 \nz\n\" transform=\"scale(0.015625)\"/>\n      </defs>\n      <use xlink:href=\"#DejaVuSans-41\"/>\n      <use xlink:href=\"#DejaVuSans-4d\" x=\"68.408203\"/>\n      <use xlink:href=\"#DejaVuSans-33\" x=\"154.6875\"/>\n      <use xlink:href=\"#DejaVuSans-3d\" x=\"218.310547\"/>\n      <use xlink:href=\"#DejaVuSans-28\" x=\"302.099609\"/>\n      <use xlink:href=\"#DejaVuSans-4c\" x=\"341.113281\"/>\n      <use xlink:href=\"#DejaVuSans-65\" x=\"395.076172\"/>\n      <use xlink:href=\"#DejaVuSans-61\" x=\"456.599609\"/>\n      <use xlink:href=\"#DejaVuSans-6b\" x=\"517.878906\"/>\n      <use xlink:href=\"#DejaVuSans-79\" x=\"572.164062\"/>\n      <use xlink:href=\"#DejaVuSans-20\" x=\"631.34375\"/>\n      <use xlink:href=\"#DejaVuSans-52\" x=\"663.130859\"/>\n      <use xlink:href=\"#DejaVuSans-65\" x=\"728.113281\"/>\n      <use xlink:href=\"#DejaVuSans-4c\" x=\"789.636719\"/>\n      <use xlink:href=\"#DejaVuSans-55\" x=\"840.349609\"/>\n      <use xlink:href=\"#DejaVuSans-29\" x=\"913.542969\"/>\n     </g>\n    </g>\n   </g>\n  </g>\n </g>\n <defs>\n  <clipPath id=\"p9406fc4a48\">\n   <rect x=\"50.14375\" y=\"22.318125\" width=\"334.8\" height=\"217.44\"/>\n  </clipPath>\n </defs>\n</svg>\n",
      "text/plain": [
       "<Figure size 432x288 with 1 Axes>"
      ]
     },
     "metadata": {
      "needs_background": "light"
     },
     "output_type": "display_data"
    }
   ],
   "source": [
    "# Plot the loss function for the original model and the alternative models\n",
    "plt.plot(fit_model.history[\"loss\"])\n",
    "plt.plot(fit_model_A1.history[\"loss\"])\n",
    "plt.plot(fit_model_A2.history[\"loss\"])\n",
    "plt.plot(fit_model_A3.history[\"loss\"])\n",
    "plt.title (\"Loss Function: Training vs Testing\")\n",
    "plt.xlabel(\"Epochs\")\n",
    "plt.ylabel(\"Loss\")\n",
    "plt.legend([\"Original Model\", \"AM1=(Increased Nodes)\", \"AM2=(Increased Layers)\", \"AM3=(Leaky ReLU)\"])\n",
    "\n"
   ]
  },
  {
   "cell_type": "code",
   "execution_count": 297,
   "metadata": {},
   "outputs": [
    {
     "data": {
      "text/plain": [
       "<matplotlib.legend.Legend at 0x33951d700>"
      ]
     },
     "execution_count": 297,
     "metadata": {},
     "output_type": "execute_result"
    },
    {
     "data": {
      "image/png": "[encoded data removed]",
      "image/svg+xml": "<?xml version=\"1.0\" encoding=\"utf-8\" standalone=\"no\"?>\n<!DOCTYPE svg PUBLIC \"-//W3C//DTD SVG 1.1//EN\"\n  \"http://www.w3.org/Graphics/SVG/1.1/DTD/svg11.dtd\">\n<svg xmlns:xlink=\"http://www.w3.org/1999/xlink\" width=\"398.50625pt\" height=\"277.314375pt\" viewBox=\"0 0 398.50625 277.314375\" xmlns=\"http://www.w3.org/2000/svg\" version=\"1.1\">\n <metadata>\n  <rdf:RDF xmlns:dc=\"http://purl.org/dc/elements/1.1/\" xmlns:cc=\"http://creativecommons.org/ns#\" xmlns:rdf=\"http://www.w3.org/1999/02/22-rdf-syntax-ns#\">\n   <cc:Work>\n    <dc:type rdf:resource=\"http://purl.org/dc/dcmitype/StillImage\"/>\n    <dc:date>2022-09-10T18:49:26.989749</dc:date>\n    <dc:format>image/svg+xml</dc:format>\n    <dc:creator>\n     <cc:Agent>\n      <dc:title>Matplotlib v3.5.1, https://matplotlib.org/</dc:title>\n     </cc:Agent>\n    </dc:creator>\n   </cc:Work>\n  </rdf:RDF>\n </metadata>\n <defs>\n  <style type=\"text/css\">*{stroke-linejoin: round; stroke-linecap: butt}</style>\n </defs>\n <g id=\"figure_1\">\n  <g id=\"patch_1\">\n   <path d=\"M 0 277.314375 \nL 398.50625 277.314375 \nL 398.50625 0 \nL 0 0 \nL 0 277.314375 \nz\n\" style=\"fill: none\"/>\n  </g>\n  <g id=\"axes_1\">\n   <g id=\"patch_2\">\n    <path d=\"M 56.50625 239.758125 \nL 391.30625 239.758125 \nL 391.30625 22.318125 \nL 56.50625 22.318125 \nz\n\" style=\"fill: #ffffff\"/>\n   </g>\n   <g id=\"matplotlib.axis_1\">\n    <g id=\"xtick_1\">\n     <g id=\"line2d_1\">\n      <defs>\n       <path id=\"m5f1db2a84c\" d=\"M 0 0 \nL 0 3.5 \n\" style=\"stroke: #000000; stroke-width: 0.8\"/>\n      </defs>\n      <g>\n       <use xlink:href=\"#m5f1db2a84c\" x=\"71.724432\" y=\"239.758125\" style=\"stroke: #000000; stroke-width: 0.8\"/>\n      </g>\n     </g>\n     <g id=\"text_1\">\n      <!-- 0 -->\n      <g transform=\"translate(68.543182 254.356562)scale(0.1 -0.1)\">\n       <defs>\n        <path id=\"DejaVuSans-30\" d=\"M 2034 4250 \nQ 1547 4250 1301 3770 \nQ 1056 3291 1056 2328 \nQ 1056 1369 1301 889 \nQ 1547 409 2034 409 \nQ 2525 409 2770 889 \nQ 3016 1369 3016 2328 \nQ 3016 3291 2770 3770 \nQ 2525 4250 2034 4250 \nz\nM 2034 4750 \nQ 2819 4750 3233 4129 \nQ 3647 3509 3647 2328 \nQ 3647 1150 3233 529 \nQ 2819 -91 2034 -91 \nQ 1250 -91 836 529 \nQ 422 1150 422 2328 \nQ 422 3509 836 4129 \nQ 1250 4750 2034 4750 \nz\n\" transform=\"scale(0.015625)\"/>\n       </defs>\n       <use xlink:href=\"#DejaVuSans-30\"/>\n      </g>\n     </g>\n    </g>\n    <g id=\"xtick_2\">\n     <g id=\"line2d_2\">\n      <g>\n       <use xlink:href=\"#m5f1db2a84c\" x=\"133.83946\" y=\"239.758125\" style=\"stroke: #000000; stroke-width: 0.8\"/>\n      </g>\n     </g>\n     <g id=\"text_2\">\n      <!-- 10 -->\n      <g transform=\"translate(127.47696 254.356562)scale(0.1 -0.1)\">\n       <defs>\n        <path id=\"DejaVuSans-31\" d=\"M 794 531 \nL 1825 531 \nL 1825 4091 \nL 703 3866 \nL 703 4441 \nL 1819 4666 \nL 2450 4666 \nL 2450 531 \nL 3481 531 \nL 3481 0 \nL 794 0 \nL 794 531 \nz\n\" transform=\"scale(0.015625)\"/>\n       </defs>\n       <use xlink:href=\"#DejaVuSans-31\"/>\n       <use xlink:href=\"#DejaVuSans-30\" x=\"63.623047\"/>\n      </g>\n     </g>\n    </g>\n    <g id=\"xtick_3\">\n     <g id=\"line2d_3\">\n      <g>\n       <use xlink:href=\"#m5f1db2a84c\" x=\"195.954487\" y=\"239.758125\" style=\"stroke: #000000; stroke-width: 0.8\"/>\n      </g>\n     </g>\n     <g id=\"text_3\">\n      <!-- 20 -->\n      <g transform=\"translate(189.591987 254.356562)scale(0.1 -0.1)\">\n       <defs>\n        <path id=\"DejaVuSans-32\" d=\"M 1228 531 \nL 3431 531 \nL 3431 0 \nL 469 0 \nL 469 531 \nQ 828 903 1448 1529 \nQ 2069 2156 2228 2338 \nQ 2531 2678 2651 2914 \nQ 2772 3150 2772 3378 \nQ 2772 3750 2511 3984 \nQ 2250 4219 1831 4219 \nQ 1534 4219 1204 4116 \nQ 875 4013 500 3803 \nL 500 4441 \nQ 881 4594 1212 4672 \nQ 1544 4750 1819 4750 \nQ 2544 4750 2975 4387 \nQ 3406 4025 3406 3419 \nQ 3406 3131 3298 2873 \nQ 3191 2616 2906 2266 \nQ 2828 2175 2409 1742 \nQ 1991 1309 1228 531 \nz\n\" transform=\"scale(0.015625)\"/>\n       </defs>\n       <use xlink:href=\"#DejaVuSans-32\"/>\n       <use xlink:href=\"#DejaVuSans-30\" x=\"63.623047\"/>\n      </g>\n     </g>\n    </g>\n    <g id=\"xtick_4\">\n     <g id=\"line2d_4\">\n      <g>\n       <use xlink:href=\"#m5f1db2a84c\" x=\"258.069515\" y=\"239.758125\" style=\"stroke: #000000; stroke-width: 0.8\"/>\n      </g>\n     </g>\n     <g id=\"text_4\">\n      <!-- 30 -->\n      <g transform=\"translate(251.707015 254.356562)scale(0.1 -0.1)\">\n       <defs>\n        <path id=\"DejaVuSans-33\" d=\"M 2597 2516 \nQ 3050 2419 3304 2112 \nQ 3559 1806 3559 1356 \nQ 3559 666 3084 287 \nQ 2609 -91 1734 -91 \nQ 1441 -91 1130 -33 \nQ 819 25 488 141 \nL 488 750 \nQ 750 597 1062 519 \nQ 1375 441 1716 441 \nQ 2309 441 2620 675 \nQ 2931 909 2931 1356 \nQ 2931 1769 2642 2001 \nQ 2353 2234 1838 2234 \nL 1294 2234 \nL 1294 2753 \nL 1863 2753 \nQ 2328 2753 2575 2939 \nQ 2822 3125 2822 3475 \nQ 2822 3834 2567 4026 \nQ 2313 4219 1838 4219 \nQ 1578 4219 1281 4162 \nQ 984 4106 628 3988 \nL 628 4550 \nQ 988 4650 1302 4700 \nQ 1616 4750 1894 4750 \nQ 2613 4750 3031 4423 \nQ 3450 4097 3450 3541 \nQ 3450 3153 3228 2886 \nQ 3006 2619 2597 2516 \nz\n\" transform=\"scale(0.015625)\"/>\n       </defs>\n       <use xlink:href=\"#DejaVuSans-33\"/>\n       <use xlink:href=\"#DejaVuSans-30\" x=\"63.623047\"/>\n      </g>\n     </g>\n    </g>\n    <g id=\"xtick_5\">\n     <g id=\"line2d_5\">\n      <g>\n       <use xlink:href=\"#m5f1db2a84c\" x=\"320.184543\" y=\"239.758125\" style=\"stroke: #000000; stroke-width: 0.8\"/>\n      </g>\n     </g>\n     <g id=\"text_5\">\n      <!-- 40 -->\n      <g transform=\"translate(313.822043 254.356562)scale(0.1 -0.1)\">\n       <defs>\n        <path id=\"DejaVuSans-34\" d=\"M 2419 4116 \nL 825 1625 \nL 2419 1625 \nL 2419 4116 \nz\nM 2253 4666 \nL 3047 4666 \nL 3047 1625 \nL 3713 1625 \nL 3713 1100 \nL 3047 1100 \nL 3047 0 \nL 2419 0 \nL 2419 1100 \nL 313 1100 \nL 313 1709 \nL 2253 4666 \nz\n\" transform=\"scale(0.015625)\"/>\n       </defs>\n       <use xlink:href=\"#DejaVuSans-34\"/>\n       <use xlink:href=\"#DejaVuSans-30\" x=\"63.623047\"/>\n      </g>\n     </g>\n    </g>\n    <g id=\"xtick_6\">\n     <g id=\"line2d_6\">\n      <g>\n       <use xlink:href=\"#m5f1db2a84c\" x=\"382.299571\" y=\"239.758125\" style=\"stroke: #000000; stroke-width: 0.8\"/>\n      </g>\n     </g>\n     <g id=\"text_6\">\n      <!-- 50 -->\n      <g transform=\"translate(375.937071 254.356562)scale(0.1 -0.1)\">\n       <defs>\n        <path id=\"DejaVuSans-35\" d=\"M 691 4666 \nL 3169 4666 \nL 3169 4134 \nL 1269 4134 \nL 1269 2991 \nQ 1406 3038 1543 3061 \nQ 1681 3084 1819 3084 \nQ 2600 3084 3056 2656 \nQ 3513 2228 3513 1497 \nQ 3513 744 3044 326 \nQ 2575 -91 1722 -91 \nQ 1428 -91 1123 -41 \nQ 819 9 494 109 \nL 494 744 \nQ 775 591 1075 516 \nQ 1375 441 1709 441 \nQ 2250 441 2565 725 \nQ 2881 1009 2881 1497 \nQ 2881 1984 2565 2268 \nQ 2250 2553 1709 2553 \nQ 1456 2553 1204 2497 \nQ 953 2441 691 2322 \nL 691 4666 \nz\n\" transform=\"scale(0.015625)\"/>\n       </defs>\n       <use xlink:href=\"#DejaVuSans-35\"/>\n       <use xlink:href=\"#DejaVuSans-30\" x=\"63.623047\"/>\n      </g>\n     </g>\n    </g>\n    <g id=\"text_7\">\n     <!-- Epochs -->\n     <g transform=\"translate(205.990625 268.034687)scale(0.1 -0.1)\">\n      <defs>\n       <path id=\"DejaVuSans-45\" d=\"M 628 4666 \nL 3578 4666 \nL 3578 4134 \nL 1259 4134 \nL 1259 2753 \nL 3481 2753 \nL 3481 2222 \nL 1259 2222 \nL 1259 531 \nL 3634 531 \nL 3634 0 \nL 628 0 \nL 628 4666 \nz\n\" transform=\"scale(0.015625)\"/>\n       <path id=\"DejaVuSans-70\" d=\"M 1159 525 \nL 1159 -1331 \nL 581 -1331 \nL 581 3500 \nL 1159 3500 \nL 1159 2969 \nQ 1341 3281 1617 3432 \nQ 1894 3584 2278 3584 \nQ 2916 3584 3314 3078 \nQ 3713 2572 3713 1747 \nQ 3713 922 3314 415 \nQ 2916 -91 2278 -91 \nQ 1894 -91 1617 61 \nQ 1341 213 1159 525 \nz\nM 3116 1747 \nQ 3116 2381 2855 2742 \nQ 2594 3103 2138 3103 \nQ 1681 3103 1420 2742 \nQ 1159 2381 1159 1747 \nQ 1159 1113 1420 752 \nQ 1681 391 2138 391 \nQ 2594 391 2855 752 \nQ 3116 1113 3116 1747 \nz\n\" transform=\"scale(0.015625)\"/>\n       <path id=\"DejaVuSans-6f\" d=\"M 1959 3097 \nQ 1497 3097 1228 2736 \nQ 959 2375 959 1747 \nQ 959 1119 1226 758 \nQ 1494 397 1959 397 \nQ 2419 397 2687 759 \nQ 2956 1122 2956 1747 \nQ 2956 2369 2687 2733 \nQ 2419 3097 1959 3097 \nz\nM 1959 3584 \nQ 2709 3584 3137 3096 \nQ 3566 2609 3566 1747 \nQ 3566 888 3137 398 \nQ 2709 -91 1959 -91 \nQ 1206 -91 779 398 \nQ 353 888 353 1747 \nQ 353 2609 779 3096 \nQ 1206 3584 1959 3584 \nz\n\" transform=\"scale(0.015625)\"/>\n       <path id=\"DejaVuSans-63\" d=\"M 3122 3366 \nL 3122 2828 \nQ 2878 2963 2633 3030 \nQ 2388 3097 2138 3097 \nQ 1578 3097 1268 2742 \nQ 959 2388 959 1747 \nQ 959 1106 1268 751 \nQ 1578 397 2138 397 \nQ 2388 397 2633 464 \nQ 2878 531 3122 666 \nL 3122 134 \nQ 2881 22 2623 -34 \nQ 2366 -91 2075 -91 \nQ 1284 -91 818 406 \nQ 353 903 353 1747 \nQ 353 2603 823 3093 \nQ 1294 3584 2113 3584 \nQ 2378 3584 2631 3529 \nQ 2884 3475 3122 3366 \nz\n\" transform=\"scale(0.015625)\"/>\n       <path id=\"DejaVuSans-68\" d=\"M 3513 2113 \nL 3513 0 \nL 2938 0 \nL 2938 2094 \nQ 2938 2591 2744 2837 \nQ 2550 3084 2163 3084 \nQ 1697 3084 1428 2787 \nQ 1159 2491 1159 1978 \nL 1159 0 \nL 581 0 \nL 581 4863 \nL 1159 4863 \nL 1159 2956 \nQ 1366 3272 1645 3428 \nQ 1925 3584 2291 3584 \nQ 2894 3584 3203 3211 \nQ 3513 2838 3513 2113 \nz\n\" transform=\"scale(0.015625)\"/>\n       <path id=\"DejaVuSans-73\" d=\"M 2834 3397 \nL 2834 2853 \nQ 2591 2978 2328 3040 \nQ 2066 3103 1784 3103 \nQ 1356 3103 1142 2972 \nQ 928 2841 928 2578 \nQ 928 2378 1081 2264 \nQ 1234 2150 1697 2047 \nL 1894 2003 \nQ 2506 1872 2764 1633 \nQ 3022 1394 3022 966 \nQ 3022 478 2636 193 \nQ 2250 -91 1575 -91 \nQ 1294 -91 989 -36 \nQ 684 19 347 128 \nL 347 722 \nQ 666 556 975 473 \nQ 1284 391 1588 391 \nQ 1994 391 2212 530 \nQ 2431 669 2431 922 \nQ 2431 1156 2273 1281 \nQ 2116 1406 1581 1522 \nL 1381 1569 \nQ 847 1681 609 1914 \nQ 372 2147 372 2553 \nQ 372 3047 722 3315 \nQ 1072 3584 1716 3584 \nQ 2034 3584 2315 3537 \nQ 2597 3491 2834 3397 \nz\n\" transform=\"scale(0.015625)\"/>\n      </defs>\n      <use xlink:href=\"#DejaVuSans-45\"/>\n      <use xlink:href=\"#DejaVuSans-70\" x=\"63.183594\"/>\n      <use xlink:href=\"#DejaVuSans-6f\" x=\"126.660156\"/>\n      <use xlink:href=\"#DejaVuSans-63\" x=\"187.841797\"/>\n      <use xlink:href=\"#DejaVuSans-68\" x=\"242.822266\"/>\n      <use xlink:href=\"#DejaVuSans-73\" x=\"306.201172\"/>\n     </g>\n    </g>\n   </g>\n   <g id=\"matplotlib.axis_2\">\n    <g id=\"ytick_1\">\n     <g id=\"line2d_7\">\n      <defs>\n       <path id=\"mc225ec8b85\" d=\"M 0 0 \nL -3.5 0 \n\" style=\"stroke: #000000; stroke-width: 0.8\"/>\n      </defs>\n      <g>\n       <use xlink:href=\"#mc225ec8b85\" x=\"56.50625\" y=\"205.005446\" style=\"stroke: #000000; stroke-width: 0.8\"/>\n      </g>\n     </g>\n     <g id=\"text_8\">\n      <!-- 0.720 -->\n      <g transform=\"translate(20.878125 208.804665)scale(0.1 -0.1)\">\n       <defs>\n        <path id=\"DejaVuSans-2e\" d=\"M 684 794 \nL 1344 794 \nL 1344 0 \nL 684 0 \nL 684 794 \nz\n\" transform=\"scale(0.015625)\"/>\n        <path id=\"DejaVuSans-37\" d=\"M 525 4666 \nL 3525 4666 \nL 3525 4397 \nL 1831 0 \nL 1172 0 \nL 2766 4134 \nL 525 4134 \nL 525 4666 \nz\n\" transform=\"scale(0.015625)\"/>\n       </defs>\n       <use xlink:href=\"#DejaVuSans-30\"/>\n       <use xlink:href=\"#DejaVuSans-2e\" x=\"63.623047\"/>\n       <use xlink:href=\"#DejaVuSans-37\" x=\"95.410156\"/>\n       <use xlink:href=\"#DejaVuSans-32\" x=\"159.033203\"/>\n       <use xlink:href=\"#DejaVuSans-30\" x=\"222.65625\"/>\n      </g>\n     </g>\n    </g>\n    <g id=\"ytick_2\">\n     <g id=\"line2d_8\">\n      <g>\n       <use xlink:href=\"#mc225ec8b85\" x=\"56.50625\" y=\"166.129774\" style=\"stroke: #000000; stroke-width: 0.8\"/>\n      </g>\n     </g>\n     <g id=\"text_9\">\n      <!-- 0.725 -->\n      <g transform=\"translate(20.878125 169.928993)scale(0.1 -0.1)\">\n       <use xlink:href=\"#DejaVuSans-30\"/>\n       <use xlink:href=\"#DejaVuSans-2e\" x=\"63.623047\"/>\n       <use xlink:href=\"#DejaVuSans-37\" x=\"95.410156\"/>\n       <use xlink:href=\"#DejaVuSans-32\" x=\"159.033203\"/>\n       <use xlink:href=\"#DejaVuSans-35\" x=\"222.65625\"/>\n      </g>\n     </g>\n    </g>\n    <g id=\"ytick_3\">\n     <g id=\"line2d_9\">\n      <g>\n       <use xlink:href=\"#mc225ec8b85\" x=\"56.50625\" y=\"127.254102\" style=\"stroke: #000000; stroke-width: 0.8\"/>\n      </g>\n     </g>\n     <g id=\"text_10\">\n      <!-- 0.730 -->\n      <g transform=\"translate(20.878125 131.053321)scale(0.1 -0.1)\">\n       <use xlink:href=\"#DejaVuSans-30\"/>\n       <use xlink:href=\"#DejaVuSans-2e\" x=\"63.623047\"/>\n       <use xlink:href=\"#DejaVuSans-37\" x=\"95.410156\"/>\n       <use xlink:href=\"#DejaVuSans-33\" x=\"159.033203\"/>\n       <use xlink:href=\"#DejaVuSans-30\" x=\"222.65625\"/>\n      </g>\n     </g>\n    </g>\n    <g id=\"ytick_4\">\n     <g id=\"line2d_10\">\n      <g>\n       <use xlink:href=\"#mc225ec8b85\" x=\"56.50625\" y=\"88.37843\" style=\"stroke: #000000; stroke-width: 0.8\"/>\n      </g>\n     </g>\n     <g id=\"text_11\">\n      <!-- 0.735 -->\n      <g transform=\"translate(20.878125 92.177649)scale(0.1 -0.1)\">\n       <use xlink:href=\"#DejaVuSans-30\"/>\n       <use xlink:href=\"#DejaVuSans-2e\" x=\"63.623047\"/>\n       <use xlink:href=\"#DejaVuSans-37\" x=\"95.410156\"/>\n       <use xlink:href=\"#DejaVuSans-33\" x=\"159.033203\"/>\n       <use xlink:href=\"#DejaVuSans-35\" x=\"222.65625\"/>\n      </g>\n     </g>\n    </g>\n    <g id=\"ytick_5\">\n     <g id=\"line2d_11\">\n      <g>\n       <use xlink:href=\"#mc225ec8b85\" x=\"56.50625\" y=\"49.502758\" style=\"stroke: #000000; stroke-width: 0.8\"/>\n      </g>\n     </g>\n     <g id=\"text_12\">\n      <!-- 0.740 -->\n      <g transform=\"translate(20.878125 53.301977)scale(0.1 -0.1)\">\n       <use xlink:href=\"#DejaVuSans-30\"/>\n       <use xlink:href=\"#DejaVuSans-2e\" x=\"63.623047\"/>\n       <use xlink:href=\"#DejaVuSans-37\" x=\"95.410156\"/>\n       <use xlink:href=\"#DejaVuSans-34\" x=\"159.033203\"/>\n       <use xlink:href=\"#DejaVuSans-30\" x=\"222.65625\"/>\n      </g>\n     </g>\n    </g>\n    <g id=\"text_13\">\n     <!-- Accuracy -->\n     <g transform=\"translate(14.798437 153.86625)rotate(-90)scale(0.1 -0.1)\">\n      <defs>\n       <path id=\"DejaVuSans-41\" d=\"M 2188 4044 \nL 1331 1722 \nL 3047 1722 \nL 2188 4044 \nz\nM 1831 4666 \nL 2547 4666 \nL 4325 0 \nL 3669 0 \nL 3244 1197 \nL 1141 1197 \nL 716 0 \nL 50 0 \nL 1831 4666 \nz\n\" transform=\"scale(0.015625)\"/>\n       <path id=\"DejaVuSans-75\" d=\"M 544 1381 \nL 544 3500 \nL 1119 3500 \nL 1119 1403 \nQ 1119 906 1312 657 \nQ 1506 409 1894 409 \nQ 2359 409 2629 706 \nQ 2900 1003 2900 1516 \nL 2900 3500 \nL 3475 3500 \nL 3475 0 \nL 2900 0 \nL 2900 538 \nQ 2691 219 2414 64 \nQ 2138 -91 1772 -91 \nQ 1169 -91 856 284 \nQ 544 659 544 1381 \nz\nM 1991 3584 \nL 1991 3584 \nz\n\" transform=\"scale(0.015625)\"/>\n       <path id=\"DejaVuSans-72\" d=\"M 2631 2963 \nQ 2534 3019 2420 3045 \nQ 2306 3072 2169 3072 \nQ 1681 3072 1420 2755 \nQ 1159 2438 1159 1844 \nL 1159 0 \nL 581 0 \nL 581 3500 \nL 1159 3500 \nL 1159 2956 \nQ 1341 3275 1631 3429 \nQ 1922 3584 2338 3584 \nQ 2397 3584 2469 3576 \nQ 2541 3569 2628 3553 \nL 2631 2963 \nz\n\" transform=\"scale(0.015625)\"/>\n       <path id=\"DejaVuSans-61\" d=\"M 2194 1759 \nQ 1497 1759 1228 1600 \nQ 959 1441 959 1056 \nQ 959 750 1161 570 \nQ 1363 391 1709 391 \nQ 2188 391 2477 730 \nQ 2766 1069 2766 1631 \nL 2766 1759 \nL 2194 1759 \nz\nM 3341 1997 \nL 3341 0 \nL 2766 0 \nL 2766 531 \nQ 2569 213 2275 61 \nQ 1981 -91 1556 -91 \nQ 1019 -91 701 211 \nQ 384 513 384 1019 \nQ 384 1609 779 1909 \nQ 1175 2209 1959 2209 \nL 2766 2209 \nL 2766 2266 \nQ 2766 2663 2505 2880 \nQ 2244 3097 1772 3097 \nQ 1472 3097 1187 3025 \nQ 903 2953 641 2809 \nL 641 3341 \nQ 956 3463 1253 3523 \nQ 1550 3584 1831 3584 \nQ 2591 3584 2966 3190 \nQ 3341 2797 3341 1997 \nz\n\" transform=\"scale(0.015625)\"/>\n       <path id=\"DejaVuSans-79\" d=\"M 2059 -325 \nQ 1816 -950 1584 -1140 \nQ 1353 -1331 966 -1331 \nL 506 -1331 \nL 506 -850 \nL 844 -850 \nQ 1081 -850 1212 -737 \nQ 1344 -625 1503 -206 \nL 1606 56 \nL 191 3500 \nL 800 3500 \nL 1894 763 \nL 2988 3500 \nL 3597 3500 \nL 2059 -325 \nz\n\" transform=\"scale(0.015625)\"/>\n      </defs>\n      <use xlink:href=\"#DejaVuSans-41\"/>\n      <use xlink:href=\"#DejaVuSans-63\" x=\"66.658203\"/>\n      <use xlink:href=\"#DejaVuSans-63\" x=\"121.638672\"/>\n      <use xlink:href=\"#DejaVuSans-75\" x=\"176.619141\"/>\n      <use xlink:href=\"#DejaVuSans-72\" x=\"239.998047\"/>\n      <use xlink:href=\"#DejaVuSans-61\" x=\"281.111328\"/>\n      <use xlink:href=\"#DejaVuSans-63\" x=\"342.390625\"/>\n      <use xlink:href=\"#DejaVuSans-79\" x=\"397.371094\"/>\n     </g>\n    </g>\n   </g>\n   <g id=\"line2d_12\">\n    <path d=\"M 71.724432 222.620354 \nL 77.935935 122.272964 \nL 84.147437 124.38854 \nL 90.35894 101.114879 \nL 96.570443 107.160377 \nL 102.781946 95.976785 \nL 108.993449 97.185884 \nL 115.204951 95.372467 \nL 121.416454 87.513551 \nL 127.627957 92.652108 \nL 133.83946 86.909233 \nL 140.050962 81.771139 \nL 146.262465 84.491033 \nL 152.473968 76.028263 \nL 158.685471 75.423481 \nL 164.896974 65.449452 \nL 171.108476 71.192328 \nL 177.319979 66.05377 \nL 183.531482 60.613517 \nL 189.742985 61.519994 \nL 195.954487 61.217835 \nL 202.16599 59.404417 \nL 208.377493 55.777119 \nL 214.588996 57.591 \nL 220.800499 50.639025 \nL 227.012001 58.497477 \nL 233.223504 52.150283 \nL 239.435007 59.404417 \nL 245.64651 58.195318 \nL 251.858013 58.799636 \nL 258.069515 43.687049 \nL 264.281018 51.243343 \nL 270.492521 48.523448 \nL 276.704024 50.639025 \nL 282.915526 52.754601 \nL 289.127029 47.616507 \nL 295.338532 44.59399 \nL 301.550035 47.616507 \nL 307.761538 45.803089 \nL 313.97304 42.478413 \nL 320.184543 47.314348 \nL 326.396046 37.339855 \nL 332.607549 40.060214 \nL 338.819051 39.455896 \nL 345.030554 44.59399 \nL 351.242057 42.780572 \nL 357.45356 39.758055 \nL 363.665063 48.825607 \nL 369.876565 37.642015 \nL 376.088068 39.455896 \n\" clip-path=\"url(#p11a6d24b37)\" style=\"fill: none; stroke: #1f77b4; stroke-width: 1.5; stroke-linecap: square\"/>\n   </g>\n   <g id=\"line2d_13\">\n    <path d=\"M 71.724432 229.874489 \nL 77.935935 135.26951 \nL 84.147437 126.504117 \nL 90.35894 108.973795 \nL 96.570443 99.301461 \nL 102.781946 100.510561 \nL 108.993449 90.233909 \nL 115.204951 88.420491 \nL 121.416454 86.909233 \nL 127.627957 92.349949 \nL 133.83946 79.352939 \nL 140.050962 83.886715 \nL 146.262465 71.192328 \nL 152.473968 75.423481 \nL 158.685471 66.05377 \nL 164.896974 62.729094 \nL 171.108476 62.124776 \nL 177.319979 66.658552 \nL 183.531482 66.960711 \nL 189.742985 58.195318 \nL 195.954487 56.684059 \nL 202.16599 57.893159 \nL 208.377493 54.568482 \nL 214.588996 51.848124 \nL 220.800499 52.754601 \nL 227.012001 56.986218 \nL 233.223504 55.777119 \nL 239.435007 56.684059 \nL 245.64651 50.941184 \nL 251.858013 49.429925 \nL 258.069515 56.986218 \nL 264.281018 45.50093 \nL 270.492521 51.545965 \nL 276.704024 52.150283 \nL 282.915526 47.314348 \nL 289.127029 52.150283 \nL 295.338532 42.175791 \nL 301.550035 42.780572 \nL 307.761538 48.825607 \nL 313.97304 45.198308 \nL 320.184543 55.47496 \nL 326.396046 46.407408 \nL 332.607549 43.687049 \nL 338.819051 40.664532 \nL 345.030554 38.548955 \nL 351.242057 43.38489 \nL 357.45356 39.758055 \nL 363.665063 42.780572 \nL 369.876565 40.060214 \nL 376.088068 40.664532 \n\" clip-path=\"url(#p11a6d24b37)\" style=\"fill: none; stroke: #ff7f0e; stroke-width: 1.5; stroke-linecap: square\"/>\n   </g>\n   <g id=\"line2d_14\">\n    <path d=\"M 71.724432 190.581763 \nL 77.935935 129.829257 \nL 84.147437 110.182894 \nL 90.35894 99.301461 \nL 96.570443 100.510561 \nL 102.781946 92.954267 \nL 108.993449 84.491033 \nL 115.204951 84.491033 \nL 121.416454 77.841681 \nL 127.627957 83.282397 \nL 133.83946 79.352939 \nL 140.050962 71.192328 \nL 146.262465 82.979775 \nL 152.473968 73.005746 \nL 158.685471 70.889705 \nL 164.896974 66.355929 \nL 171.108476 64.542512 \nL 177.319979 70.889705 \nL 183.531482 57.288377 \nL 189.742985 57.591 \nL 195.954487 56.079741 \nL 202.16599 49.732084 \nL 208.377493 57.288377 \nL 214.588996 53.057224 \nL 220.800499 52.452442 \nL 227.012001 46.709567 \nL 233.223504 42.780572 \nL 239.435007 48.523448 \nL 245.64651 49.732084 \nL 251.858013 51.848124 \nL 258.069515 43.989672 \nL 264.281018 40.967154 \nL 270.492521 40.967154 \nL 276.704024 40.664532 \nL 282.915526 42.478413 \nL 289.127029 40.664532 \nL 295.338532 37.642015 \nL 301.550035 37.944637 \nL 307.761538 40.362373 \nL 313.97304 43.989672 \nL 320.184543 40.362373 \nL 326.396046 39.455896 \nL 332.607549 37.642015 \nL 338.819051 40.362373 \nL 345.030554 40.362373 \nL 351.242057 32.201761 \nL 357.45356 40.060214 \nL 363.665063 40.967154 \nL 369.876565 36.432915 \nL 376.088068 39.455896 \n\" clip-path=\"url(#p11a6d24b37)\" style=\"fill: none; stroke: #2ca02c; stroke-width: 1.5; stroke-linecap: square\"/>\n   </g>\n   <g id=\"line2d_15\">\n    <path d=\"M 71.724432 224.131613 \nL 77.935935 127.713217 \nL 84.147437 127.411058 \nL 90.35894 118.041347 \nL 96.570443 109.880272 \nL 102.781946 104.440019 \nL 108.993449 100.208402 \nL 115.204951 92.349949 \nL 121.416454 92.652108 \nL 127.627957 94.163367 \nL 133.83946 87.513551 \nL 140.050962 95.372467 \nL 146.262465 87.513551 \nL 152.473968 91.745168 \nL 158.685471 82.375457 \nL 164.896974 84.793656 \nL 171.108476 75.423481 \nL 177.319979 82.375457 \nL 183.531482 69.681069 \nL 189.742985 77.539522 \nL 195.954487 67.867188 \nL 202.16599 75.423481 \nL 208.377493 76.028263 \nL 214.588996 67.565029 \nL 220.800499 72.400964 \nL 227.012001 68.16981 \nL 233.223504 60.310895 \nL 239.435007 70.587546 \nL 245.64651 61.519994 \nL 251.858013 62.124776 \nL 258.069515 60.915676 \nL 264.281018 63.333412 \nL 270.492521 58.195318 \nL 276.704024 58.799636 \nL 282.915526 61.217835 \nL 289.127029 56.986218 \nL 295.338532 67.867188 \nL 301.550035 63.636034 \nL 307.761538 54.26586 \nL 313.97304 50.941184 \nL 320.184543 58.195318 \nL 326.396046 70.889705 \nL 332.607549 60.310895 \nL 338.819051 65.751611 \nL 345.030554 57.591 \nL 351.242057 46.709567 \nL 357.45356 49.127766 \nL 363.665063 55.47496 \nL 369.876565 55.47496 \nL 376.088068 54.870641 \n\" clip-path=\"url(#p11a6d24b37)\" style=\"fill: none; stroke: #d62728; stroke-width: 1.5; stroke-linecap: square\"/>\n   </g>\n   <g id=\"patch_3\">\n    <path d=\"M 56.50625 239.758125 \nL 56.50625 22.318125 \n\" style=\"fill: none; stroke: #000000; stroke-width: 0.8; stroke-linejoin: miter; stroke-linecap: square\"/>\n   </g>\n   <g id=\"patch_4\">\n    <path d=\"M 391.30625 239.758125 \nL 391.30625 22.318125 \n\" style=\"fill: none; stroke: #000000; stroke-width: 0.8; stroke-linejoin: miter; stroke-linecap: square\"/>\n   </g>\n   <g id=\"patch_5\">\n    <path d=\"M 56.50625 239.758125 \nL 391.30625 239.758125 \n\" style=\"fill: none; stroke: #000000; stroke-width: 0.8; stroke-linejoin: miter; stroke-linecap: square\"/>\n   </g>\n   <g id=\"patch_6\">\n    <path d=\"M 56.50625 22.318125 \nL 391.30625 22.318125 \n\" style=\"fill: none; stroke: #000000; stroke-width: 0.8; stroke-linejoin: miter; stroke-linecap: square\"/>\n   </g>\n   <g id=\"text_14\">\n    <!-- Accuracy Function: Training vs Testing -->\n    <g transform=\"translate(109.905313 16.318125)scale(0.12 -0.12)\">\n     <defs>\n      <path id=\"DejaVuSans-20\" transform=\"scale(0.015625)\"/>\n      <path id=\"DejaVuSans-46\" d=\"M 628 4666 \nL 3309 4666 \nL 3309 4134 \nL 1259 4134 \nL 1259 2759 \nL 3109 2759 \nL 3109 2228 \nL 1259 2228 \nL 1259 0 \nL 628 0 \nL 628 4666 \nz\n\" transform=\"scale(0.015625)\"/>\n      <path id=\"DejaVuSans-6e\" d=\"M 3513 2113 \nL 3513 0 \nL 2938 0 \nL 2938 2094 \nQ 2938 2591 2744 2837 \nQ 2550 3084 2163 3084 \nQ 1697 3084 1428 2787 \nQ 1159 2491 1159 1978 \nL 1159 0 \nL 581 0 \nL 581 3500 \nL 1159 3500 \nL 1159 2956 \nQ 1366 3272 1645 3428 \nQ 1925 3584 2291 3584 \nQ 2894 3584 3203 3211 \nQ 3513 2838 3513 2113 \nz\n\" transform=\"scale(0.015625)\"/>\n      <path id=\"DejaVuSans-74\" d=\"M 1172 4494 \nL 1172 3500 \nL 2356 3500 \nL 2356 3053 \nL 1172 3053 \nL 1172 1153 \nQ 1172 725 1289 603 \nQ 1406 481 1766 481 \nL 2356 481 \nL 2356 0 \nL 1766 0 \nQ 1100 0 847 248 \nQ 594 497 594 1153 \nL 594 3053 \nL 172 3053 \nL 172 3500 \nL 594 3500 \nL 594 4494 \nL 1172 4494 \nz\n\" transform=\"scale(0.015625)\"/>\n      <path id=\"DejaVuSans-69\" d=\"M 603 3500 \nL 1178 3500 \nL 1178 0 \nL 603 0 \nL 603 3500 \nz\nM 603 4863 \nL 1178 4863 \nL 1178 4134 \nL 603 4134 \nL 603 4863 \nz\n\" transform=\"scale(0.015625)\"/>\n      <path id=\"DejaVuSans-3a\" d=\"M 750 794 \nL 1409 794 \nL 1409 0 \nL 750 0 \nL 750 794 \nz\nM 750 3309 \nL 1409 3309 \nL 1409 2516 \nL 750 2516 \nL 750 3309 \nz\n\" transform=\"scale(0.015625)\"/>\n      <path id=\"DejaVuSans-54\" d=\"M -19 4666 \nL 3928 4666 \nL 3928 4134 \nL 2272 4134 \nL 2272 0 \nL 1638 0 \nL 1638 4134 \nL -19 4134 \nL -19 4666 \nz\n\" transform=\"scale(0.015625)\"/>\n      <path id=\"DejaVuSans-67\" d=\"M 2906 1791 \nQ 2906 2416 2648 2759 \nQ 2391 3103 1925 3103 \nQ 1463 3103 1205 2759 \nQ 947 2416 947 1791 \nQ 947 1169 1205 825 \nQ 1463 481 1925 481 \nQ 2391 481 2648 825 \nQ 2906 1169 2906 1791 \nz\nM 3481 434 \nQ 3481 -459 3084 -895 \nQ 2688 -1331 1869 -1331 \nQ 1566 -1331 1297 -1286 \nQ 1028 -1241 775 -1147 \nL 775 -588 \nQ 1028 -725 1275 -790 \nQ 1522 -856 1778 -856 \nQ 2344 -856 2625 -561 \nQ 2906 -266 2906 331 \nL 2906 616 \nQ 2728 306 2450 153 \nQ 2172 0 1784 0 \nQ 1141 0 747 490 \nQ 353 981 353 1791 \nQ 353 2603 747 3093 \nQ 1141 3584 1784 3584 \nQ 2172 3584 2450 3431 \nQ 2728 3278 2906 2969 \nL 2906 3500 \nL 3481 3500 \nL 3481 434 \nz\n\" transform=\"scale(0.015625)\"/>\n      <path id=\"DejaVuSans-76\" d=\"M 191 3500 \nL 800 3500 \nL 1894 563 \nL 2988 3500 \nL 3597 3500 \nL 2284 0 \nL 1503 0 \nL 191 3500 \nz\n\" transform=\"scale(0.015625)\"/>\n      <path id=\"DejaVuSans-65\" d=\"M 3597 1894 \nL 3597 1613 \nL 953 1613 \nQ 991 1019 1311 708 \nQ 1631 397 2203 397 \nQ 2534 397 2845 478 \nQ 3156 559 3463 722 \nL 3463 178 \nQ 3153 47 2828 -22 \nQ 2503 -91 2169 -91 \nQ 1331 -91 842 396 \nQ 353 884 353 1716 \nQ 353 2575 817 3079 \nQ 1281 3584 2069 3584 \nQ 2775 3584 3186 3129 \nQ 3597 2675 3597 1894 \nz\nM 3022 2063 \nQ 3016 2534 2758 2815 \nQ 2500 3097 2075 3097 \nQ 1594 3097 1305 2825 \nQ 1016 2553 972 2059 \nL 3022 2063 \nz\n\" transform=\"scale(0.015625)\"/>\n     </defs>\n     <use xlink:href=\"#DejaVuSans-41\"/>\n     <use xlink:href=\"#DejaVuSans-63\" x=\"66.658203\"/>\n     <use xlink:href=\"#DejaVuSans-63\" x=\"121.638672\"/>\n     <use xlink:href=\"#DejaVuSans-75\" x=\"176.619141\"/>\n     <use xlink:href=\"#DejaVuSans-72\" x=\"239.998047\"/>\n     <use xlink:href=\"#DejaVuSans-61\" x=\"281.111328\"/>\n     <use xlink:href=\"#DejaVuSans-63\" x=\"342.390625\"/>\n     <use xlink:href=\"#DejaVuSans-79\" x=\"397.371094\"/>\n     <use xlink:href=\"#DejaVuSans-20\" x=\"456.550781\"/>\n     <use xlink:href=\"#DejaVuSans-46\" x=\"488.337891\"/>\n     <use xlink:href=\"#DejaVuSans-75\" x=\"540.357422\"/>\n     <use xlink:href=\"#DejaVuSans-6e\" x=\"603.736328\"/>\n     <use xlink:href=\"#DejaVuSans-63\" x=\"667.115234\"/>\n     <use xlink:href=\"#DejaVuSans-74\" x=\"722.095703\"/>\n     <use xlink:href=\"#DejaVuSans-69\" x=\"761.304688\"/>\n     <use xlink:href=\"#DejaVuSans-6f\" x=\"789.087891\"/>\n     <use xlink:href=\"#DejaVuSans-6e\" x=\"850.269531\"/>\n     <use xlink:href=\"#DejaVuSans-3a\" x=\"913.648438\"/>\n     <use xlink:href=\"#DejaVuSans-20\" x=\"947.339844\"/>\n     <use xlink:href=\"#DejaVuSans-54\" x=\"979.126953\"/>\n     <use xlink:href=\"#DejaVuSans-72\" x=\"1025.460938\"/>\n     <use xlink:href=\"#DejaVuSans-61\" x=\"1066.574219\"/>\n     <use xlink:href=\"#DejaVuSans-69\" x=\"1127.853516\"/>\n     <use xlink:href=\"#DejaVuSans-6e\" x=\"1155.636719\"/>\n     <use xlink:href=\"#DejaVuSans-69\" x=\"1219.015625\"/>\n     <use xlink:href=\"#DejaVuSans-6e\" x=\"1246.798828\"/>\n     <use xlink:href=\"#DejaVuSans-67\" x=\"1310.177734\"/>\n     <use xlink:href=\"#DejaVuSans-20\" x=\"1373.654297\"/>\n     <use xlink:href=\"#DejaVuSans-76\" x=\"1405.441406\"/>\n     <use xlink:href=\"#DejaVuSans-73\" x=\"1464.621094\"/>\n     <use xlink:href=\"#DejaVuSans-20\" x=\"1516.720703\"/>\n     <use xlink:href=\"#DejaVuSans-54\" x=\"1548.507812\"/>\n     <use xlink:href=\"#DejaVuSans-65\" x=\"1592.591797\"/>\n     <use xlink:href=\"#DejaVuSans-73\" x=\"1654.115234\"/>\n     <use xlink:href=\"#DejaVuSans-74\" x=\"1706.214844\"/>\n     <use xlink:href=\"#DejaVuSans-69\" x=\"1745.423828\"/>\n     <use xlink:href=\"#DejaVuSans-6e\" x=\"1773.207031\"/>\n     <use xlink:href=\"#DejaVuSans-67\" x=\"1836.585938\"/>\n    </g>\n   </g>\n   <g id=\"legend_1\">\n    <g id=\"patch_7\">\n     <path d=\"M 229.357812 234.758125 \nL 384.30625 234.758125 \nQ 386.30625 234.758125 386.30625 232.758125 \nL 386.30625 175.045625 \nQ 386.30625 173.045625 384.30625 173.045625 \nL 229.357812 173.045625 \nQ 227.357812 173.045625 227.357812 175.045625 \nL 227.357812 232.758125 \nQ 227.357812 234.758125 229.357812 234.758125 \nz\n\" style=\"fill: #ffffff; opacity: 0.8; stroke: #cccccc; stroke-linejoin: miter\"/>\n    </g>\n    <g id=\"line2d_16\">\n     <path d=\"M 231.357812 181.144062 \nL 241.357812 181.144062 \nL 251.357812 181.144062 \n\" style=\"fill: none; stroke: #1f77b4; stroke-width: 1.5; stroke-linecap: square\"/>\n    </g>\n    <g id=\"text_15\">\n     <!-- Original Model -->\n     <g transform=\"translate(259.357813 184.644062)scale(0.1 -0.1)\">\n      <defs>\n       <path id=\"DejaVuSans-4f\" d=\"M 2522 4238 \nQ 1834 4238 1429 3725 \nQ 1025 3213 1025 2328 \nQ 1025 1447 1429 934 \nQ 1834 422 2522 422 \nQ 3209 422 3611 934 \nQ 4013 1447 4013 2328 \nQ 4013 3213 3611 3725 \nQ 3209 4238 2522 4238 \nz\nM 2522 4750 \nQ 3503 4750 4090 4092 \nQ 4678 3434 4678 2328 \nQ 4678 1225 4090 567 \nQ 3503 -91 2522 -91 \nQ 1538 -91 948 565 \nQ 359 1222 359 2328 \nQ 359 3434 948 4092 \nQ 1538 4750 2522 4750 \nz\n\" transform=\"scale(0.015625)\"/>\n       <path id=\"DejaVuSans-6c\" d=\"M 603 4863 \nL 1178 4863 \nL 1178 0 \nL 603 0 \nL 603 4863 \nz\n\" transform=\"scale(0.015625)\"/>\n       <path id=\"DejaVuSans-4d\" d=\"M 628 4666 \nL 1569 4666 \nL 2759 1491 \nL 3956 4666 \nL 4897 4666 \nL 4897 0 \nL 4281 0 \nL 4281 4097 \nL 3078 897 \nL 2444 897 \nL 1241 4097 \nL 1241 0 \nL 628 0 \nL 628 4666 \nz\n\" transform=\"scale(0.015625)\"/>\n       <path id=\"DejaVuSans-64\" d=\"M 2906 2969 \nL 2906 4863 \nL 3481 4863 \nL 3481 0 \nL 2906 0 \nL 2906 525 \nQ 2725 213 2448 61 \nQ 2172 -91 1784 -91 \nQ 1150 -91 751 415 \nQ 353 922 353 1747 \nQ 353 2572 751 3078 \nQ 1150 3584 1784 3584 \nQ 2172 3584 2448 3432 \nQ 2725 3281 2906 2969 \nz\nM 947 1747 \nQ 947 1113 1208 752 \nQ 1469 391 1925 391 \nQ 2381 391 2643 752 \nQ 2906 1113 2906 1747 \nQ 2906 2381 2643 2742 \nQ 2381 3103 1925 3103 \nQ 1469 3103 1208 2742 \nQ 947 2381 947 1747 \nz\n\" transform=\"scale(0.015625)\"/>\n      </defs>\n      <use xlink:href=\"#DejaVuSans-4f\"/>\n      <use xlink:href=\"#DejaVuSans-72\" x=\"78.710938\"/>\n      <use xlink:href=\"#DejaVuSans-69\" x=\"119.824219\"/>\n      <use xlink:href=\"#DejaVuSans-67\" x=\"147.607422\"/>\n      <use xlink:href=\"#DejaVuSans-69\" x=\"211.083984\"/>\n      <use xlink:href=\"#DejaVuSans-6e\" x=\"238.867188\"/>\n      <use xlink:href=\"#DejaVuSans-61\" x=\"302.246094\"/>\n      <use xlink:href=\"#DejaVuSans-6c\" x=\"363.525391\"/>\n      <use xlink:href=\"#DejaVuSans-20\" x=\"391.308594\"/>\n      <use xlink:href=\"#DejaVuSans-4d\" x=\"423.095703\"/>\n      <use xlink:href=\"#DejaVuSans-6f\" x=\"509.375\"/>\n      <use xlink:href=\"#DejaVuSans-64\" x=\"570.556641\"/>\n      <use xlink:href=\"#DejaVuSans-65\" x=\"634.033203\"/>\n      <use xlink:href=\"#DejaVuSans-6c\" x=\"695.556641\"/>\n     </g>\n    </g>\n    <g id=\"line2d_17\">\n     <path d=\"M 231.357812 195.822187 \nL 241.357812 195.822187 \nL 251.357812 195.822187 \n\" style=\"fill: none; stroke: #ff7f0e; stroke-width: 1.5; stroke-linecap: square\"/>\n    </g>\n    <g id=\"text_16\">\n     <!-- AM1=(Increased Nodes) -->\n     <g transform=\"translate(259.357813 199.322187)scale(0.1 -0.1)\">\n      <defs>\n       <path id=\"DejaVuSans-3d\" d=\"M 678 2906 \nL 4684 2906 \nL 4684 2381 \nL 678 2381 \nL 678 2906 \nz\nM 678 1631 \nL 4684 1631 \nL 4684 1100 \nL 678 1100 \nL 678 1631 \nz\n\" transform=\"scale(0.015625)\"/>\n       <path id=\"DejaVuSans-28\" d=\"M 1984 4856 \nQ 1566 4138 1362 3434 \nQ 1159 2731 1159 2009 \nQ 1159 1288 1364 580 \nQ 1569 -128 1984 -844 \nL 1484 -844 \nQ 1016 -109 783 600 \nQ 550 1309 550 2009 \nQ 550 2706 781 3412 \nQ 1013 4119 1484 4856 \nL 1984 4856 \nz\n\" transform=\"scale(0.015625)\"/>\n       <path id=\"DejaVuSans-49\" d=\"M 628 4666 \nL 1259 4666 \nL 1259 0 \nL 628 0 \nL 628 4666 \nz\n\" transform=\"scale(0.015625)\"/>\n       <path id=\"DejaVuSans-4e\" d=\"M 628 4666 \nL 1478 4666 \nL 3547 763 \nL 3547 4666 \nL 4159 4666 \nL 4159 0 \nL 3309 0 \nL 1241 3903 \nL 1241 0 \nL 628 0 \nL 628 4666 \nz\n\" transform=\"scale(0.015625)\"/>\n       <path id=\"DejaVuSans-29\" d=\"M 513 4856 \nL 1013 4856 \nQ 1481 4119 1714 3412 \nQ 1947 2706 1947 2009 \nQ 1947 1309 1714 600 \nQ 1481 -109 1013 -844 \nL 513 -844 \nQ 928 -128 1133 580 \nQ 1338 1288 1338 2009 \nQ 1338 2731 1133 3434 \nQ 928 4138 513 4856 \nz\n\" transform=\"scale(0.015625)\"/>\n      </defs>\n      <use xlink:href=\"#DejaVuSans-41\"/>\n      <use xlink:href=\"#DejaVuSans-4d\" x=\"68.408203\"/>\n      <use xlink:href=\"#DejaVuSans-31\" x=\"154.6875\"/>\n      <use xlink:href=\"#DejaVuSans-3d\" x=\"218.310547\"/>\n      <use xlink:href=\"#DejaVuSans-28\" x=\"302.099609\"/>\n      <use xlink:href=\"#DejaVuSans-49\" x=\"341.113281\"/>\n      <use xlink:href=\"#DejaVuSans-6e\" x=\"370.605469\"/>\n      <use xlink:href=\"#DejaVuSans-63\" x=\"433.984375\"/>\n      <use xlink:href=\"#DejaVuSans-72\" x=\"488.964844\"/>\n      <use xlink:href=\"#DejaVuSans-65\" x=\"527.828125\"/>\n      <use xlink:href=\"#DejaVuSans-61\" x=\"589.351562\"/>\n      <use xlink:href=\"#DejaVuSans-73\" x=\"650.630859\"/>\n      <use xlink:href=\"#DejaVuSans-65\" x=\"702.730469\"/>\n      <use xlink:href=\"#DejaVuSans-64\" x=\"764.253906\"/>\n      <use xlink:href=\"#DejaVuSans-20\" x=\"827.730469\"/>\n      <use xlink:href=\"#DejaVuSans-4e\" x=\"859.517578\"/>\n      <use xlink:href=\"#DejaVuSans-6f\" x=\"934.322266\"/>\n      <use xlink:href=\"#DejaVuSans-64\" x=\"995.503906\"/>\n      <use xlink:href=\"#DejaVuSans-65\" x=\"1058.980469\"/>\n      <use xlink:href=\"#DejaVuSans-73\" x=\"1120.503906\"/>\n      <use xlink:href=\"#DejaVuSans-29\" x=\"1172.603516\"/>\n     </g>\n    </g>\n    <g id=\"line2d_18\">\n     <path d=\"M 231.357812 210.500312 \nL 241.357812 210.500312 \nL 251.357812 210.500312 \n\" style=\"fill: none; stroke: #2ca02c; stroke-width: 1.5; stroke-linecap: square\"/>\n    </g>\n    <g id=\"text_17\">\n     <!-- AM2=(Increased Layers) -->\n     <g transform=\"translate(259.357813 214.000312)scale(0.1 -0.1)\">\n      <defs>\n       <path id=\"DejaVuSans-4c\" d=\"M 628 4666 \nL 1259 4666 \nL 1259 531 \nL 3531 531 \nL 3531 0 \nL 628 0 \nL 628 4666 \nz\n\" transform=\"scale(0.015625)\"/>\n      </defs>\n      <use xlink:href=\"#DejaVuSans-41\"/>\n      <use xlink:href=\"#DejaVuSans-4d\" x=\"68.408203\"/>\n      <use xlink:href=\"#DejaVuSans-32\" x=\"154.6875\"/>\n      <use xlink:href=\"#DejaVuSans-3d\" x=\"218.310547\"/>\n      <use xlink:href=\"#DejaVuSans-28\" x=\"302.099609\"/>\n      <use xlink:href=\"#DejaVuSans-49\" x=\"341.113281\"/>\n      <use xlink:href=\"#DejaVuSans-6e\" x=\"370.605469\"/>\n      <use xlink:href=\"#DejaVuSans-63\" x=\"433.984375\"/>\n      <use xlink:href=\"#DejaVuSans-72\" x=\"488.964844\"/>\n      <use xlink:href=\"#DejaVuSans-65\" x=\"527.828125\"/>\n      <use xlink:href=\"#DejaVuSans-61\" x=\"589.351562\"/>\n      <use xlink:href=\"#DejaVuSans-73\" x=\"650.630859\"/>\n      <use xlink:href=\"#DejaVuSans-65\" x=\"702.730469\"/>\n      <use xlink:href=\"#DejaVuSans-64\" x=\"764.253906\"/>\n      <use xlink:href=\"#DejaVuSans-20\" x=\"827.730469\"/>\n      <use xlink:href=\"#DejaVuSans-4c\" x=\"859.517578\"/>\n      <use xlink:href=\"#DejaVuSans-61\" x=\"915.230469\"/>\n      <use xlink:href=\"#DejaVuSans-79\" x=\"976.509766\"/>\n      <use xlink:href=\"#DejaVuSans-65\" x=\"1035.689453\"/>\n      <use xlink:href=\"#DejaVuSans-72\" x=\"1097.212891\"/>\n      <use xlink:href=\"#DejaVuSans-73\" x=\"1138.326172\"/>\n      <use xlink:href=\"#DejaVuSans-29\" x=\"1190.425781\"/>\n     </g>\n    </g>\n    <g id=\"line2d_19\">\n     <path d=\"M 231.357812 225.178437 \nL 241.357812 225.178437 \nL 251.357812 225.178437 \n\" style=\"fill: none; stroke: #d62728; stroke-width: 1.5; stroke-linecap: square\"/>\n    </g>\n    <g id=\"text_18\">\n     <!-- AM3=(Leaky ReLU) -->\n     <g transform=\"translate(259.357813 228.678437)scale(0.1 -0.1)\">\n      <defs>\n       <path id=\"DejaVuSans-6b\" d=\"M 581 4863 \nL 1159 4863 \nL 1159 1991 \nL 2875 3500 \nL 3609 3500 \nL 1753 1863 \nL 3688 0 \nL 2938 0 \nL 1159 1709 \nL 1159 0 \nL 581 0 \nL 581 4863 \nz\n\" transform=\"scale(0.015625)\"/>\n       <path id=\"DejaVuSans-52\" d=\"M 2841 2188 \nQ 3044 2119 3236 1894 \nQ 3428 1669 3622 1275 \nL 4263 0 \nL 3584 0 \nL 2988 1197 \nQ 2756 1666 2539 1819 \nQ 2322 1972 1947 1972 \nL 1259 1972 \nL 1259 0 \nL 628 0 \nL 628 4666 \nL 2053 4666 \nQ 2853 4666 3247 4331 \nQ 3641 3997 3641 3322 \nQ 3641 2881 3436 2590 \nQ 3231 2300 2841 2188 \nz\nM 1259 4147 \nL 1259 2491 \nL 2053 2491 \nQ 2509 2491 2742 2702 \nQ 2975 2913 2975 3322 \nQ 2975 3731 2742 3939 \nQ 2509 4147 2053 4147 \nL 1259 4147 \nz\n\" transform=\"scale(0.015625)\"/>\n       <path id=\"DejaVuSans-55\" d=\"M 556 4666 \nL 1191 4666 \nL 1191 1831 \nQ 1191 1081 1462 751 \nQ 1734 422 2344 422 \nQ 2950 422 3222 751 \nQ 3494 1081 3494 1831 \nL 3494 4666 \nL 4128 4666 \nL 4128 1753 \nQ 4128 841 3676 375 \nQ 3225 -91 2344 -91 \nQ 1459 -91 1007 375 \nQ 556 841 556 1753 \nL 556 4666 \nz\n\" transform=\"scale(0.015625)\"/>\n      </defs>\n      <use xlink:href=\"#DejaVuSans-41\"/>\n      <use xlink:href=\"#DejaVuSans-4d\" x=\"68.408203\"/>\n      <use xlink:href=\"#DejaVuSans-33\" x=\"154.6875\"/>\n      <use xlink:href=\"#DejaVuSans-3d\" x=\"218.310547\"/>\n      <use xlink:href=\"#DejaVuSans-28\" x=\"302.099609\"/>\n      <use xlink:href=\"#DejaVuSans-4c\" x=\"341.113281\"/>\n      <use xlink:href=\"#DejaVuSans-65\" x=\"395.076172\"/>\n      <use xlink:href=\"#DejaVuSans-61\" x=\"456.599609\"/>\n      <use xlink:href=\"#DejaVuSans-6b\" x=\"517.878906\"/>\n      <use xlink:href=\"#DejaVuSans-79\" x=\"572.164062\"/>\n      <use xlink:href=\"#DejaVuSans-20\" x=\"631.34375\"/>\n      <use xlink:href=\"#DejaVuSans-52\" x=\"663.130859\"/>\n      <use xlink:href=\"#DejaVuSans-65\" x=\"728.113281\"/>\n      <use xlink:href=\"#DejaVuSans-4c\" x=\"789.636719\"/>\n      <use xlink:href=\"#DejaVuSans-55\" x=\"840.349609\"/>\n      <use xlink:href=\"#DejaVuSans-29\" x=\"913.542969\"/>\n     </g>\n    </g>\n   </g>\n  </g>\n </g>\n <defs>\n  <clipPath id=\"p11a6d24b37\">\n   <rect x=\"56.50625\" y=\"22.318125\" width=\"334.8\" height=\"217.44\"/>\n  </clipPath>\n </defs>\n</svg>\n",
      "text/plain": [
       "<Figure size 432x288 with 1 Axes>"
      ]
     },
     "metadata": {
      "needs_background": "light"
     },
     "output_type": "display_data"
    }
   ],
   "source": [
    "# Plot the accuracy function for the original model and the alternative models\n",
    "plt.plot(fit_model.history[\"accuracy\"])\n",
    "plt.plot(fit_model_A1.history[\"accuracy\"])\n",
    "plt.plot(fit_model_A2.history[\"accuracy\"])\n",
    "plt.plot(fit_model_A3.history[\"accuracy\"])\n",
    "plt.title (\"Accuracy Function: Training vs Testing\")\n",
    "plt.xlabel(\"Epochs\")\n",
    "plt.ylabel(\"Accuracy\")\n",
    "plt.legend([\"Original Model\", \"AM1=(Increased Nodes)\", \"AM2=(Increased Layers)\", \"AM3=(Leaky ReLU)\"])\n"
   ]
  },
  {
   "cell_type": "code",
   "execution_count": null,
   "metadata": {},
   "outputs": [],
   "source": [
    "# The loss function was best for the original model, but the accuracy function was best for the alternative model with the increased layers.  \n",
    "# The accuracy function for the original model was 0.73, and the accuracy function for the alternative model with the increased layers was 0.74.  \n",
    "# The accuracy function for the alternative model with the increased nodes was 0.73, and the accuracy function for the alternative model with the Leaky ReLU was 0.73.  \n",
    "# The accuracy function for the alternative model with the increased layers was the best, so I would recommend using that model.\n",
    "\n"
   ]
  },
  {
   "cell_type": "code",
   "execution_count": null,
   "metadata": {},
   "outputs": [],
   "source": []
  }
 ],
 "metadata": {
  "kernelspec": {
   "display_name": "Python 3.9.12 ('base')",
   "language": "python",
   "name": "python3"
  },
  "language_info": {
   "codemirror_mode": {
    "name": "ipython",
    "version": 3
   },
   "file_extension": ".py",
   "mimetype": "text/x-python",
   "name": "python",
   "nbconvert_exporter": "python",
   "pygments_lexer": "ipython3",
   "version": "3.9.12"
  },
  "vscode": {
   "interpreter": {
    "hash": "3d597f4c481aa0f25dceb95d2a0067e73c0966dcbd003d741d821a7208527ecf"
   }
  }
 },
 "nbformat": 4,
 "nbformat_minor": 4
}
